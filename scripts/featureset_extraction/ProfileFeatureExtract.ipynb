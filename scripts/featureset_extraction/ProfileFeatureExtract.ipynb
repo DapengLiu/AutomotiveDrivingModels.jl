{
 "cells": [
  {
   "cell_type": "code",
   "execution_count": 1,
   "metadata": {
    "collapsed": false
   },
   "outputs": [
    {
     "name": "stderr",
     "output_type": "stream",
     "text": [
      "INFO: Precompiling module AutomotiveDrivingModels...\n"
     ]
    }
   ],
   "source": [
    "using AutomotiveDrivingModels\n",
    "using ProfileView\n",
    "\n",
    "include(Pkg.dir(\"AutomotiveDrivingModels\", \"src\", \"io\", \"filesystem_utils.jl\"))\n",
    "const INCLUDE_FILE = Pkg.dir(\"AutomotiveDrivingModels\", \"scripts\", \"extract_params.jl\")\n",
    "include(INCLUDE_FILE)\n",
    "\n",
    "type DataSubset\n",
    "    name::AbstractString\n",
    "    behavior_to_match::UInt16\n",
    "    behavior_to_avoid::UInt16\n",
    "end\n",
    "\n",
    "features = union(collect(allfeatures()), INDICATOR_SET2)\n",
    "\n",
    "filters = AbstractFeature[Feature_IsClean{:f_accel}(),\n",
    "                          Feature_IsClean{:f_des_angle}()]\n",
    "\n",
    "runlog_extract_params = RunLogSegmentExtractParameters(SIM_HORIZON_IN_FRAMES, SIM_HISTORY_IN_FRAMES,\n",
    "                                                       FRAMESKIP_BETWEEN_EXTRACTED_SCENES, PDSET_FRAMES_PER_SIM_FRAME)\n",
    "\n",
    "dataset_extract_params = DatasetExtractParams(ContextClass.NULL, ContextClass.NULL, features, runlog_extract_params,\n",
    "                                              filters=filters)\n",
    "\n",
    "runlog_filepaths = filter!(s->splitext(s)[2] == \".jld\", readdir(RUNLOG_DIR))\n",
    "for i in 1 : length(runlog_filepaths)\n",
    "    runlog_filepaths[i] = joinpath(RUNLOG_DIR, runlog_filepaths[i])\n",
    "end"
   ]
  },
  {
   "cell_type": "code",
   "execution_count": 2,
   "metadata": {
    "collapsed": false
   },
   "outputs": [
    {
     "name": "stdout",
     "output_type": "stream",
     "text": [
      "tot_n_frames: 37780\n",
      "pass: 37780\n",
      "elapsed time: 48.501056723 seconds\n"
     ]
    }
   ],
   "source": [
    "subset = DataSubset(\"freeflow\", ContextClass.FREEFLOW, ContextClass.NULL)\n",
    "\n",
    "dataset_extract_params.behavior_to_match = subset.behavior_to_match\n",
    "dataset_extract_params.behavior_to_avoid = subset.behavior_to_avoid\n",
    "\n",
    "model_training_data = pull_model_training_data(dataset_extract_params, runlog_filepaths)\n",
    "nothing"
   ]
  },
  {
   "cell_type": "code",
   "execution_count": 3,
   "metadata": {
    "collapsed": false
   },
   "outputs": [
    {
     "name": "stdout",
     "output_type": "stream",
     "text": [
      "tot_n_frames: 37780\n",
      "pass: 37780\n",
      " 52.670897 seconds (834.07 M allocations: 17.439 GB, 13.73% gc time)\n"
     ]
    }
   ],
   "source": [
    "n_samples_monte_carlo_integration = 10\n",
    "\n",
    "srand(1)\n",
    "@time pull_model_training_data(dataset_extract_params, runlog_filepaths)\n",
    "nothing"
   ]
  },
  {
   "cell_type": "code",
   "execution_count": 4,
   "metadata": {
    "collapsed": false
   },
   "outputs": [
    {
     "name": "stdout",
     "output_type": "stream",
     "text": [
      "\n",
      "pass: 37780\n",
      "tot_n_frames: 37780"
     ]
    },
    {
     "ename": "LoadError",
     "evalue": "LoadError: TypeError: isa: expected Type{T}, got AutomotiveDrivingModels.Features.Feature_PosFyaw\nwhile loading In[4], in expression starting on line 3",
     "output_type": "error",
     "traceback": [
      "LoadError: TypeError: isa: expected Type{T}, got AutomotiveDrivingModels.Features.Feature_PosFyaw\nwhile loading In[4], in expression starting on line 3",
      "",
      " in get_feature at /home/tim/.julia/v0.4/AutomotiveDrivingModels/src/features/Features.jl:1777",
      " in pull_model_training_data at /home/tim/.julia/v0.4/AutomotiveDrivingModels/src/utils/ValidationTraceExtractor.jl:591",
      " in anonymous at profile.jl:16"
     ]
    },
    {
     "name": "stdout",
     "output_type": "stream",
     "text": [
      "\n",
      "pass: 37780\n"
     ]
    }
   ],
   "source": [
    "srand(1)\n",
    "Profile.clear()\n",
    "@profile pull_model_training_data(dataset_extract_params, runlog_filepaths)"
   ]
  },
  {
   "cell_type": "code",
   "execution_count": null,
   "metadata": {
    "collapsed": true
   },
   "outputs": [],
   "source": []
  }
 ],
 "metadata": {
  "kernelspec": {
   "display_name": "Julia 0.4.1",
   "language": "julia",
   "name": "julia-0.4"
  },
  "language_info": {
   "file_extension": ".jl",
   "mimetype": "application/julia",
   "name": "julia",
   "version": "0.4.1"
  }
 },
 "nbformat": 4,
 "nbformat_minor": 0
}
