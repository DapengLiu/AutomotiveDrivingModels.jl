{
 "cells": [
  {
   "cell_type": "code",
   "execution_count": 1,
   "metadata": {
    "collapsed": true
   },
   "outputs": [],
   "source": [
    "# addprocs(3) # spawn extra workers"
   ]
  },
  {
   "cell_type": "code",
   "execution_count": 2,
   "metadata": {
    "collapsed": true
   },
   "outputs": [],
   "source": [
    "using AutomotiveDrivingModels"
   ]
  },
  {
   "cell_type": "code",
   "execution_count": 3,
   "metadata": {
    "collapsed": true
   },
   "outputs": [],
   "source": [
    "require(Pkg.dir(\"AutomotiveDrivingModels\", \"viz\", \"Renderer.jl\")); @everywhere using .Renderer\n",
    "require(Pkg.dir(\"AutomotiveDrivingModels\", \"viz\", \"ColorScheme.jl\")); @everywhere using .ColorScheme"
   ]
  },
  {
   "cell_type": "code",
   "execution_count": 4,
   "metadata": {
    "collapsed": false
   },
   "outputs": [
    {
     "data": {
      "text/html": [
       "<script charset=\"utf-8\">(function ($, undefined) {\n",
       "\n",
       "    function createElem(tag, attr, content) {\n",
       "\t// TODO: remove jQuery dependency\n",
       "\tvar el = $(\"<\" + tag + \"/>\").attr(attr);\n",
       "\tif (content) {\n",
       "\t    el.append(content);\n",
       "\t}\n",
       "\treturn el[0];\n",
       "    }\n",
       "\n",
       "    // A widget must expose an id field which identifies it to the backend,\n",
       "    // an elem attribute which is will be added to the DOM, and\n",
       "    // a getState() method which returns the value to be sent to the backend\n",
       "    // a sendUpdate() method which sends its current value to the backend\n",
       "    var Widget = {\n",
       "\tid: undefined,\n",
       "\telem: undefined,\n",
       "\tlabel: undefined,\n",
       "\tgetState: function () {\n",
       "\t    return this.elem.value;\n",
       "\t},\n",
       "\tsendUpdate: undefined\n",
       "    };\n",
       "\n",
       "    var Slider = function (typ, id, init) {\n",
       "\tvar attr = { type:  \"range\",\n",
       "\t\t     value: init.value,\n",
       "\t\t     min:   init.min,\n",
       "\t\t     max:   init.max,\n",
       "\t\t     step:  init.step },\n",
       "\t    elem = createElem(\"input\", attr),\n",
       "\t    self = this;\n",
       "\n",
       "\telem.onchange = function () {\n",
       "\t    self.sendUpdate();\n",
       "\t}\n",
       "\n",
       "\tthis.id = id;\n",
       "\tthis.elem = elem;\n",
       "\tthis.label = init.label;\n",
       "\n",
       "\tInputWidgets.commInitializer(this); // Initialize communication\n",
       "    }\n",
       "    Slider.prototype = Widget;\n",
       "\n",
       "    var Checkbox = function (typ, id, init) {\n",
       "\tvar attr = { type: \"checkbox\",\n",
       "\t\t     checked: init.value },\n",
       "\t    elem = createElem(\"input\", attr),\n",
       "\t    self = this;\n",
       "\n",
       "\tthis.getState = function () {\n",
       "\t    return elem.checked;\n",
       "\t}\n",
       "\telem.onchange = function () {\n",
       "\t    self.sendUpdate();\n",
       "\t}\n",
       "\n",
       "\tthis.id = id;\n",
       "\tthis.elem = elem;\n",
       "\tthis.label = init.label;\n",
       "\n",
       "\tInputWidgets.commInitializer(this);\n",
       "    }\n",
       "    Checkbox.prototype = Widget;\n",
       "\n",
       "    var Button = function (typ, id, init) {\n",
       "\tvar attr = { type:    \"button\",\n",
       "\t\t     value:   init.label },\n",
       "\t    elem = createElem(\"input\", attr),\n",
       "\t    self = this;\n",
       "\tthis.getState = function () {\n",
       "\t    return null;\n",
       "\t}\n",
       "\telem.onclick = function () {\n",
       "\t    self.sendUpdate();\n",
       "\t}\n",
       "\n",
       "\tthis.id = id;\n",
       "\tthis.elem = elem;\n",
       "\tthis.label = init.label;\n",
       "\n",
       "\tInputWidgets.commInitializer(this);\n",
       "    }\n",
       "    Button.prototype = Widget;\n",
       "\n",
       "    var Text = function (typ, id, init) {\n",
       "\tvar attr = { type:  \"text\",\n",
       "\t\t     placeholder: init.label,\n",
       "\t\t     value: init.value },\n",
       "\t    elem = createElem(\"input\", attr),\n",
       "\t    self = this;\n",
       "\tthis.getState = function () {\n",
       "\t    return elem.value;\n",
       "\t}\n",
       "\telem.onkeyup = function () {\n",
       "\t    self.sendUpdate();\n",
       "\t}\n",
       "\n",
       "\tthis.id = id;\n",
       "\tthis.elem = elem;\n",
       "\tthis.label = init.label;\n",
       "\n",
       "\tInputWidgets.commInitializer(this);\n",
       "    }\n",
       "    Text.prototype = Widget;\n",
       "\n",
       "    var Textarea = function (typ, id, init) {\n",
       "\tvar attr = { placeholder: init.label },\n",
       "\t    elem = createElem(\"textarea\", attr, init.value),\n",
       "\t    self = this;\n",
       "\tthis.getState = function () {\n",
       "\t    return elem.value;\n",
       "\t}\n",
       "\telem.onchange = function () {\n",
       "\t    self.sendUpdate();\n",
       "\t}\n",
       "\n",
       "\tthis.id = id;\n",
       "\tthis.elem = elem;\n",
       "\tthis.label = init.label;\n",
       "\n",
       "\tInputWidgets.commInitializer(this);\n",
       "    }\n",
       "    Textarea.prototype = Widget;\n",
       "\n",
       "    // RadioButtons\n",
       "    // Dropdown\n",
       "    // HTML\n",
       "    // Latex\n",
       "\n",
       "    var InputWidgets = {\n",
       "\tSlider: Slider,\n",
       "\tCheckbox: Checkbox,\n",
       "\tButton: Button,\n",
       "\tText: Text,\n",
       "\tTextarea: Textarea,\n",
       "\tdebug: false,\n",
       "\tlog: function () {\n",
       "\t    if (InputWidgets.debug) {\n",
       "\t\tconsole.log.apply(console, arguments);\n",
       "\t    }\n",
       "\t},\n",
       "\t// a central way to initalize communication\n",
       "\t// for widgets.\n",
       "\tcommInitializer: function (widget) {\n",
       "\t    widget.sendUpdate = function () {};\n",
       "\t}\n",
       "    };\n",
       "\n",
       "    window.InputWidgets = InputWidgets;\n",
       "\n",
       "})(jQuery, undefined);\n",
       "</script>"
      ]
     },
     "metadata": {},
     "output_type": "display_data"
    },
    {
     "data": {
      "text/html": [
       "<script charset=\"utf-8\">(function (IPython, $, _, MathJax, Widgets) {\n",
       "    $.event.special.destroyed = {\n",
       "\tremove: function(o) {\n",
       "\t    if (o.handler) {\n",
       "\t\to.handler.apply(this, arguments)\n",
       "\t    }\n",
       "\t}\n",
       "    }\n",
       "\n",
       "    var redrawValue = function (container, type, val) {\n",
       "\tvar selector = $(\"<div/>\");\n",
       "\tvar oa = new IPython.OutputArea(_.extend(selector, {\n",
       "\t    selector: selector,\n",
       "\t    prompt_area: true,\n",
       "\t    events: IPython.events,\n",
       "\t    keyboard_manager: IPython.keyboard_manager\n",
       "\t})); // Hack to work with IPython 2.1.0\n",
       "\n",
       "\tswitch (type) {\n",
       "\tcase \"image/png\":\n",
       "            var _src = 'data:' + type + ';base64,' + val;\n",
       "\t    $(container).find(\"img\").attr('src', _src);\n",
       "\t    break;\n",
       "\tdefault:\n",
       "\t    var toinsert = IPython.OutputArea.append_map[type].apply(\n",
       "\t\toa, [val, {}, selector]\n",
       "\t    );\n",
       "\t    $(container).empty().append(toinsert.contents());\n",
       "\t    selector.remove();\n",
       "\t}\n",
       "\tif (type === \"text/latex\" && MathJax) {\n",
       "\t    MathJax.Hub.Queue([\"Typeset\", MathJax.Hub, toinsert.get(0)]);\n",
       "\t}\n",
       "    }\n",
       "\n",
       "\n",
       "    $(document).ready(function() {\n",
       "\tWidgets.debug = false; // log messages etc in console.\n",
       "\tfunction initComm(evt, data) {\n",
       "\t    var comm_manager = data.kernel.comm_manager;\n",
       "        //_.extend(comm_manager.targets, require(\"widgets/js/widget\"))\n",
       "\t    comm_manager.register_target(\"Signal\", function (comm) {\n",
       "            comm.on_msg(function (msg) {\n",
       "                //Widgets.log(\"message received\", msg);\n",
       "                var val = msg.content.data.value;\n",
       "                $(\".signal-\" + comm.comm_id).each(function() {\n",
       "                var type = $(this).data(\"type\");\n",
       "                if (val[type]) {\n",
       "                    redrawValue(this, type, val[type], type);\n",
       "                }\n",
       "                });\n",
       "                delete val;\n",
       "                delete msg.content.data.value;\n",
       "            });\n",
       "\t    });\n",
       "\n",
       "\t    // coordingate with Comm and redraw Signals\n",
       "\t    // XXX: Test using Reactive here to improve performance\n",
       "\t    $([IPython.events]).on(\n",
       "\t\t'output_appended.OutputArea', function (event, type, value, md, toinsert) {\n",
       "\t\t    if (md && md.reactive) {\n",
       "                // console.log(md.comm_id);\n",
       "                toinsert.addClass(\"signal-\" + md.comm_id);\n",
       "                toinsert.data(\"type\", type);\n",
       "                // Signal back indicating the mimetype required\n",
       "                var comm_manager = IPython.notebook.kernel.comm_manager;\n",
       "                var comm = comm_manager.comms[md.comm_id];\n",
       "                comm.then(function (c) {\n",
       "                    c.send({action: \"subscribe_mime\",\n",
       "                       mime: type});\n",
       "                    toinsert.bind(\"destroyed\", function() {\n",
       "                        c.send({action: \"unsubscribe_mime\",\n",
       "                               mime: type});\n",
       "                    });\n",
       "                })\n",
       "\t\t    }\n",
       "\t    });\n",
       "\t}\n",
       "\n",
       "\ttry {\n",
       "\t    // try to initialize right away. otherwise, wait on the status_started event.\n",
       "\t    initComm(undefined, IPython.notebook);\n",
       "\t} catch (e) {\n",
       "\t    $([IPython.events]).on('status_started.Kernel', initComm);\n",
       "\t}\n",
       "    });\n",
       "})(IPython, jQuery, _, MathJax, InputWidgets);\n",
       "</script>"
      ]
     },
     "metadata": {},
     "output_type": "display_data"
    }
   ],
   "source": [
    "require(Pkg.dir(\"AutomotiveDrivingModels\", \"viz\", \"incl_cairo_utils.jl\"))"
   ]
  },
  {
   "cell_type": "markdown",
   "metadata": {},
   "source": [
    "# Load Scenario"
   ]
  },
  {
   "cell_type": "code",
   "execution_count": 5,
   "metadata": {
    "collapsed": false,
    "input_collapsed": true
   },
   "outputs": [
    {
     "name": "stdout",
     "output_type": "stream",
     "text": [
      "Loaded scenario: follow_faster_with_other\n"
     ]
    }
   ],
   "source": [
    "reload(Pkg.dir(\"AutomotiveDrivingModels\", \"scripts\", \"risk_estimation_policy_opt\", \"scenario_follow_faster_with_other.jl\"))\n",
    "println(\"Loaded scenario: \", scenario.name)"
   ]
  },
  {
   "cell_type": "code",
   "execution_count": 6,
   "metadata": {
    "collapsed": false
   },
   "outputs": [],
   "source": [
    "sn = scenario.sn\n",
    "scenario_pdset = create_scenario_pdset(scenario)\n",
    "horizon = get_horizon(scenario)\n",
    "history = scenario.history\n",
    "basics = FeatureExtractBasicsPdSet(scenario_pdset, sn)\n",
    "active_carid = CARID_EGO\n",
    "nothing"
   ]
  },
  {
   "cell_type": "code",
   "execution_count": 7,
   "metadata": {
    "collapsed": false
   },
   "outputs": [
    {
     "data": {
      "text/plain": [
       "\"hidden reel scenario pdset\""
      ]
     },
     "execution_count": 7,
     "metadata": {},
     "output_type": "execute_result"
    }
   ],
   "source": [
    "\"hidden reel scenario pdset\"\n",
    "# roll(reel_pdset(scenario_pdset, sn, active_carid), fps=40)"
   ]
  },
  {
   "cell_type": "markdown",
   "metadata": {},
   "source": [
    "# Select Policy Parameters"
   ]
  },
  {
   "cell_type": "code",
   "execution_count": 8,
   "metadata": {
    "collapsed": true
   },
   "outputs": [],
   "source": [
    "human_behavior = VehicleBehaviorGaussian(0.00001, 0.1)\n",
    "policy = RiskEstimationPolicy(human_behavior)\n",
    "policy.speed_deltas = get_speed_deltas(2, 5.0)\n",
    "policy.k_c = 100000.0\n",
    "policy.k_v = 100.0\n",
    "nothing"
   ]
  },
  {
   "cell_type": "code",
   "execution_count": 9,
   "metadata": {
    "collapsed": false
   },
   "outputs": [
    {
     "data": {
      "text/plain": [
       "\"hidden reel default selected policy\""
      ]
     },
     "execution_count": 9,
     "metadata": {},
     "output_type": "execute_result"
    }
   ],
   "source": [
    "\"hidden reel default selected policy\"\n",
    "# roll(reel_scenario_playthrough(scenario, policy, pdset=scenario_pdset), fps=2)"
   ]
  },
  {
   "cell_type": "markdown",
   "metadata": {},
   "source": [
    "# Select Evaluation Parameters"
   ]
  },
  {
   "cell_type": "code",
   "execution_count": 10,
   "metadata": {
    "collapsed": false
   },
   "outputs": [
    {
     "data": {
      "text/plain": [
       "10"
      ]
     },
     "execution_count": 10,
     "metadata": {},
     "output_type": "execute_result"
    }
   ],
   "source": [
    "nruns = 10"
   ]
  },
  {
   "cell_type": "markdown",
   "metadata": {},
   "source": [
    "# Visualize some generated trajectories"
   ]
  },
  {
   "cell_type": "code",
   "execution_count": 31,
   "metadata": {
    "collapsed": false
   },
   "outputs": [
    {
     "data": {
      "text/html": [],
      "text/plain": [
       "Slider{Int64}([Input{Int64}] 201,\"validfind\",201,1:401)"
      ]
     },
     "metadata": {},
     "output_type": "display_data"
    },
    {
     "data": {
      "image/png": "[encoded data removed]",
      "text/plain": [
       "CairoSurface(Ptr{Void} @0x000000000ce21900,1100.0,300.0,#undef)"
      ]
     },
     "execution_count": 31,
     "metadata": {
      "comm_id": "cdf27bd2-fe94-4382-8e67-51766187a5bd",
      "reactive": true
     },
     "output_type": "execute_result"
    }
   ],
   "source": [
    "validfind = 205\n",
    "candidate_trajectories = generate_candidate_trajectories(basics, policy, active_carid, validfind)\n",
    "extracted_trajdefs, extracted_polies = extract_trajdefs(basics, candidate_trajectories, active_carid, validfind)\n",
    "\n",
    "traj_index = 15\n",
    "\n",
    "insert!(pdset, extracted_trajdefs[traj_index])\n",
    "plot_manipulable_pdset(pdset, sn, active_carid)"
   ]
  },
  {
   "cell_type": "code",
   "execution_count": 91,
   "metadata": {
    "collapsed": false
   },
   "outputs": [
    {
     "data": {
      "image/png": "[encoded data removed]",
      "text/plain": [
       "CairoSurface(Ptr{Void} @0x000000000da98890,1100.0,400.0,#undef)"
      ]
     },
     "execution_count": 91,
     "metadata": {},
     "output_type": "execute_result"
    }
   ],
   "source": [
    "reload(Pkg.dir(\"AutomotiveDrivingModels\", \"viz\", \"incl_cairo_utils.jl\"))\n",
    "plot_extracted_trajdefs(pdset, sn, extracted_trajdefs, validfind, active_carid,\n",
    "                        canvas_width=canvas_width, canvas_height=canvas_height*2,\n",
    "                        rendermodel=rendermodel, camerazoom=camerazoom/2,\n",
    "                        camera_forward_offset=camera_forward_offset)"
   ]
  },
  {
   "cell_type": "code",
   "execution_count": 76,
   "metadata": {
    "collapsed": false
   },
   "outputs": [
    {
     "name": "stdout",
     "output_type": "stream",
     "text": [
      "VecSE2(189.53607067869774,-4.391727231859201,0.011726223387533537)\n",
      "64.67201432045805\n",
      "CurvePt(63.53607067869775,189.53607067869774,-4.5,0.0,0.0,0.0)\n",
      "0.32888632834536735\n",
      "0.3349521781331236\n",
      "0.3451512804854854\n",
      "0.35913452789104994\n",
      "0.3765621752739046\n"
     ]
    }
   ],
   "source": [
    "let \n",
    "    validfind = 125\n",
    "    trajdef = TrajDef(basics.pdset, basics.sn, active_carid, validfind)\n",
    "    append!(trajdef.links, candidate_trajectories[2])\n",
    "        \n",
    "    pdset = basics.pdset\n",
    "    sn = basics.sn\n",
    "    carid = CARID_EGO\n",
    "    frameind_start = 200\n",
    "\n",
    "    nframes = get_num_pdset_frames(trajdef)\n",
    "    df = Trajdata._create_df_ego(nframes) # TODO(tim): preallocate this stuff\n",
    "    extracted = ExtractedTrajdef(df, carid)\n",
    "    for i = 1 : nrow(df)\n",
    "        df[i,:frame] = frameind_start + i - 1\n",
    "        df[i,:time] = sec_per_frame*i\n",
    "    end\n",
    "\n",
    "    lane = get_lane(sn, trajdef.lanetag)\n",
    "    footpoint = curve_at(lane.curve, trajdef.extind)\n",
    "    footvec = VecSE2(footpoint.x, footpoint.y, footpoint.θ)\n",
    "    inertial = footvec + Vec.polar(trajdef.d, π/2 + footvec.θ, footvec.θ + trajdef.ϕ)\n",
    "\n",
    "    println(inertial)\n",
    "    println(pdset.df_ego[validfind, :posFx])\n",
    "    println(footpoint)\n",
    "    \n",
    "    frameind = 1\n",
    "    AutomotiveDrivingModels._set_vehicle!(extracted, sn, frameind, inertial, trajdef.v, \n",
    "                  footpoint, trajdef.extind, trajdef.lanetag, trajdef.d, trajdef.ϕ)\n",
    "\n",
    "#     #######################################\n",
    "#     # Now we select the next link, project our current location to the new lane tag\n",
    "#     # and move forward!\n",
    "\n",
    "    a = trajdef.a\n",
    "    v = trajdef.v\n",
    "    ψ = trajdef.ψ + footvec.θ # in global coordinates\n",
    "    \n",
    "    link_index = 1\n",
    "    link = trajdef.links[link_index]\n",
    "    lanetag = link.lanetag    \n",
    "\n",
    "    extind, lane = project_point_to_lanetag(sn, inertial.x, inertial.y, lanetag)\n",
    "    curve = lane.curve\n",
    "\n",
    "    footpoint = curve_at(curve, extind)\n",
    "    ψ -= footpoint.θ\n",
    "\n",
    "    s, d₁, ϕ = pt_to_frenet_xyy(footpoint, inertial.x, inertial.y, inertial.θ)\n",
    "    ddot₁ = v * sin(ϕ) # initial lateral velocity\n",
    "    dddot₁ = a * sin(ψ) # initial lateral accel\n",
    "\n",
    "    sdot₁ = v * cos(ϕ) # initial longitudinal velocity\n",
    "    sddot₁ = a * cos(ψ) # initial longitudinal accel\n",
    "\n",
    "    (poly, d₂, ddot₂, dddot₂, sdot₂, sddot₂) = AutomotiveDrivingModels.get_polynomial_factored_trajectory(link, sdot₁, sddot₁, d₁, ddot₁, dddot₁, sec_per_frame)\n",
    "    (inertial, footpoint, extind, frameind, lanetag) = AutomotiveDrivingModels._add_trajlink_to_extracted!(\n",
    "                                                        pdset, extracted, sn, carid, poly, link.n_pdset_frames,\n",
    "                                                        sec_per_frame, lane, extind, inertial, footpoint, frameind)\n",
    "\n",
    "    for i = 1 : 5\n",
    "        println(extracted.df[i, :velFy])\n",
    "    end\n",
    "    \n",
    "#     n_links = length(trajdef.links)\n",
    "#     trajs = Array(PolynomialFactoredTrajectory, n_links) # TODO(tim): preallocate\n",
    "#     trajs[1] = poly\n",
    "#     link_durations = Array(Float64, n_links) # TODO(tim): preallocate\n",
    "#     link_durations[1] = link.n_pdset_frames*sec_per_frame\n",
    "\n",
    "#         link_index += 1\n",
    "#         link = trajdef.links[link_index]\n",
    "    \n",
    "#             v = sqrt(ddot₂*ddot₂ + sdot₂*sdot₂)\n",
    "#             a = sqrt(dddot₂*dddot₂ + sddot₂*sddot₂)\n",
    "#             ψ = atan2(dddot₂, sddot₂)\n",
    "\n",
    "#             lanetag = link.lanetag\n",
    "\n",
    "#             extind, lane = project_point_to_lanetag(sn, inertial.x, inertial.y, lanetag)\n",
    "#     curve = lane.curve # THIS IS WHAT I NEEDED\n",
    "    \n",
    "\n",
    "#             @assert(!is_extind_at_curve_end(curve, extind))\n",
    "#             footpoint = curve_at(curve, extind)\n",
    "#             ψ -= footpoint.θ\n",
    "    \n",
    "#             s, d₁, ϕ = pt_to_frenet_xyy(footpoint, inertial.x, inertial.y, inertial.θ)\n",
    "#             ddot₁ = v * sin(ϕ) # initial lateral velocity\n",
    "#             dddot₁ = a * sin(ψ) # initial lateral accel\n",
    "\n",
    "#             sdot₁ = v * cos(ϕ) # initial longitudinal velocity\n",
    "#             sddot₁ = a * cos(ψ) # initial longitudinal accel\n",
    "#         end\n",
    "\n",
    "#         (poly, d₂, ddot₂, dddot₂, sdot₂, sddot₂) = get_polynomial_factored_trajectory(link, sdot₁, sddot₁, d₁, ddot₁, dddot₁, sec_per_frame)\n",
    "#         (inertial, footpoint, extind, frameind, lanetag) = _add_trajlink_to_extracted!(\n",
    "#                                                         pdset, extracted, sn, carid, poly, link.n_pdset_frames,\n",
    "#                                                         sec_per_frame, lane, extind, inertial, footpoint, frameind)\n",
    "\n",
    "#         trajs[link_index] = poly\n",
    "#         link_durations[link_index] = link.n_pdset_frames*sec_per_frame\n",
    "\n",
    "#     extracted_polynomial_factored_trajectories = ExtractedPolynomialFactoredTrajectories(trajs, link_durations)\n",
    "\n",
    "#     (extracted, extracted_polynomial_factored_trajectories) \n",
    "end"
   ]
  },
  {
   "cell_type": "code",
   "execution_count": 14,
   "metadata": {
    "collapsed": false
   },
   "outputs": [
    {
     "name": "stdout",
     "output_type": "stream",
     "text": [
      "200   299.64701    -4.50000\n",
      "201   301.09994    -4.50000\n",
      "202   302.55240    -4.50000\n",
      "203   304.00394    -4.50000\n",
      "204   305.45414    -4.50000\n",
      "205   306.90255    -4.50000\n",
      "206   308.34877    -4.50000\n",
      "207   309.79239    -4.50000\n",
      "208   311.23301    -4.50000\n",
      "209   312.67026    -4.50000\n",
      "210   314.10377    -4.50000\n",
      "211   315.53318    -4.50000\n",
      "212   316.95814    -4.50000\n",
      "213   318.37832    -4.50000\n",
      "214   319.79340    -4.50000\n",
      "215   321.20306    -4.50000\n",
      "216   322.60701    -4.50000\n",
      "217   324.00497    -4.50000\n",
      "218   325.39665    -4.50000\n",
      "219   326.78179    -4.50000\n",
      "220   328.16014    -4.50000\n",
      "221   329.53146    -4.50000\n",
      "222   330.89552    -4.50000\n",
      "223   332.25211    -4.50000\n",
      "224   333.60101    -4.50000\n",
      "225   334.94204    -4.50000\n",
      "226   336.27501    -4.50000\n",
      "227   337.59977    -4.50000\n",
      "228   338.91615    -4.50000\n",
      "229   340.22400    -4.50000\n",
      "230   341.52319    -4.50000\n",
      "231   342.81356    -4.50000\n",
      "232   344.09500    -4.50000\n",
      "233   345.36743    -4.50000\n",
      "234   346.63090    -4.50000\n",
      "235   347.88513    -4.50000\n",
      "236   349.13008    -4.50000\n",
      "237   350.36589    -4.50000\n",
      "238   351.59227    -4.50000\n",
      "239   352.80933    -4.50000\n",
      "240   354.01701    -4.50000\n",
      "241   355.21533    -4.50000\n",
      "242   356.40427    -4.50000\n",
      "243   357.58387    -4.50000\n",
      "244   358.75414    -4.50000\n",
      "245   359.91513    -4.50000\n",
      "246   361.06690    -4.50000\n",
      "247   362.20950    -4.50000\n",
      "248   363.34301    -4.50000\n",
      "249   364.46753    -4.50000\n",
      "250   365.58315    -4.50000\n",
      "251   366.68998    -4.50000\n",
      "252   367.78814    -4.50000\n",
      "253   368.87777    -4.50000\n",
      "254   369.95901    -4.50000\n",
      "255   371.03197    -4.50000\n",
      "256   372.09703    -4.50000\n",
      "257   373.15412    -4.50000\n",
      "258   374.20353    -4.50000\n",
      "259   375.24546    -4.50000\n",
      "260   376.28012    -4.50000\n",
      "261   377.30779    -4.50000\n",
      "262   378.32866    -4.50000\n",
      "263   379.34298    -4.50000\n",
      "264   380.35103    -4.50000\n",
      "265   381.35308    -4.50000\n",
      "266   382.34941    -4.50000\n",
      "267   383.34033    -4.50000\n",
      "268   384.32615    -4.50000\n",
      "269   385.30719    -4.50000\n",
      "270   386.28379    -4.50000\n",
      "271   387.25628    -4.50000\n",
      "272   388.22503    -4.50000\n",
      "273   389.19040    -4.50000\n",
      "274   390.15279    -4.50000\n",
      "275   391.11257    -4.50000\n",
      "276   392.07015    -4.50000\n",
      "277   393.02596    -4.50000\n",
      "278   393.98041    -4.50000\n",
      "279   394.93395    -4.50000\n",
      "280   395.88703    -4.50000\n",
      "281   396.84003    -4.50000\n",
      "282   397.79303    -4.50000\n",
      "283   398.74603    -4.50000\n",
      "284   399.69903    -4.50000\n",
      "285   400.65203    -4.50000\n",
      "286   401.60503    -4.50000\n",
      "287   402.55803    -4.50000\n",
      "288   403.51103    -4.50000\n",
      "289   404.46403    -4.50000\n",
      "290   405.41703    -4.50000\n",
      "291   406.37003    -4.50000\n",
      "292   407.32303    -4.50000\n",
      "293   408.27603    -4.50000\n",
      "294   409.22903    -4.50000\n",
      "295   410.18203    -4.50000\n",
      "296   411.13503    -4.50000\n",
      "297   412.08803    -4.50000\n",
      "298   413.04103    -4.50000\n",
      "299   413.99403    -4.50000\n",
      "300   414.94703    -4.50000\n",
      "301   415.90003    -4.50000\n",
      "302   416.85303    -4.50000\n",
      "303   417.80603    -4.50000\n",
      "304   418.75903    -4.50000\n",
      "305   419.71203    -4.50000\n",
      "306   420.66503    -4.50000\n",
      "307   421.61803    -4.50000\n",
      "308   422.57103    -4.50000\n",
      "309   423.52403    -4.50000\n",
      "310   424.47703    -4.50000\n",
      "311   425.43003    -4.50000\n",
      "312   426.38303    -4.50000\n",
      "313   427.33603    -4.50000\n",
      "314   428.28903    -4.50000\n",
      "315   429.24203    -4.50000\n",
      "316   430.19503    -4.50000\n",
      "317   431.14803    -4.50000\n",
      "318   432.10103    -4.50000\n",
      "319   433.05403    -4.50000\n",
      "320   434.00703    -4.50000\n",
      "321   434.96003    -4.50000\n",
      "322   435.91303    -4.50000\n",
      "323   436.86603    -4.50000\n",
      "324   437.81903    -4.50000\n",
      "325   438.77203    -4.50000\n",
      "326   439.72503    -4.50000\n",
      "327   440.67803    -4.50000\n",
      "328   441.63103    -4.50000\n",
      "329   442.58403    -4.50000\n",
      "330   443.53703    -4.50000\n",
      "331   444.49003    -4.50000\n",
      "332   445.44303    -4.50000\n",
      "333   446.39603    -4.50000\n",
      "334   447.34903    -4.50000\n",
      "335   448.30203    -4.50000\n",
      "336   449.25503    -4.50000\n",
      "337   450.20803    -4.50000\n",
      "338   451.16103    -4.50000\n",
      "339   452.11403    -4.50000\n",
      "340   453.06703    -4.50000\n",
      "341   454.02003    -4.50000\n",
      "342   454.97303    -4.50000\n",
      "343   455.92603    -4.50000\n",
      "344   456.87903    -4.50000\n",
      "345   457.83203    -4.50000\n",
      "346   458.78503    -4.50000\n",
      "347   459.73803    -4.50000\n",
      "348   460.69103    -4.50000\n",
      "349   461.64403    -4.50000\n",
      "350   462.59703    -4.50000\n",
      "351   463.55003    -4.50000\n",
      "352   464.50303    -4.50000\n",
      "353   465.45603    -4.50000\n",
      "354   466.40903    -4.50000\n",
      "355   467.36203    -4.50000\n",
      "356   468.31503    -4.50000\n",
      "357   469.26803    -4.50000\n",
      "358   470.22103    -4.50000\n",
      "359   471.17403    -4.50000\n",
      "360   472.12703    -4.50000\n"
     ]
    }
   ],
   "source": [
    "df = extracted_trajdefs[2].df\n",
    "for i = 1 : size(df, 1)\n",
    "    @printf(\"%3d  %10.5f  %10.5f\\n\", df[i,:frame], df[i,:posGx], df[i,:posGy])\n",
    "end"
   ]
  },
  {
   "cell_type": "code",
   "execution_count": 15,
   "metadata": {
    "collapsed": false
   },
   "outputs": [
    {
     "ename": "LoadError",
     "evalue": "pdset not defined\nwhile loading In[15], in expression starting on line 1",
     "output_type": "error",
     "traceback": [
      "pdset not defined\nwhile loading In[15], in expression starting on line 1",
      ""
     ]
    }
   ],
   "source": [
    "df = pdset.df_ego\n",
    "for i = 1 : size(df, 1)\n",
    "    @printf(\"%3d  %10.5f  %10.5f\\n\", df[i,:frame], df[i,:posGx], df[i,:posGy])\n",
    "end"
   ]
  },
  {
   "cell_type": "code",
   "execution_count": 11,
   "metadata": {
    "collapsed": false,
    "input_collapsed": false
   },
   "outputs": [
    {
     "name": "stderr",
     "output_type": "stream",
     "text": [
      "Warning: New definition \n",
      "    +(AbstractArray{T,N},AbstractImageDirect{T,N}) at /home/tim/.julia/v0.3/Images/src/algorithms.jl:20\n",
      "is ambiguous with: \n",
      "    +(DataArray{T,N},AbstractArray{T,N}) at /home/tim/.julia/v0.3/DataArrays/src/operators.jl:326.\n",
      "To fix, define \n",
      "    +(DataArray{T,N},AbstractImageDirect{T,N})\n",
      "before the new definition.\n",
      "Warning: New definition \n",
      "    +(AbstractArray{T,N},AbstractImageDirect{T,N}) at /home/tim/.julia/v0.3/Images/src/algorithms.jl:20\n",
      "is ambiguous with: \n",
      "    +(AbstractDataArray{T,N},AbstractArray{T,N}) at /home/tim/.julia/v0.3/DataArrays/src/operators.jl:349.\n",
      "To fix, define \n",
      "    +(AbstractDataArray{T,N},AbstractImageDirect{T,N})\n",
      "before the new definition.\n",
      "Warning: New definition \n",
      "    .+(AbstractImageDirect{T,N},AbstractArray{T,N}) at /home/tim/.julia/v0.3/Images/src/algorithms.jl:22\n",
      "is ambiguous with: \n",
      "    .+(AbstractArray{T,N},Union(PooledDataArray{T,R<:Integer,N},DataArray{T,N}),AbstractArray{T,N}...) at /home/tim/.julia/v0.3/DataArrays/src/broadcast.jl:284.\n",
      "To fix, define \n",
      "    .+(AbstractImageDirect{T,N},Union(PooledDataArray{T,R<:Integer,N},DataArray{T,N}))\n",
      "before the new definition.\n",
      "Warning: New definition \n",
      "    -(AbstractImageDirect{T,N},AbstractArray{T,N}) at /home/tim/.julia/v0.3/Images/src/algorithms.jl:35\n",
      "is ambiguous with: \n",
      "    -(AbstractArray{T,N},DataArray{T,N}) at /home/tim/.julia/v0.3/DataArrays/src/operators.jl:326.\n",
      "To fix, define \n",
      "    -(AbstractImageDirect{T,N},DataArray{T,N})\n",
      "before the new definition.\n",
      "Warning: New definition \n",
      "    -(AbstractImageDirect{T,N},AbstractArray{T,N}) at /home/tim/.julia/v0.3/Images/src/algorithms.jl:35\n",
      "is ambiguous with: \n",
      "    -(AbstractArray{T,N},AbstractDataArray{T,N}) at /home/tim/.julia/v0.3/DataArrays/src/operators.jl:349.\n",
      "To fix, define \n",
      "    -(AbstractImageDirect{T,N},AbstractDataArray{T,N})\n",
      "before the new definition.\n",
      "Warning: New definition \n",
      "    -(AbstractArray{T,N},AbstractImageDirect{T,N}) at /home/tim/.julia/v0.3/Images/src/algorithms.jl:37\n",
      "is ambiguous with: \n",
      "    -(DataArray{T,N},AbstractArray{T,N}) at /home/tim/.julia/v0.3/DataArrays/src/operators.jl:326.\n",
      "To fix, define \n",
      "    -(DataArray{T,N},AbstractImageDirect{T,N})\n",
      "before the new definition.\n",
      "Warning: New definition \n",
      "    -(AbstractArray{T,N},AbstractImageDirect{T,N}) at /home/tim/.julia/v0.3/Images/src/algorithms.jl:37\n",
      "is ambiguous with: \n",
      "    -(AbstractDataArray{T,N},AbstractArray{T,N}) at /home/tim/.julia/v0.3/DataArrays/src/operators.jl:349.\n",
      "To fix, define \n",
      "    -(AbstractDataArray{T,N},AbstractImageDirect{T,N})\n",
      "before the new definition.\n",
      "Warning: New definition \n",
      "    .-(AbstractImageDirect{T,N},AbstractArray{T,N}) at /home/tim/.julia/v0.3/Images/src/algorithms.jl:40\n",
      "is ambiguous with: \n",
      "    .-(AbstractArray{T,N},Union(PooledDataArray{T,R<:Integer,N},DataArray{T,N})) at /home/tim/.julia/v0.3/DataArrays/src/broadcast.jl:272.\n",
      "To fix, define \n",
      "    .-(AbstractImageDirect{T,N},Union(PooledDataArray{T,R<:Integer,N},DataArray{T,N}))\n",
      "before the new definition.\n",
      "Warning: New definition \n",
      "    .*(AbstractImageDirect{T,N},AbstractArray{T,N}) at /home/tim/.julia/v0.3/Images/src/algorithms.jl:51\n",
      "is ambiguous with: \n",
      "    .*(AbstractArray{T,N},Union(PooledDataArray{T,R<:Integer,N},DataArray{T,N}),AbstractArray{T,N}...) at /home/tim/.julia/v0.3/DataArrays/src/broadcast.jl:282.\n",
      "To fix, define \n",
      "    .*(AbstractImageDirect{T,N},Union(PooledDataArray{T,R<:Integer,N},DataArray{T,N}))\n",
      "before the new definition.\n",
      "Warning: New definition \n",
      "    .*(AbstractArray{T,N},AbstractImageDirect{T,N}) at /home/tim/.julia/v0.3/Images/src/algorithms.jl:52\n",
      "is ambiguous with: \n",
      "    .*(Union(PooledDataArray{T,R<:Integer,N},DataArray{T,N}),AbstractArray{T,N}...) at /home/tim/.julia/v0.3/DataArrays/src/broadcast.jl:282.\n",
      "To fix, define \n",
      "    .*(Union(PooledDataArray{T,R<:Integer,N},DataArray{T,N}),AbstractImageDirect{T,N})\n",
      "before the new definition.\n",
      "Warning: New definition \n",
      "    ./(AbstractImageDirect{T,N},AbstractArray{T,N}) at /home/tim/.julia/v0.3/Images/src/algorithms.jl:55\n",
      "is ambiguous with: \n",
      "    ./(AbstractArray{T,N},Union(PooledDataArray{T,R<:Integer,N},DataArray{T,N})) at /home/tim/.julia/v0.3/DataArrays/src/broadcast.jl:272.\n",
      "To fix, define \n",
      "    ./(AbstractImageDirect{T,N},Union(PooledDataArray{T,R<:Integer,N},DataArray{T,N}))\n",
      "before the new definition.\n",
      "Warning: New definition \n",
      "    .<(AbstractImageDirect{Bool,N},AbstractArray{Bool,N}) at /home/tim/.julia/v0.3/Images/src/algorithms.jl:129\n",
      "is ambiguous with: \n",
      "    .<(AbstractArray{Bool,N},Union(PooledDataArray{Bool,R<:Integer,N},DataArray{Bool,N})) at /home/tim/.julia/v0.3/DataArrays/src/broadcast.jl:317.\n",
      "To fix, define \n",
      "    .<(AbstractImageDirect{Bool,N},Union(PooledDataArray{Bool,R<:Integer,N},DataArray{Bool,N}))\n",
      "before the new definition.\n",
      "Warning: New definition \n",
      "    .<(AbstractImageDirect{T,N},AbstractArray{T,N}) at /home/tim/.julia/v0.3/Images/src/algorithms.jl:130\n",
      "is ambiguous with: \n",
      "    .<(AbstractArray{Bool,N},Union(PooledDataArray{Bool,R<:Integer,N},DataArray{Bool,N})) at /home/tim/.julia/v0.3/DataArrays/src/broadcast.jl:317.\n",
      "To fix, define \n",
      "    .<(AbstractImageDirect{Bool,N},Union(PooledDataArray{Bool,R<:Integer,N},DataArray{Bool,N}))\n",
      "before the new definition.\n",
      "Warning: New definition \n",
      "    .<(AbstractImageDirect{T,N},AbstractArray{T,N}) at /home/tim/.julia/v0.3/Images/src/algorithms.jl:130\n",
      "is ambiguous with: \n",
      "    .<(AbstractArray{T,N},Union(PooledDataArray{T,R<:Integer,N},DataArray{T,N})) at /home/tim/.julia/v0.3/DataArrays/src/broadcast.jl:272.\n",
      "To fix, define \n",
      "    .<(AbstractImageDirect{T,N},Union(PooledDataArray{T,R<:Integer,N},DataArray{T,N}))\n",
      "before the new definition.\n",
      "Warning: New definition \n",
      "    .>(AbstractImageDirect{T,N},AbstractArray{T,N}) at /home/tim/.julia/v0.3/Images/src/algorithms.jl:131\n",
      "is ambiguous with: \n",
      "    .>(AbstractArray{Bool,N},Union(PooledDataArray{Bool,R<:Integer,N},DataArray{Bool,N})) at /home/tim/.julia/v0.3/DataArrays/src/broadcast.jl:317.\n",
      "To fix, define \n",
      "    .>(AbstractImageDirect{Bool,N},Union(PooledDataArray{Bool,R<:Integer,N},DataArray{Bool,N}))\n",
      "before the new definition.\n",
      "Warning: New definition \n",
      "    .>(AbstractImageDirect{T,N},AbstractArray{T,N}) at /home/tim/.julia/v0.3/Images/src/algorithms.jl:131\n",
      "is ambiguous with: \n",
      "    .>(AbstractArray{T,N},Union(PooledDataArray{T,R<:Integer,N},DataArray{T,N})) at /home/tim/.julia/v0.3/DataArrays/src/broadcast.jl:272.\n",
      "To fix, define \n",
      "    .>(AbstractImageDirect{T,N},Union(PooledDataArray{T,R<:Integer,N},DataArray{T,N}))\n",
      "before the new definition.\n",
      "Warning: New definition \n",
      "    .==(AbstractImageDirect{Bool,N},AbstractArray{Bool,N}) at /home/tim/.julia/v0.3/Images/src/algorithms.jl:133\n",
      "is ambiguous with: \n",
      "    .==(AbstractArray{Bool,N},Union(PooledDataArray{Bool,R<:Integer,N},DataArray{Bool,N})) at /home/tim/.julia/v0.3/DataArrays/src/broadcast.jl:317.\n",
      "To fix, define \n",
      "    .==(AbstractImageDirect{Bool,N},Union(PooledDataArray{Bool,R<:Integer,N},DataArray{Bool,N}))\n",
      "before the new definition.\n",
      "Warning: New definition \n",
      "    .==(AbstractImageDirect{T,N},AbstractArray{T,N}) at /home/tim/.julia/v0.3/Images/src/algorithms.jl:134\n",
      "is ambiguous with: \n",
      "    .==(AbstractArray{Bool,N},Union(PooledDataArray{Bool,R<:Integer,N},DataArray{Bool,N})) at /home/tim/.julia/v0.3/DataArrays/src/broadcast.jl:317.\n",
      "To fix, define \n",
      "    .==(AbstractImageDirect{Bool,N},Union(PooledDataArray{Bool,R<:Integer,N},DataArray{Bool,N}))\n",
      "before the new definition.\n",
      "Warning: New definition \n",
      "    .==(AbstractImageDirect{T,N},AbstractArray{T,N}) at /home/tim/.julia/v0.3/Images/src/algorithms.jl:134\n",
      "is ambiguous with: \n",
      "    .==(AbstractArray{T,N},Union(PooledDataArray{T,R<:Integer,N},DataArray{T,N})) at /home/tim/.julia/v0.3/DataArrays/src/broadcast.jl:272.\n",
      "To fix, define \n",
      "    .==(AbstractImageDirect{T,N},Union(PooledDataArray{T,R<:Integer,N},DataArray{T,N}))\n",
      "before the new definition.\n"
     ]
    },
    {
     "ename": "LoadError",
     "evalue": "extracted_trajdefs not defined\nwhile loading In[11], in expression starting on line 4",
     "output_type": "error",
     "traceback": [
      "extracted_trajdefs not defined\nwhile loading In[11], in expression starting on line 4",
      ""
     ]
    }
   ],
   "source": [
    "using PGFPlots\n",
    "\n",
    "\n",
    "df = extracted_trajdefs[traj_index].df\n",
    "validfind_arr = [1 : size(df, 1)]\n",
    "\n",
    "posGx_arr = convert(Vector{Float64}, df[:posGx])\n",
    "velFx_arr = convert(Vector{Float64}, df[:velFx])\n",
    "\n",
    "group_plot = GroupPlot(1,2)\n",
    "push!(group_plot, Axis(Plots.Linear(validfind_arr, posGx_arr, mark=\"none\"), xlabel=\"frame\", ylabel=\"posGx\", width=\"20cm\", height=\"6cm\"))\n",
    "push!(group_plot, Axis(Plots.Linear(validfind_arr, velFx_arr, mark=\"none\"), xlabel=\"frame\", ylabel=\"velFx\", width=\"20cm\", height=\"6cm\"))\n",
    "\n",
    "group_plot"
   ]
  },
  {
   "cell_type": "markdown",
   "metadata": {},
   "source": [
    "# Evaluate Step-by-Step"
   ]
  },
  {
   "cell_type": "code",
   "execution_count": 88,
   "metadata": {
    "collapsed": false
   },
   "outputs": [],
   "source": [
    "camera_forward_offset = 60.0\n",
    "camerazoom = 8.0\n",
    "canvas_width = 1100\n",
    "canvas_height = 200\n",
    "rendermodel = RenderModel()\n",
    "nothing"
   ]
  },
  {
   "cell_type": "code",
   "execution_count": 92,
   "metadata": {
    "collapsed": false
   },
   "outputs": [
    {
     "data": {
      "text/plain": [
       "80"
      ]
     },
     "execution_count": 92,
     "metadata": {},
     "output_type": "execute_result"
    }
   ],
   "source": [
    "r_collision_frequency = -100.0 # weighting for collision frequency\n",
    "r_time_per_tick       =   -1.0 # weighting for time per tick\n",
    "\n",
    "pdset_frames_per_sim_frame = N_FRAMES_PER_SIM_FRAME\n",
    "sec_per_frame = DEFAULT_SEC_PER_FRAME\n",
    "\n",
    "pdset = create_scenario_pdset(scenario)\n",
    "sn = scenario.sn\n",
    "basics = FeatureExtractBasicsPdSet(pdset, sn)\n",
    "\n",
    "validfind = scenario.history"
   ]
  },
  {
   "cell_type": "code",
   "execution_count": 130,
   "metadata": {
    "collapsed": false,
    "input_collapsed": false
   },
   "outputs": [
    {
     "data": {
      "image/png": "[encoded data removed]",
      "text/plain": [
       "CairoSurface(Ptr{Void} @0x000000000fa388e0,1100.0,200.0,#undef)"
      ]
     },
     "execution_count": 130,
     "metadata": {},
     "output_type": "execute_result"
    }
   ],
   "source": [
    "# 1 - generate candidate trajectories\n",
    "candidate_trajectories = generate_candidate_trajectories(basics, policy, active_carid, validfind)\n",
    "\n",
    "extracted_trajdefs, extracted_polies = extract_trajdefs(basics, candidate_trajectories, active_carid, validfind)\n",
    "\n",
    "plot_extracted_trajdefs(pdset, sn, extracted_trajdefs, validfind, active_carid,\n",
    "                        canvas_width=canvas_width, canvas_height=canvas_height,\n",
    "                        rendermodel=rendermodel, camerazoom=camerazoom/2,\n",
    "                        camera_forward_offset=camera_forward_offset)"
   ]
  },
  {
   "cell_type": "code",
   "execution_count": 131,
   "metadata": {
    "collapsed": false,
    "input_collapsed": true
   },
   "outputs": [
    {
     "name": "stdout",
     "output_type": "stream",
     "text": [
      "collision risk: [0.0,0.0,0.0,0.0,1.0,1.0,1.0,1.0,1.0,1.0,1.0,0.0,1.0,0.0,1.0,0.69,1.0,1.0,1.0,1.0,0.01]\n"
     ]
    },
    {
     "data": {
      "image/png": "[encoded data removed]",
      "text/plain": [
       "CairoSurface(Ptr{Void} @0x000000000b7b1260,1100.0,200.0,#undef)"
      ]
     },
     "execution_count": 131,
     "metadata": {},
     "output_type": "execute_result"
    }
   ],
   "source": [
    "# 2 - simulate candidate trajectories to estimate risk\n",
    "sec_per_frame = calc_sec_per_frame(basics.pdset)\n",
    "collision_risk = calc_collision_risk_monte_carlo!(basics, policy, candidate_trajectories, \n",
    "                                                      active_carid, validfind, sec_per_frame)\n",
    "\n",
    "println(\"collision risk: \", collision_risk)\n",
    "\n",
    "plot_extracted_trajdefs(pdset, sn, extracted_trajdefs, collision_risk, validfind, active_carid,\n",
    "                                              canvas_width=canvas_width, canvas_height=canvas_height,\n",
    "                                              rendermodel=rendermodel, camerazoom=camerazoom,\n",
    "                                              camera_forward_offset=camera_forward_offset)"
   ]
  },
  {
   "cell_type": "code",
   "execution_count": 132,
   "metadata": {
    "collapsed": false,
    "input_collapsed": true
   },
   "outputs": [
    {
     "data": {
      "image/png": "[encoded data removed]",
      "text/plain": [
       "CairoSurface(Ptr{Void} @0x0000000009de4110,1100.0,200.0,#undef)"
      ]
     },
     "execution_count": 132,
     "metadata": {},
     "output_type": "execute_result"
    }
   ],
   "source": [
    "remaining_indeces = find(c->c < 1.0, collision_risk)\n",
    "\n",
    "plot_extracted_trajdefs(pdset, sn, extracted_trajdefs[remaining_indeces], collision_risk[remaining_indeces], validfind, active_carid,\n",
    "                                              canvas_width=canvas_width, canvas_height=canvas_height,\n",
    "                                              rendermodel=rendermodel, camerazoom=camerazoom,\n",
    "                                              camera_forward_offset=camera_forward_offset)"
   ]
  },
  {
   "cell_type": "code",
   "execution_count": 133,
   "metadata": {
    "collapsed": false,
    "input_collapsed": true
   },
   "outputs": [
    {
     "name": "stdout",
     "output_type": "stream",
     "text": [
      "   i   collision    jerk lat    jerk lon    delta v²   collision    jerk lat    jerk lon    delta v²      total\n",
      "   1       0.000       0.000       0.684     102.495       0.000       0.000       0.342   10249.508   10249.850\n",
      "   2       0.000       0.000       0.078     102.495       0.000       0.000       0.039   10249.508   10249.547\n",
      "   3       0.000       0.000       0.156      26.255       0.000       0.000       0.078    2625.523    2625.600\n",
      "   4       0.000       0.000       0.016      26.255       0.000       0.000       0.008    2625.523    2625.531\n",
      "   5       1.000       0.000       0.002       0.015  100000.000       0.000       0.001       1.537  100001.538\n",
      "   6       1.000       0.000       0.001       0.015  100000.000       0.000       0.001       1.537  100001.538\n",
      "   7       1.000       0.000       0.223      23.776  100000.000       0.000       0.112    2377.552  102377.664\n",
      "   8       1.000       0.000       0.033      23.776  100000.000       0.000       0.016    2377.552  102377.568\n",
      "   9       1.000       0.000       0.820      97.536  100000.000       0.000       0.410    9753.566  109753.976\n",
      "  10       1.000       0.000       0.112      97.536  100000.000       0.000       0.056    9753.566  109753.622\n",
      "  11       1.000       1.013       0.684     102.495  100000.000       0.506       0.342   10249.508  110250.356\n",
      "  12       0.000       0.032       0.078     102.495       0.000       0.016       0.039   10249.508   10249.563\n",
      "  13       1.000       1.013       0.156      26.255  100000.000       0.506       0.078    2625.523  102626.107\n",
      "  14       0.000       0.032       0.016      26.255       0.000       0.016       0.008    2625.523    2625.546\n",
      "  15       1.000       1.013       0.002       0.015  100000.000       0.506       0.001       1.537  100002.045\n",
      "  16       0.690       0.032       0.001       0.015   69000.000       0.016       0.001       1.537   69001.554\n",
      "  17       1.000       1.013       0.223      23.776  100000.000       0.506       0.112    2377.552  102378.170\n",
      "  18       1.000       0.032       0.033      23.776  100000.000       0.016       0.016    2377.552  102377.584\n",
      "  19       1.000       1.013       0.820      97.536  100000.000       0.506       0.410    9753.566  109754.483\n",
      "  20       1.000       0.032       0.112      97.536  100000.000       0.016       0.056    9753.566  109753.638\n",
      "  21       0.010       0.000       0.003       4.138    1000.000       0.000       0.002     413.797    1413.799\n",
      "best index: 21\n"
     ]
    },
    {
     "data": {
      "image/png": "[encoded data removed]",
      "text/plain": [
       "CairoSurface(Ptr{Void} @0x0000000012b7ff20,1100.0,200.0,#undef)"
      ]
     },
     "execution_count": 133,
     "metadata": {},
     "output_type": "execute_result"
    }
   ],
   "source": [
    "costs = Array(Float64, length(extracted_polies))\n",
    "\n",
    "# 3 - select the highest-scoring trajectory\n",
    "best_trajectory_index = 1\n",
    "best_cost = Inf\n",
    "for (i,extracted_polynomial_factored_trajectories) in enumerate(extracted_polies)\n",
    "    cost = calc_cost(extracted_polynomial_factored_trajectories, collision_risk[i], policy)\n",
    "    costs[i] = cost\n",
    "    if cost < best_cost\n",
    "        best_trajectory_index = i\n",
    "        best_cost = cost\n",
    "    end\n",
    "end\n",
    "\n",
    "@printf(\"%4s  %10s  %10s  %10s  %10s  %10s  %10s  %10s  %10s %10s\\n\", \"i\", \"collision\", \"jerk lat\", \"jerk lon\", \"delta v²\", \"collision\", \"jerk lat\", \"jerk lon\", \"delta v²\", \"total\")\n",
    "for (k,extracted_polynomial_factored_trajectories) in enumerate(extracted_polies)\n",
    "    collision_prob = collision_risk[k]\n",
    "    \n",
    "    k_c = policy.k_c\n",
    "    k_s = policy.k_s\n",
    "    k_v = policy.k_v\n",
    "\n",
    "    J_s = 0.0\n",
    "    J_d = 0.0\n",
    "    for i in 1:length(extracted_polynomial_factored_trajectories)\n",
    "        poly = extracted_polynomial_factored_trajectories.trajs[i]\n",
    "        τ = extracted_polynomial_factored_trajectories.durations[i]\n",
    "\n",
    "        J_s += calc_integrated_squared_jerk(poly.s, τ)\n",
    "        J_d += calc_integrated_squared_jerk(poly.d, τ)\n",
    "    end\n",
    "    J_s *= 0.01\n",
    "    J_d *= 0.01\n",
    "\n",
    "    sdot_f = p₂(extracted_polynomial_factored_trajectories.trajs[end].s, extracted_polynomial_factored_trajectories.durations[end])\n",
    "    ddot_f = p₂(extracted_polynomial_factored_trajectories.trajs[end].d, extracted_polynomial_factored_trajectories.durations[end])\n",
    "    v_f = sqrt(sdot_f*sdot_f + ddot_f*ddot_f)\n",
    "\n",
    "    Δv = v_f - policy.desired_speed\n",
    "    Δv² = Δv*Δv\n",
    "\n",
    "    cost_Δv = k_v*Δv²\n",
    "    cost_Jd = (1.0-k_s)*J_d\n",
    "    cost_Js = k_s*J_s\n",
    "    cost_c  = k_c*collision_prob\n",
    "    \n",
    "    cost = cost_c + cost_Jd + cost_Js + cost_Δv\n",
    "    \n",
    "    @printf(\"%4d  %10.3f  %10.3f  %10.3f  %10.3f  %10.3f  %10.3f  %10.3f  %10.3f  %10.3f\\n\", k, \n",
    "                  collision_prob, J_d, J_s, Δv², cost_c, cost_Jd, cost_Js, cost_Δv, cost)\n",
    "end\n",
    "println(\"best index: \", best_trajectory_index)\n",
    "\n",
    "max_cost = maximum(costs)\n",
    "\n",
    "plot_extracted_trajdefs(pdset, sn, extracted_trajdefs, costs./max_cost, validfind, active_carid,\n",
    "                        canvas_width=canvas_width, canvas_height=canvas_height,\n",
    "                        rendermodel=rendermodel, camerazoom=camerazoom,\n",
    "                        camera_forward_offset=camera_forward_offset)"
   ]
  },
  {
   "cell_type": "code",
   "execution_count": 134,
   "metadata": {
    "collapsed": false,
    "input_collapsed": true
   },
   "outputs": [
    {
     "data": {
      "text/html": [],
      "text/plain": [
       "Slider{Int64}([Input{Int64}] 113,\"validfind_viz\",113,111:115)"
      ]
     },
     "metadata": {},
     "output_type": "display_data"
    },
    {
     "data": {
      "image/png": "[encoded data removed]",
      "text/plain": [
       "CairoSurface(Ptr{Void} @0x00000000088d2080,1100.0,200.0,#undef)"
      ]
     },
     "execution_count": 134,
     "metadata": {
      "comm_id": "99838cb6-3624-4ffe-8f23-f4aafcffa564",
      "reactive": true
     },
     "output_type": "execute_result"
    }
   ],
   "source": [
    "insert!(pdset, extracted_trajdefs[best_trajectory_index], validfind+1, validfind+N_FRAMES_PER_SIM_FRAME)\n",
    "\n",
    "@manipulate for validfind_viz in validfind+1 : validfind+N_FRAMES_PER_SIM_FRAME\n",
    "    plot_extracted_trajdefs(pdset, sn, [extracted_trajdefs[best_trajectory_index]], [costs[best_trajectory_index]/max_cost], validfind_viz, active_carid,\n",
    "                                      canvas_width=canvas_width, canvas_height=canvas_height,\n",
    "                                      rendermodel=rendermodel, camerazoom=camerazoom,\n",
    "                                      camera_forward_offset=camera_forward_offset)\n",
    "end"
   ]
  },
  {
   "cell_type": "code",
   "execution_count": 135,
   "metadata": {
    "collapsed": false
   },
   "outputs": [
    {
     "name": "stdout",
     "output_type": "stream",
     "text": [
      "[-2.4838225345265177e-17,-2.460804788459661e-17,-2.4347700075616384e-17,-2.4057866958549644e-17,-2.373927799961825e-17,-2.3392707091040565e-17]\n"
     ]
    }
   ],
   "source": [
    "println(extracted_trajdefs[best_trajectory_index].df[validfind : validfind+N_FRAMES_PER_SIM_FRAME, :velFy])"
   ]
  },
  {
   "cell_type": "code",
   "execution_count": 136,
   "metadata": {
    "collapsed": false
   },
   "outputs": [
    {
     "data": {
      "text/plain": [
       "false"
      ]
     },
     "execution_count": 136,
     "metadata": {},
     "output_type": "execute_result"
    }
   ],
   "source": [
    "has_intersection(basics.pdset, validfind, validfind+N_FRAMES_PER_SIM_FRAME)"
   ]
  },
  {
   "cell_type": "code",
   "execution_count": 137,
   "metadata": {
    "collapsed": false
   },
   "outputs": [
    {
     "data": {
      "text/plain": [
       "115"
      ]
     },
     "execution_count": 137,
     "metadata": {},
     "output_type": "execute_result"
    }
   ],
   "source": [
    "validfind += N_FRAMES_PER_SIM_FRAME"
   ]
  },
  {
   "cell_type": "markdown",
   "metadata": {},
   "source": [
    "# Evaluate"
   ]
  },
  {
   "cell_type": "code",
   "execution_count": 26,
   "metadata": {
    "collapsed": false
   },
   "outputs": [
    {
     "ename": "LoadError",
     "evalue": "assertion failed: !(is_extind_at_curve_end(curve,extind))\nwhile loading In[26], in expression starting on line 2",
     "output_type": "error",
     "traceback": [
      "assertion failed: !(is_extind_at_curve_end(curve,extind))\nwhile loading In[26], in expression starting on line 2",
      "",
      " in extract_trajdef at /home/tim/.julia/v0.3/AutomotiveDrivingModels/src/simulation/candidate_trajectories.jl:1061",
      " in extract_trajdefs at /home/tim/.julia/v0.3/AutomotiveDrivingModels/src/simulation/candidate_trajectories.jl:1102",
      " in propagate! at /home/tim/.julia/v0.3/AutomotiveDrivingModels/src/policies/risk_estimation_policy.jl:322",
      " in _evaluate_policy at /home/tim/.julia/v0.3/AutomotiveDrivingModels/src/policies/risk_estimation_policy.jl:378",
      " in evaluate_policy at /home/tim/.julia/v0.3/AutomotiveDrivingModels/src/policies/risk_estimation_policy.jl:411"
     ]
    }
   ],
   "source": [
    "\"hidden evaluate_policy\"\n",
    "evaluate_policy(scenario, active_carid, policy, nruns)"
   ]
  },
  {
   "cell_type": "markdown",
   "metadata": {},
   "source": [
    "# Run Once"
   ]
  },
  {
   "cell_type": "code",
   "execution_count": 25,
   "metadata": {
    "collapsed": false
   },
   "outputs": [],
   "source": [
    "pdset = basics.pdset\n",
    "validfind_start = scenario.history\n",
    "validfind_end = scenario.history + 160\n",
    "for validfind in validfind_start : N_FRAMES_PER_SIM_FRAME : validfind_end-1\n",
    "    starttime = time()    \n",
    "    propagate!(basics, policy, active_carid, validfind, N_FRAMES_PER_SIM_FRAME)\n",
    "end"
   ]
  },
  {
   "cell_type": "code",
   "execution_count": 138,
   "metadata": {
    "collapsed": false
   },
   "outputs": [
    {
     "data": {
      "image/svg+xml": [
       "<?xml version=\"1.0\" encoding=\"UTF-8\"?>\n",
       "<svg xmlns=\"http://www.w3.org/2000/svg\" xmlns:xlink=\"http://www.w3.org/1999/xlink\" width=\"560.605pt\" height=\"459.651pt\" viewBox=\"0 0 560.605 459.651\" version=\"1.1\">\n",
       "<defs>\n",
       "<g>\n",
       "<symbol overflow=\"visible\" id=\"glyph-1442012179405606-0-0\">\n",
       "<path style=\"stroke:none;\" d=\"\"/>\n",
       "</symbol>\n",
       "<symbol overflow=\"visible\" id=\"glyph-1442012179405606-0-1\">\n",
       "<path style=\"stroke:none;\" d=\"M 4.75 -6.078125 C 4.828125 -6.1875 4.828125 -6.203125 4.828125 -6.421875 L 2.40625 -6.421875 C 1.203125 -6.421875 1.171875 -6.546875 1.140625 -6.734375 L 0.890625 -6.734375 L 0.5625 -4.6875 L 0.8125 -4.6875 C 0.84375 -4.84375 0.921875 -5.46875 1.0625 -5.59375 C 1.125 -5.65625 1.90625 -5.65625 2.03125 -5.65625 L 4.09375 -5.65625 C 3.984375 -5.5 3.203125 -4.40625 2.984375 -4.078125 C 2.078125 -2.734375 1.75 -1.34375 1.75 -0.328125 C 1.75 -0.234375 1.75 0.21875 2.21875 0.21875 C 2.671875 0.21875 2.671875 -0.234375 2.671875 -0.328125 L 2.671875 -0.84375 C 2.671875 -1.390625 2.703125 -1.9375 2.78125 -2.46875 C 2.828125 -2.703125 2.953125 -3.5625 3.40625 -4.171875 Z M 4.75 -6.078125 \"/>\n",
       "</symbol>\n",
       "<symbol overflow=\"visible\" id=\"glyph-1442012179405606-0-2\">\n",
       "<path style=\"stroke:none;\" d=\"M 4.578125 -3.1875 C 4.578125 -3.984375 4.53125 -4.78125 4.1875 -5.515625 C 3.734375 -6.484375 2.90625 -6.640625 2.5 -6.640625 C 1.890625 -6.640625 1.171875 -6.375 0.75 -5.453125 C 0.4375 -4.765625 0.390625 -3.984375 0.390625 -3.1875 C 0.390625 -2.4375 0.421875 -1.546875 0.84375 -0.78125 C 1.265625 0.015625 2 0.21875 2.484375 0.21875 C 3.015625 0.21875 3.78125 0.015625 4.21875 -0.9375 C 4.53125 -1.625 4.578125 -2.40625 4.578125 -3.1875 Z M 2.484375 0 C 2.09375 0 1.5 -0.25 1.328125 -1.203125 C 1.21875 -1.796875 1.21875 -2.71875 1.21875 -3.3125 C 1.21875 -3.953125 1.21875 -4.609375 1.296875 -5.140625 C 1.484375 -6.328125 2.234375 -6.421875 2.484375 -6.421875 C 2.8125 -6.421875 3.46875 -6.234375 3.65625 -5.25 C 3.765625 -4.6875 3.765625 -3.9375 3.765625 -3.3125 C 3.765625 -2.5625 3.765625 -1.890625 3.65625 -1.25 C 3.5 -0.296875 2.9375 0 2.484375 0 Z M 2.484375 0 \"/>\n",
       "</symbol>\n",
       "<symbol overflow=\"visible\" id=\"glyph-1442012179405606-0-3\">\n",
       "<path style=\"stroke:none;\" d=\"M 1.625 -4.5625 C 1.171875 -4.859375 1.125 -5.1875 1.125 -5.359375 C 1.125 -5.96875 1.78125 -6.390625 2.484375 -6.390625 C 3.203125 -6.390625 3.84375 -5.875 3.84375 -5.15625 C 3.84375 -4.578125 3.453125 -4.109375 2.859375 -3.765625 Z M 3.078125 -3.609375 C 3.796875 -3.984375 4.28125 -4.5 4.28125 -5.15625 C 4.28125 -6.078125 3.40625 -6.640625 2.5 -6.640625 C 1.5 -6.640625 0.6875 -5.90625 0.6875 -4.96875 C 0.6875 -4.796875 0.703125 -4.34375 1.125 -3.875 C 1.234375 -3.765625 1.609375 -3.515625 1.859375 -3.34375 C 1.28125 -3.046875 0.421875 -2.5 0.421875 -1.5 C 0.421875 -0.453125 1.4375 0.21875 2.484375 0.21875 C 3.609375 0.21875 4.5625 -0.609375 4.5625 -1.671875 C 4.5625 -2.03125 4.453125 -2.484375 4.0625 -2.90625 C 3.875 -3.109375 3.71875 -3.203125 3.078125 -3.609375 Z M 2.078125 -3.1875 L 3.3125 -2.40625 C 3.59375 -2.21875 4.0625 -1.921875 4.0625 -1.3125 C 4.0625 -0.578125 3.3125 -0.0625 2.5 -0.0625 C 1.640625 -0.0625 0.921875 -0.671875 0.921875 -1.5 C 0.921875 -2.078125 1.234375 -2.71875 2.078125 -3.1875 Z M 2.078125 -3.1875 \"/>\n",
       "</symbol>\n",
       "<symbol overflow=\"visible\" id=\"glyph-1442012179405606-0-4\">\n",
       "<path style=\"stroke:none;\" d=\"M 3.65625 -3.171875 L 3.65625 -2.84375 C 3.65625 -0.515625 2.625 -0.0625 2.046875 -0.0625 C 1.875 -0.0625 1.328125 -0.078125 1.0625 -0.421875 C 1.5 -0.421875 1.578125 -0.703125 1.578125 -0.875 C 1.578125 -1.1875 1.34375 -1.328125 1.125 -1.328125 C 0.96875 -1.328125 0.671875 -1.25 0.671875 -0.859375 C 0.671875 -0.1875 1.203125 0.21875 2.046875 0.21875 C 3.34375 0.21875 4.5625 -1.140625 4.5625 -3.28125 C 4.5625 -5.96875 3.40625 -6.640625 2.515625 -6.640625 C 1.96875 -6.640625 1.484375 -6.453125 1.0625 -6.015625 C 0.640625 -5.5625 0.421875 -5.140625 0.421875 -4.390625 C 0.421875 -3.15625 1.296875 -2.171875 2.40625 -2.171875 C 3.015625 -2.171875 3.421875 -2.59375 3.65625 -3.171875 Z M 2.421875 -2.40625 C 2.265625 -2.40625 1.796875 -2.40625 1.5 -3.03125 C 1.3125 -3.40625 1.3125 -3.890625 1.3125 -4.390625 C 1.3125 -4.921875 1.3125 -5.390625 1.53125 -5.765625 C 1.796875 -6.265625 2.171875 -6.390625 2.515625 -6.390625 C 2.984375 -6.390625 3.3125 -6.046875 3.484375 -5.609375 C 3.59375 -5.28125 3.640625 -4.65625 3.640625 -4.203125 C 3.640625 -3.375 3.296875 -2.40625 2.421875 -2.40625 Z M 2.421875 -2.40625 \"/>\n",
       "</symbol>\n",
       "<symbol overflow=\"visible\" id=\"glyph-1442012179405606-0-5\">\n",
       "<path style=\"stroke:none;\" d=\"M 2.9375 -6.375 C 2.9375 -6.625 2.9375 -6.640625 2.703125 -6.640625 C 2.078125 -6 1.203125 -6 0.890625 -6 L 0.890625 -5.6875 C 1.09375 -5.6875 1.671875 -5.6875 2.1875 -5.953125 L 2.1875 -0.78125 C 2.1875 -0.421875 2.15625 -0.3125 1.265625 -0.3125 L 0.953125 -0.3125 L 0.953125 0 C 1.296875 -0.03125 2.15625 -0.03125 2.5625 -0.03125 C 2.953125 -0.03125 3.828125 -0.03125 4.171875 0 L 4.171875 -0.3125 L 3.859375 -0.3125 C 2.953125 -0.3125 2.9375 -0.421875 2.9375 -0.78125 Z M 2.9375 -6.375 \"/>\n",
       "</symbol>\n",
       "<symbol overflow=\"visible\" id=\"glyph-1442012179405606-0-6\">\n",
       "<path style=\"stroke:none;\" d=\"M 1.265625 -0.765625 L 2.328125 -1.796875 C 3.875 -3.171875 4.46875 -3.703125 4.46875 -4.703125 C 4.46875 -5.84375 3.578125 -6.640625 2.359375 -6.640625 C 1.234375 -6.640625 0.5 -5.71875 0.5 -4.828125 C 0.5 -4.28125 1 -4.28125 1.03125 -4.28125 C 1.203125 -4.28125 1.546875 -4.390625 1.546875 -4.8125 C 1.546875 -5.0625 1.359375 -5.328125 1.015625 -5.328125 C 0.9375 -5.328125 0.921875 -5.328125 0.890625 -5.3125 C 1.109375 -5.96875 1.65625 -6.328125 2.234375 -6.328125 C 3.140625 -6.328125 3.5625 -5.515625 3.5625 -4.703125 C 3.5625 -3.90625 3.078125 -3.125 2.515625 -2.5 L 0.609375 -0.375 C 0.5 -0.265625 0.5 -0.234375 0.5 0 L 4.203125 0 L 4.46875 -1.734375 L 4.234375 -1.734375 C 4.171875 -1.4375 4.109375 -1 4 -0.84375 C 3.9375 -0.765625 3.28125 -0.765625 3.0625 -0.765625 Z M 1.265625 -0.765625 \"/>\n",
       "</symbol>\n",
       "<symbol overflow=\"visible\" id=\"glyph-1442012179405606-0-7\">\n",
       "<path style=\"stroke:none;\" d=\"M 2.890625 -3.515625 C 3.703125 -3.78125 4.28125 -4.46875 4.28125 -5.265625 C 4.28125 -6.078125 3.40625 -6.640625 2.453125 -6.640625 C 1.453125 -6.640625 0.6875 -6.046875 0.6875 -5.28125 C 0.6875 -4.953125 0.90625 -4.765625 1.203125 -4.765625 C 1.5 -4.765625 1.703125 -4.984375 1.703125 -5.28125 C 1.703125 -5.765625 1.234375 -5.765625 1.09375 -5.765625 C 1.390625 -6.265625 2.046875 -6.390625 2.40625 -6.390625 C 2.828125 -6.390625 3.375 -6.171875 3.375 -5.28125 C 3.375 -5.15625 3.34375 -4.578125 3.09375 -4.140625 C 2.796875 -3.65625 2.453125 -3.625 2.203125 -3.625 C 2.125 -3.609375 1.890625 -3.59375 1.8125 -3.59375 C 1.734375 -3.578125 1.671875 -3.5625 1.671875 -3.46875 C 1.671875 -3.359375 1.734375 -3.359375 1.90625 -3.359375 L 2.34375 -3.359375 C 3.15625 -3.359375 3.53125 -2.6875 3.53125 -1.703125 C 3.53125 -0.34375 2.84375 -0.0625 2.40625 -0.0625 C 1.96875 -0.0625 1.21875 -0.234375 0.875 -0.8125 C 1.21875 -0.765625 1.53125 -0.984375 1.53125 -1.359375 C 1.53125 -1.71875 1.265625 -1.921875 0.984375 -1.921875 C 0.734375 -1.921875 0.421875 -1.78125 0.421875 -1.34375 C 0.421875 -0.4375 1.34375 0.21875 2.4375 0.21875 C 3.65625 0.21875 4.5625 -0.6875 4.5625 -1.703125 C 4.5625 -2.515625 3.921875 -3.296875 2.890625 -3.515625 Z M 2.890625 -3.515625 \"/>\n",
       "</symbol>\n",
       "<symbol overflow=\"visible\" id=\"glyph-1442012179405606-0-8\">\n",
       "<path style=\"stroke:none;\" d=\"M 2.9375 -1.640625 L 2.9375 -0.78125 C 2.9375 -0.421875 2.90625 -0.3125 2.171875 -0.3125 L 1.96875 -0.3125 L 1.96875 0 C 2.375 -0.03125 2.890625 -0.03125 3.3125 -0.03125 C 3.734375 -0.03125 4.25 -0.03125 4.671875 0 L 4.671875 -0.3125 L 4.453125 -0.3125 C 3.71875 -0.3125 3.703125 -0.421875 3.703125 -0.78125 L 3.703125 -1.640625 L 4.6875 -1.640625 L 4.6875 -1.953125 L 3.703125 -1.953125 L 3.703125 -6.484375 C 3.703125 -6.6875 3.703125 -6.75 3.53125 -6.75 C 3.453125 -6.75 3.421875 -6.75 3.34375 -6.625 L 0.28125 -1.953125 L 0.28125 -1.640625 Z M 2.984375 -1.953125 L 0.5625 -1.953125 L 2.984375 -5.671875 Z M 2.984375 -1.953125 \"/>\n",
       "</symbol>\n",
       "<symbol overflow=\"visible\" id=\"glyph-1442012179405606-0-9\">\n",
       "<path style=\"stroke:none;\" d=\"M 4.46875 -2 C 4.46875 -3.1875 3.65625 -4.1875 2.578125 -4.1875 C 2.109375 -4.1875 1.671875 -4.03125 1.3125 -3.671875 L 1.3125 -5.625 C 1.515625 -5.5625 1.84375 -5.5 2.15625 -5.5 C 3.390625 -5.5 4.09375 -6.40625 4.09375 -6.53125 C 4.09375 -6.59375 4.0625 -6.640625 3.984375 -6.640625 C 3.984375 -6.640625 3.953125 -6.640625 3.90625 -6.609375 C 3.703125 -6.515625 3.21875 -6.3125 2.546875 -6.3125 C 2.15625 -6.3125 1.6875 -6.390625 1.21875 -6.59375 C 1.140625 -6.625 1.125 -6.625 1.109375 -6.625 C 1 -6.625 1 -6.546875 1 -6.390625 L 1 -3.4375 C 1 -3.265625 1 -3.1875 1.140625 -3.1875 C 1.21875 -3.1875 1.234375 -3.203125 1.28125 -3.265625 C 1.390625 -3.421875 1.75 -3.96875 2.5625 -3.96875 C 3.078125 -3.96875 3.328125 -3.515625 3.40625 -3.328125 C 3.5625 -2.953125 3.59375 -2.578125 3.59375 -2.078125 C 3.59375 -1.71875 3.59375 -1.125 3.34375 -0.703125 C 3.109375 -0.3125 2.734375 -0.0625 2.28125 -0.0625 C 1.5625 -0.0625 0.984375 -0.59375 0.8125 -1.171875 C 0.84375 -1.171875 0.875 -1.15625 0.984375 -1.15625 C 1.3125 -1.15625 1.484375 -1.40625 1.484375 -1.640625 C 1.484375 -1.890625 1.3125 -2.140625 0.984375 -2.140625 C 0.84375 -2.140625 0.5 -2.0625 0.5 -1.609375 C 0.5 -0.75 1.1875 0.21875 2.296875 0.21875 C 3.453125 0.21875 4.46875 -0.734375 4.46875 -2 Z M 4.46875 -2 \"/>\n",
       "</symbol>\n",
       "<symbol overflow=\"visible\" id=\"glyph-1442012179405606-0-10\">\n",
       "<path style=\"stroke:none;\" d=\"M 1.3125 -3.265625 L 1.3125 -3.515625 C 1.3125 -6.03125 2.546875 -6.390625 3.0625 -6.390625 C 3.296875 -6.390625 3.71875 -6.328125 3.9375 -5.984375 C 3.78125 -5.984375 3.390625 -5.984375 3.390625 -5.546875 C 3.390625 -5.234375 3.625 -5.078125 3.84375 -5.078125 C 4 -5.078125 4.3125 -5.171875 4.3125 -5.5625 C 4.3125 -6.15625 3.875 -6.640625 3.046875 -6.640625 C 1.765625 -6.640625 0.421875 -5.359375 0.421875 -3.15625 C 0.421875 -0.484375 1.578125 0.21875 2.5 0.21875 C 3.609375 0.21875 4.5625 -0.71875 4.5625 -2.03125 C 4.5625 -3.296875 3.671875 -4.25 2.5625 -4.25 C 1.890625 -4.25 1.515625 -3.75 1.3125 -3.265625 Z M 2.5 -0.0625 C 1.875 -0.0625 1.578125 -0.65625 1.515625 -0.8125 C 1.328125 -1.28125 1.328125 -2.078125 1.328125 -2.25 C 1.328125 -3.03125 1.65625 -4.03125 2.546875 -4.03125 C 2.71875 -4.03125 3.171875 -4.03125 3.484375 -3.40625 C 3.65625 -3.046875 3.65625 -2.53125 3.65625 -2.046875 C 3.65625 -1.5625 3.65625 -1.0625 3.484375 -0.703125 C 3.1875 -0.109375 2.734375 -0.0625 2.5 -0.0625 Z M 2.5 -0.0625 \"/>\n",
       "</symbol>\n",
       "<symbol overflow=\"visible\" id=\"glyph-1442012179405606-0-11\">\n",
       "<path style=\"stroke:none;\" d=\"M 1.75 -4.296875 L 1.75 -5.453125 C 1.75 -6.328125 2.21875 -6.8125 2.65625 -6.8125 C 2.6875 -6.8125 2.84375 -6.8125 2.984375 -6.734375 C 2.875 -6.703125 2.6875 -6.5625 2.6875 -6.3125 C 2.6875 -6.09375 2.84375 -5.890625 3.125 -5.890625 C 3.40625 -5.890625 3.5625 -6.09375 3.5625 -6.328125 C 3.5625 -6.703125 3.1875 -7.03125 2.65625 -7.03125 C 1.96875 -7.03125 1.109375 -6.5 1.109375 -5.4375 L 1.109375 -4.296875 L 0.328125 -4.296875 L 0.328125 -3.984375 L 1.109375 -3.984375 L 1.109375 -0.75 C 1.109375 -0.3125 1 -0.3125 0.34375 -0.3125 L 0.34375 0 C 0.734375 -0.015625 1.203125 -0.03125 1.46875 -0.03125 C 1.875 -0.03125 2.34375 -0.03125 2.734375 0 L 2.734375 -0.3125 L 2.53125 -0.3125 C 1.796875 -0.3125 1.78125 -0.421875 1.78125 -0.78125 L 1.78125 -3.984375 L 2.90625 -3.984375 L 2.90625 -4.296875 Z M 1.75 -4.296875 \"/>\n",
       "</symbol>\n",
       "<symbol overflow=\"visible\" id=\"glyph-1442012179405606-0-12\">\n",
       "<path style=\"stroke:none;\" d=\"M 1.671875 -3.3125 L 1.671875 -4.40625 L 0.28125 -4.296875 L 0.28125 -3.984375 C 0.984375 -3.984375 1.0625 -3.921875 1.0625 -3.421875 L 1.0625 -0.75 C 1.0625 -0.3125 0.953125 -0.3125 0.28125 -0.3125 L 0.28125 0 C 0.671875 -0.015625 1.140625 -0.03125 1.421875 -0.03125 C 1.8125 -0.03125 2.28125 -0.03125 2.6875 0 L 2.6875 -0.3125 L 2.46875 -0.3125 C 1.734375 -0.3125 1.71875 -0.421875 1.71875 -0.78125 L 1.71875 -2.3125 C 1.71875 -3.296875 2.140625 -4.1875 2.890625 -4.1875 C 2.953125 -4.1875 2.984375 -4.1875 3 -4.171875 C 2.96875 -4.171875 2.765625 -4.046875 2.765625 -3.78125 C 2.765625 -3.515625 2.984375 -3.359375 3.203125 -3.359375 C 3.375 -3.359375 3.625 -3.484375 3.625 -3.796875 C 3.625 -4.109375 3.3125 -4.40625 2.890625 -4.40625 C 2.15625 -4.40625 1.796875 -3.734375 1.671875 -3.3125 Z M 1.671875 -3.3125 \"/>\n",
       "</symbol>\n",
       "<symbol overflow=\"visible\" id=\"glyph-1442012179405606-0-13\">\n",
       "<path style=\"stroke:none;\" d=\"M 3.3125 -0.75 C 3.359375 -0.359375 3.625 0.0625 4.09375 0.0625 C 4.3125 0.0625 4.921875 -0.078125 4.921875 -0.890625 L 4.921875 -1.453125 L 4.671875 -1.453125 L 4.671875 -0.890625 C 4.671875 -0.3125 4.421875 -0.25 4.3125 -0.25 C 3.984375 -0.25 3.9375 -0.703125 3.9375 -0.75 L 3.9375 -2.734375 C 3.9375 -3.15625 3.9375 -3.546875 3.578125 -3.921875 C 3.1875 -4.3125 2.6875 -4.46875 2.21875 -4.46875 C 1.390625 -4.46875 0.703125 -4 0.703125 -3.34375 C 0.703125 -3.046875 0.90625 -2.875 1.171875 -2.875 C 1.453125 -2.875 1.625 -3.078125 1.625 -3.328125 C 1.625 -3.453125 1.578125 -3.78125 1.109375 -3.78125 C 1.390625 -4.140625 1.875 -4.25 2.1875 -4.25 C 2.6875 -4.25 3.25 -3.859375 3.25 -2.96875 L 3.25 -2.609375 C 2.734375 -2.578125 2.046875 -2.546875 1.421875 -2.25 C 0.671875 -1.90625 0.421875 -1.390625 0.421875 -0.953125 C 0.421875 -0.140625 1.390625 0.109375 2.015625 0.109375 C 2.671875 0.109375 3.125 -0.296875 3.3125 -0.75 Z M 3.25 -2.390625 L 3.25 -1.390625 C 3.25 -0.453125 2.53125 -0.109375 2.078125 -0.109375 C 1.59375 -0.109375 1.1875 -0.453125 1.1875 -0.953125 C 1.1875 -1.5 1.609375 -2.328125 3.25 -2.390625 Z M 3.25 -2.390625 \"/>\n",
       "</symbol>\n",
       "<symbol overflow=\"visible\" id=\"glyph-1442012179405606-0-14\">\n",
       "<path style=\"stroke:none;\" d=\"M 1.09375 -3.421875 L 1.09375 -0.75 C 1.09375 -0.3125 0.984375 -0.3125 0.3125 -0.3125 L 0.3125 0 C 0.671875 -0.015625 1.171875 -0.03125 1.453125 -0.03125 C 1.703125 -0.03125 2.21875 -0.015625 2.5625 0 L 2.5625 -0.3125 C 1.890625 -0.3125 1.78125 -0.3125 1.78125 -0.75 L 1.78125 -2.59375 C 1.78125 -3.625 2.5 -4.1875 3.125 -4.1875 C 3.765625 -4.1875 3.875 -3.65625 3.875 -3.078125 L 3.875 -0.75 C 3.875 -0.3125 3.765625 -0.3125 3.09375 -0.3125 L 3.09375 0 C 3.4375 -0.015625 3.953125 -0.03125 4.21875 -0.03125 C 4.46875 -0.03125 5 -0.015625 5.328125 0 L 5.328125 -0.3125 C 4.671875 -0.3125 4.5625 -0.3125 4.5625 -0.75 L 4.5625 -2.59375 C 4.5625 -3.625 5.265625 -4.1875 5.90625 -4.1875 C 6.53125 -4.1875 6.640625 -3.65625 6.640625 -3.078125 L 6.640625 -0.75 C 6.640625 -0.3125 6.53125 -0.3125 5.859375 -0.3125 L 5.859375 0 C 6.203125 -0.015625 6.71875 -0.03125 6.984375 -0.03125 C 7.25 -0.03125 7.765625 -0.015625 8.109375 0 L 8.109375 -0.3125 C 7.59375 -0.3125 7.34375 -0.3125 7.328125 -0.609375 L 7.328125 -2.515625 C 7.328125 -3.375 7.328125 -3.671875 7.015625 -4.03125 C 6.875 -4.203125 6.546875 -4.40625 5.96875 -4.40625 C 5.140625 -4.40625 4.6875 -3.8125 4.53125 -3.421875 C 4.390625 -4.296875 3.65625 -4.40625 3.203125 -4.40625 C 2.46875 -4.40625 2 -3.984375 1.71875 -3.359375 L 1.71875 -4.40625 L 0.3125 -4.296875 L 0.3125 -3.984375 C 1.015625 -3.984375 1.09375 -3.921875 1.09375 -3.421875 Z M 1.09375 -3.421875 \"/>\n",
       "</symbol>\n",
       "<symbol overflow=\"visible\" id=\"glyph-1442012179405606-0-15\">\n",
       "<path style=\"stroke:none;\" d=\"M 1.109375 -2.515625 C 1.171875 -4 2.015625 -4.25 2.359375 -4.25 C 3.375 -4.25 3.484375 -2.90625 3.484375 -2.515625 Z M 1.109375 -2.296875 L 3.890625 -2.296875 C 4.109375 -2.296875 4.140625 -2.296875 4.140625 -2.515625 C 4.140625 -3.5 3.59375 -4.46875 2.359375 -4.46875 C 1.203125 -4.46875 0.28125 -3.4375 0.28125 -2.1875 C 0.28125 -0.859375 1.328125 0.109375 2.46875 0.109375 C 3.6875 0.109375 4.140625 -1 4.140625 -1.1875 C 4.140625 -1.28125 4.0625 -1.3125 4 -1.3125 C 3.921875 -1.3125 3.890625 -1.25 3.875 -1.171875 C 3.53125 -0.140625 2.625 -0.140625 2.53125 -0.140625 C 2.03125 -0.140625 1.640625 -0.4375 1.40625 -0.8125 C 1.109375 -1.28125 1.109375 -1.9375 1.109375 -2.296875 Z M 1.109375 -2.296875 \"/>\n",
       "</symbol>\n",
       "<symbol overflow=\"visible\" id=\"glyph-1442012179405606-1-0\">\n",
       "<path style=\"stroke:none;\" d=\"\"/>\n",
       "</symbol>\n",
       "<symbol overflow=\"visible\" id=\"glyph-1442012179405606-1-1\">\n",
       "<path style=\"stroke:none;\" d=\"M -3.75 -1.71875 L -4.40625 -1.71875 L -4.296875 -0.28125 L -3.984375 -0.28125 C -3.984375 -0.984375 -3.921875 -1.0625 -3.484375 -1.0625 L 1.171875 -1.0625 C 1.625 -1.0625 1.625 -0.953125 1.625 -0.28125 L 1.9375 -0.28125 C 1.921875 -0.625 1.90625 -1.140625 1.90625 -1.390625 C 1.90625 -1.671875 1.921875 -2.171875 1.9375 -2.515625 L 1.625 -2.515625 C 1.625 -1.859375 1.625 -1.75 1.171875 -1.75 L -0.59375 -1.75 C -0.421875 -1.796875 0.109375 -2.21875 0.109375 -2.96875 C 0.109375 -4.15625 -0.875 -5.1875 -2.15625 -5.1875 C -3.421875 -5.1875 -4.40625 -4.234375 -4.40625 -3.109375 C -4.40625 -2.328125 -3.96875 -1.90625 -3.75 -1.71875 Z M -1.140625 -1.75 L -3.359375 -1.75 C -3.875 -2.03125 -4.15625 -2.515625 -4.15625 -3.03125 C -4.15625 -3.765625 -3.28125 -4.359375 -2.15625 -4.359375 C -0.953125 -4.359375 -0.109375 -3.671875 -0.109375 -2.9375 C -0.109375 -2.53125 -0.3125 -2.15625 -0.71875 -1.890625 C -0.921875 -1.75 -0.9375 -1.75 -1.140625 -1.75 Z M -1.140625 -1.75 \"/>\n",
       "</symbol>\n",
       "<symbol overflow=\"visible\" id=\"glyph-1442012179405606-1-2\">\n",
       "<path style=\"stroke:none;\" d=\"M -2.140625 -4.6875 C -3.40625 -4.6875 -4.46875 -3.703125 -4.46875 -2.5 C -4.46875 -1.25 -3.375 -0.28125 -2.140625 -0.28125 C -0.84375 -0.28125 0.109375 -1.3125 0.109375 -2.484375 C 0.109375 -3.6875 -0.875 -4.6875 -2.140625 -4.6875 Z M -0.140625 -2.5 C -0.140625 -2.0625 -0.34375 -1.625 -0.8125 -1.359375 C -1.25 -1.109375 -1.859375 -1.109375 -2.21875 -1.109375 C -2.609375 -1.109375 -3.140625 -1.109375 -3.578125 -1.34375 C -4.03125 -1.609375 -4.25 -2.078125 -4.25 -2.484375 C -4.25 -2.921875 -4.03125 -3.34375 -3.59375 -3.609375 C -3.171875 -3.875 -2.59375 -3.875 -2.21875 -3.875 C -1.859375 -3.875 -1.3125 -3.875 -0.875 -3.65625 C -0.421875 -3.421875 -0.140625 -2.984375 -0.140625 -2.5 Z M -0.140625 -2.5 \"/>\n",
       "</symbol>\n",
       "<symbol overflow=\"visible\" id=\"glyph-1442012179405606-1-3\">\n",
       "<path style=\"stroke:none;\" d=\"M -1.9375 -2.078125 C -1.890625 -2.296875 -1.734375 -3.109375 -1.015625 -3.109375 C -0.515625 -3.109375 -0.109375 -2.765625 -0.109375 -1.984375 C -0.109375 -1.140625 -0.671875 -0.78125 -1.53125 -0.59375 C -1.65625 -0.5625 -1.6875 -0.5625 -1.6875 -0.453125 C -1.6875 -0.328125 -1.625 -0.328125 -1.453125 -0.328125 L -0.125 -0.328125 C 0.046875 -0.328125 0.109375 -0.328125 0.109375 -0.4375 C 0.109375 -0.484375 0.09375 -0.5 -0.09375 -0.6875 C -0.109375 -0.703125 -0.125 -0.703125 -0.3125 -0.890625 C 0.09375 -1.328125 0.109375 -1.78125 0.109375 -1.984375 C 0.109375 -3.125 -0.5625 -3.59375 -1.28125 -3.59375 C -1.796875 -3.59375 -2.109375 -3.296875 -2.21875 -3.171875 C -2.546875 -2.84375 -2.625 -2.453125 -2.703125 -2.03125 C -2.8125 -1.46875 -2.9375 -0.8125 -3.515625 -0.8125 C -3.875 -0.8125 -4.28125 -1.0625 -4.28125 -1.921875 C -4.28125 -3.015625 -3.375 -3.078125 -3.078125 -3.09375 C -2.984375 -3.09375 -2.984375 -3.1875 -2.984375 -3.203125 C -2.984375 -3.34375 -3.03125 -3.34375 -3.21875 -3.34375 L -4.234375 -3.34375 C -4.390625 -3.34375 -4.46875 -3.34375 -4.46875 -3.234375 C -4.46875 -3.1875 -4.46875 -3.15625 -4.34375 -3.03125 C -4.3125 -3 -4.21875 -2.90625 -4.1875 -2.859375 C -4.46875 -2.484375 -4.46875 -2.078125 -4.46875 -1.921875 C -4.46875 -0.703125 -3.796875 -0.328125 -3.234375 -0.328125 C -2.890625 -0.328125 -2.609375 -0.484375 -2.390625 -0.75 C -2.140625 -1.078125 -2.078125 -1.359375 -1.9375 -2.078125 Z M -1.9375 -2.078125 \"/>\n",
       "</symbol>\n",
       "<symbol overflow=\"visible\" id=\"glyph-1442012179405606-1-4\">\n",
       "<path style=\"stroke:none;\" d=\"M -0.625 -5.90625 C -0.40625 -6.046875 -0.015625 -6.4375 -0.015625 -6.546875 C -0.015625 -6.640625 -0.09375 -6.640625 -0.234375 -6.640625 L -1.96875 -6.640625 C -2.359375 -6.640625 -2.40625 -6.671875 -2.40625 -7.328125 L -2.71875 -7.328125 C -2.71875 -6.953125 -2.6875 -6.40625 -2.6875 -6.109375 C -2.6875 -5.71875 -2.6875 -4.859375 -2.71875 -4.5 L -2.40625 -4.5 L -2.40625 -4.828125 C -2.40625 -5.71875 -2.296875 -5.75 -1.9375 -5.75 L -1.296875 -5.75 C -0.171875 -5.75 -0.09375 -4.484375 -0.09375 -4.203125 C -0.09375 -3.5625 -0.4375 -1.578125 -3.40625 -1.578125 C -6.390625 -1.578125 -6.71875 -3.546875 -6.71875 -4.140625 C -6.71875 -5.21875 -5.828125 -6.125 -4.359375 -6.3125 C -4.21875 -6.34375 -4.1875 -6.34375 -4.1875 -6.484375 C -4.1875 -6.640625 -4.21875 -6.640625 -4.421875 -6.640625 L -6.78125 -6.640625 C -6.953125 -6.640625 -7.03125 -6.640625 -7.03125 -6.53125 C -7.03125 -6.484375 -7.03125 -6.453125 -6.90625 -6.375 L -6.171875 -5.875 C -6.484375 -5.546875 -7.03125 -5.015625 -7.03125 -4.03125 C -7.03125 -2.171875 -5.453125 -0.5625 -3.40625 -0.5625 C -1.359375 -0.5625 0.21875 -2.15625 0.21875 -4.046875 C 0.21875 -4.78125 -0.046875 -5.578125 -0.625 -5.90625 Z M -0.625 -5.90625 \"/>\n",
       "</symbol>\n",
       "<symbol overflow=\"visible\" id=\"glyph-1442012179405606-1-5\">\n",
       "<path style=\"stroke:none;\" d=\"M -2.34375 -2.859375 C -2.71875 -3.15625 -3.203125 -3.53125 -3.46875 -3.78125 C -3.828125 -4.09375 -3.984375 -4.5 -3.984375 -4.96875 L -4.296875 -4.96875 C -4.28125 -4.703125 -4.265625 -4.40625 -4.265625 -4.140625 C -4.265625 -3.84375 -4.28125 -3.3125 -4.296875 -3.1875 L -3.984375 -3.1875 C -3.96875 -3.40625 -3.84375 -3.484375 -3.671875 -3.484375 C -3.515625 -3.484375 -3.390625 -3.375 -3.328125 -3.328125 L -2.546875 -2.71875 L -3.5625 -1.9375 C -3.65625 -1.84375 -3.671875 -1.84375 -3.734375 -1.84375 C -3.890625 -1.84375 -3.984375 -2 -3.984375 -2.1875 L -4.296875 -2.1875 C -4.28125 -1.9375 -4.265625 -1.28125 -4.265625 -1.109375 C -4.265625 -0.90625 -4.28125 -0.4375 -4.296875 -0.171875 L -3.984375 -0.171875 C -3.984375 -0.875 -3.984375 -0.875 -3.375 -1.34375 L -2.09375 -2.328125 L -0.90625 -1.390625 C -0.328125 -0.921875 -0.3125 -0.328125 -0.3125 -0.125 L 0 -0.125 C -0.015625 -0.375 -0.03125 -0.6875 -0.03125 -0.953125 C -0.03125 -1.234375 -0.015625 -1.65625 0 -1.890625 L -0.3125 -1.890625 C -0.34375 -1.671875 -0.46875 -1.609375 -0.625 -1.609375 C -0.84375 -1.609375 -1.171875 -1.890625 -1.890625 -2.5 L -0.890625 -3.265625 C -0.78125 -3.34375 -0.625 -3.46875 -0.5625 -3.46875 C -0.46875 -3.46875 -0.3125 -3.375 -0.3125 -3.109375 L 0 -3.109375 C -0.015625 -3.40625 -0.03125 -3.96875 -0.03125 -4.1875 C -0.03125 -4.453125 -0.015625 -4.84375 0 -5.140625 L -0.3125 -5.140625 C -0.3125 -4.609375 -0.328125 -4.421875 -0.625 -4.203125 Z M -2.34375 -2.859375 \"/>\n",
       "</symbol>\n",
       "<symbol overflow=\"visible\" id=\"glyph-1442012179405606-1-6\">\n",
       "<path style=\"stroke:none;\" d=\"M -3.3125 -4.140625 C -3.546875 -4.234375 -3.984375 -4.40625 -3.984375 -5.0625 L -4.296875 -5.0625 C -4.28125 -4.828125 -4.265625 -4.546875 -4.265625 -4.3125 C -4.265625 -4.078125 -4.28125 -3.625 -4.296875 -3.453125 L -3.984375 -3.453125 C -3.984375 -3.8125 -3.75 -3.921875 -3.5625 -3.921875 C -3.46875 -3.921875 -3.421875 -3.90625 -3.3125 -3.875 L -0.78125 -2.84375 L -3.5625 -1.734375 C -3.6875 -1.671875 -3.703125 -1.671875 -3.734375 -1.671875 C -3.984375 -1.671875 -3.984375 -2.0625 -3.984375 -2.25 L -4.296875 -2.25 C -4.28125 -1.9375 -4.265625 -1.390625 -4.265625 -1.15625 C -4.265625 -0.890625 -4.28125 -0.484375 -4.296875 -0.1875 L -3.984375 -0.1875 C -3.984375 -0.8125 -3.921875 -0.859375 -3.625 -0.984375 L -0.078125 -2.421875 C 0.0625 -2.484375 0.109375 -2.5 0.109375 -2.625 C 0.109375 -2.765625 0.015625 -2.796875 -0.078125 -2.84375 Z M -3.3125 -4.140625 \"/>\n",
       "</symbol>\n",
       "<symbol overflow=\"visible\" id=\"glyph-1442012179405606-1-7\">\n",
       "<path style=\"stroke:none;\" d=\"M -2.515625 -1.109375 C -4 -1.171875 -4.25 -2.015625 -4.25 -2.359375 C -4.25 -3.375 -2.90625 -3.484375 -2.515625 -3.484375 Z M -2.296875 -1.109375 L -2.296875 -3.890625 C -2.296875 -4.109375 -2.296875 -4.140625 -2.515625 -4.140625 C -3.5 -4.140625 -4.46875 -3.59375 -4.46875 -2.359375 C -4.46875 -1.203125 -3.4375 -0.28125 -2.1875 -0.28125 C -0.859375 -0.28125 0.109375 -1.328125 0.109375 -2.46875 C 0.109375 -3.6875 -1 -4.140625 -1.1875 -4.140625 C -1.28125 -4.140625 -1.3125 -4.0625 -1.3125 -4 C -1.3125 -3.921875 -1.25 -3.890625 -1.171875 -3.875 C -0.140625 -3.53125 -0.140625 -2.625 -0.140625 -2.53125 C -0.140625 -2.03125 -0.4375 -1.640625 -0.8125 -1.40625 C -1.28125 -1.109375 -1.9375 -1.109375 -2.296875 -1.109375 Z M -2.296875 -1.109375 \"/>\n",
       "</symbol>\n",
       "<symbol overflow=\"visible\" id=\"glyph-1442012179405606-1-8\">\n",
       "<path style=\"stroke:none;\" d=\"M -6.921875 -1.765625 L -6.8125 -0.328125 L -6.5 -0.328125 C -6.5 -1.03125 -6.4375 -1.109375 -5.9375 -1.109375 L -0.75 -1.109375 C -0.3125 -1.109375 -0.3125 -1 -0.3125 -0.328125 L 0 -0.328125 C -0.015625 -0.65625 -0.03125 -1.1875 -0.03125 -1.4375 C -0.03125 -1.6875 -0.015625 -2.171875 0 -2.546875 L -0.3125 -2.546875 C -0.3125 -1.875 -0.3125 -1.765625 -0.75 -1.765625 Z M -6.921875 -1.765625 \"/>\n",
       "</symbol>\n",
       "<symbol overflow=\"visible\" id=\"glyph-1442012179405606-1-9\">\n",
       "<path style=\"stroke:none;\" d=\"M -6.78125 -5.796875 L -6.78125 -0.328125 L -6.46875 -0.328125 L -6.46875 -0.5625 C -6.46875 -1.328125 -6.359375 -1.359375 -6 -1.359375 L -0.78125 -1.359375 C -0.421875 -1.359375 -0.3125 -1.328125 -0.3125 -0.5625 L -0.3125 -0.328125 L 0 -0.328125 C -0.03125 -0.671875 -0.03125 -1.453125 -0.03125 -1.84375 C -0.03125 -2.25 -0.03125 -3.15625 0 -3.515625 L -0.3125 -3.515625 L -0.3125 -3.1875 C -0.3125 -2.25 -0.4375 -2.25 -0.78125 -2.25 L -3.234375 -2.25 L -3.234375 -3.09375 C -3.234375 -4.0625 -2.921875 -4.15625 -2.078125 -4.15625 L -2.078125 -4.40625 L -4.71875 -4.40625 L -4.71875 -4.15625 C -3.875 -4.15625 -3.546875 -4.0625 -3.546875 -3.09375 L -3.546875 -2.25 L -6.078125 -2.25 C -6.40625 -2.25 -6.46875 -2.265625 -6.46875 -2.734375 L -6.46875 -3.921875 C -6.46875 -5.421875 -5.90625 -5.671875 -4.53125 -5.828125 L -4.53125 -6.078125 Z M -6.78125 -5.796875 \"/>\n",
       "</symbol>\n",
       "<symbol overflow=\"visible\" id=\"glyph-1442012179405606-1-10\">\n",
       "<path style=\"stroke:none;\" d=\"M -3.34375 -4.140625 C -3.984375 -4.390625 -3.984375 -4.90625 -3.984375 -5.0625 L -4.296875 -5.0625 C -4.28125 -4.828125 -4.265625 -4.546875 -4.265625 -4.3125 C -4.265625 -4.140625 -4.28125 -3.671875 -4.296875 -3.453125 L -3.984375 -3.453125 C -3.984375 -3.765625 -3.8125 -3.921875 -3.5625 -3.921875 C -3.453125 -3.921875 -3.4375 -3.90625 -3.3125 -3.859375 L -0.875 -2.84375 L -3.546875 -1.75 C -3.65625 -1.703125 -3.6875 -1.6875 -3.734375 -1.6875 C -3.984375 -1.6875 -3.984375 -2.046875 -3.984375 -2.25 L -4.296875 -2.25 C -4.28125 -1.984375 -4.265625 -1.328125 -4.265625 -1.15625 C -4.265625 -0.890625 -4.28125 -0.484375 -4.296875 -0.1875 L -3.984375 -0.1875 C -3.984375 -0.671875 -3.984375 -0.859375 -3.640625 -1 L 0 -2.5 C 0.125 -2.4375 0.453125 -2.296875 0.59375 -2.25 C 1.140625 -2.03125 1.828125 -1.75 1.828125 -1.109375 C 1.828125 -1.0625 1.828125 -0.828125 1.640625 -0.640625 C 1.609375 -0.953125 1.390625 -1.03125 1.21875 -1.03125 C 0.96875 -1.03125 0.8125 -0.84375 0.8125 -0.609375 C 0.8125 -0.40625 0.9375 -0.1875 1.234375 -0.1875 C 1.6875 -0.1875 2.046875 -0.609375 2.046875 -1.109375 C 2.046875 -1.734375 1.46875 -2.140625 0.90625 -2.375 Z M -3.34375 -4.140625 \"/>\n",
       "</symbol>\n",
       "<symbol overflow=\"visible\" id=\"glyph-1442012179405606-2-0\">\n",
       "<path style=\"stroke:none;\" d=\"\"/>\n",
       "</symbol>\n",
       "<symbol overflow=\"visible\" id=\"glyph-1442012179405606-2-1\">\n",
       "<path style=\"stroke:none;\" d=\"M 1.90625 -0.53125 C 1.90625 -0.8125 1.671875 -1.0625 1.390625 -1.0625 C 1.09375 -1.0625 0.859375 -0.8125 0.859375 -0.53125 C 0.859375 -0.234375 1.09375 0 1.390625 0 C 1.671875 0 1.90625 -0.234375 1.90625 -0.53125 Z M 1.90625 -0.53125 \"/>\n",
       "</symbol>\n",
       "<symbol overflow=\"visible\" id=\"glyph-1442012179405606-3-0\">\n",
       "<path style=\"stroke:none;\" d=\"\"/>\n",
       "</symbol>\n",
       "<symbol overflow=\"visible\" id=\"glyph-1442012179405606-3-1\">\n",
       "<path style=\"stroke:none;\" d=\"M 1.90625 -2.5 C 1.90625 -2.78125 1.671875 -3.015625 1.390625 -3.015625 C 1.09375 -3.015625 0.859375 -2.78125 0.859375 -2.5 C 0.859375 -2.203125 1.09375 -1.96875 1.390625 -1.96875 C 1.671875 -1.96875 1.90625 -2.203125 1.90625 -2.5 Z M 1.90625 -2.5 \"/>\n",
       "</symbol>\n",
       "<symbol overflow=\"visible\" id=\"glyph-1442012179405606-4-0\">\n",
       "<path style=\"stroke:none;\" d=\"\"/>\n",
       "</symbol>\n",
       "<symbol overflow=\"visible\" id=\"glyph-1442012179405606-4-1\">\n",
       "<path style=\"stroke:none;\" d=\"M 5.1875 -1.578125 C 5.296875 -1.578125 5.46875 -1.578125 5.46875 -1.734375 C 5.46875 -1.921875 5.296875 -1.921875 5.1875 -1.921875 L 1.03125 -1.921875 C 0.921875 -1.921875 0.75 -1.921875 0.75 -1.75 C 0.75 -1.578125 0.90625 -1.578125 1.03125 -1.578125 Z M 5.1875 -1.578125 \"/>\n",
       "</symbol>\n",
       "<symbol overflow=\"visible\" id=\"glyph-1442012179405606-5-0\">\n",
       "<path style=\"stroke:none;\" d=\"\"/>\n",
       "</symbol>\n",
       "<symbol overflow=\"visible\" id=\"glyph-1442012179405606-5-1\">\n",
       "<path style=\"stroke:none;\" d=\"M 2.328125 -4.4375 C 2.328125 -4.625 2.328125 -4.625 2.125 -4.625 C 1.671875 -4.1875 1.046875 -4.1875 0.765625 -4.1875 L 0.765625 -3.9375 C 0.921875 -3.9375 1.390625 -3.9375 1.765625 -4.125 L 1.765625 -0.578125 C 1.765625 -0.34375 1.765625 -0.25 1.078125 -0.25 L 0.8125 -0.25 L 0.8125 0 C 0.9375 0 1.796875 -0.03125 2.046875 -0.03125 C 2.265625 -0.03125 3.140625 0 3.296875 0 L 3.296875 -0.25 L 3.03125 -0.25 C 2.328125 -0.25 2.328125 -0.34375 2.328125 -0.578125 Z M 2.328125 -4.4375 \"/>\n",
       "</symbol>\n",
       "<symbol overflow=\"visible\" id=\"glyph-1442012179405606-5-2\">\n",
       "<path style=\"stroke:none;\" d=\"M 3.734375 -4.203125 C 3.796875 -4.296875 3.796875 -4.3125 3.796875 -4.484375 L 1.96875 -4.484375 C 1.6875 -4.484375 1.609375 -4.5 1.359375 -4.515625 C 1 -4.546875 0.984375 -4.59375 0.96875 -4.703125 L 0.734375 -4.703125 L 0.484375 -3.21875 L 0.71875 -3.21875 C 0.734375 -3.328125 0.8125 -3.78125 0.921875 -3.859375 C 0.96875 -3.890625 1.546875 -3.890625 1.640625 -3.890625 L 3.15625 -3.890625 C 2.9375 -3.609375 2.578125 -3.171875 2.4375 -2.96875 C 1.53125 -1.78125 1.4375 -0.671875 1.4375 -0.265625 C 1.4375 -0.1875 1.4375 0.140625 1.765625 0.140625 C 2.109375 0.140625 2.109375 -0.171875 2.109375 -0.265625 L 2.109375 -0.546875 C 2.109375 -1.890625 2.390625 -2.515625 2.6875 -2.890625 Z M 3.734375 -4.203125 \"/>\n",
       "</symbol>\n",
       "</g>\n",
       "</defs>\n",
       "<g id=\"surface1\">\n",
       "<path style=\"fill:none;stroke-width:0.19925;stroke-linecap:butt;stroke-linejoin:miter;stroke:rgb(50%,50%,50%);stroke-opacity:1;stroke-miterlimit:10;\" d=\"M -29.004594 -10.438219 L -29.004594 -6.188219 M -29.004594 114.811781 L -29.004594 110.561781 M -0.0006875 -10.438219 L -0.0006875 -6.188219 M -0.0006875 114.811781 L -0.0006875 110.561781 M 29.007125 -10.438219 L 29.007125 -6.188219 M 29.007125 114.811781 L 29.007125 110.561781 M 58.011031 -10.438219 L 58.011031 -6.188219 M 58.011031 114.811781 L 58.011031 110.561781 M 87.014938 -10.438219 L 87.014938 -6.188219 M 87.014938 114.811781 L 87.014938 110.561781 M 116.02275 -10.438219 L 116.02275 -6.188219 M 116.02275 114.811781 L 116.02275 110.561781 M 145.026656 -10.438219 L 145.026656 -6.188219 M 145.026656 114.811781 L 145.026656 110.561781 M 174.030563 -10.438219 L 174.030563 -6.188219 M 174.030563 114.811781 L 174.030563 110.561781 M 203.038375 -10.438219 L 203.038375 -6.188219 M 203.038375 114.811781 L 203.038375 110.561781 M 232.042281 -10.438219 L 232.042281 -6.188219 M 232.042281 114.811781 L 232.042281 110.561781 M 261.050094 -10.438219 L 261.050094 -6.188219 M 261.050094 114.811781 L 261.050094 110.561781 M 290.054 -10.438219 L 290.054 -6.188219 M 290.054 114.811781 L 290.054 110.561781 M 319.057906 -10.438219 L 319.057906 -6.188219 M 319.057906 114.811781 L 319.057906 110.561781 M 348.065719 -10.438219 L 348.065719 -6.188219 M 348.065719 114.811781 L 348.065719 110.561781 M 377.069625 -10.438219 L 377.069625 -6.188219 M 377.069625 114.811781 L 377.069625 110.561781 M 406.073531 -10.438219 L 406.073531 -6.188219 M 406.073531 114.811781 L 406.073531 110.561781 M 435.081344 -10.438219 L 435.081344 -6.188219 M 435.081344 114.811781 L 435.081344 110.561781 M 464.08525 -10.438219 L 464.08525 -6.188219 M 464.08525 114.811781 L 464.08525 110.561781 \" transform=\"matrix(1,0,0,-1,81.821,115.011)\"/>\n",
       "<path style=\"fill:none;stroke-width:0.19925;stroke-linecap:butt;stroke-linejoin:miter;stroke:rgb(50%,50%,50%);stroke-opacity:1;stroke-miterlimit:10;\" d=\"M -43.512406 35.780531 L -39.2585 35.780531 M 478.593062 35.780531 L 474.339156 35.780531 M -43.512406 83.66725 L -39.2585 83.66725 M 478.593062 83.66725 L 474.339156 83.66725 \" transform=\"matrix(1,0,0,-1,81.821,115.011)\"/>\n",
       "<path style=\"fill:none;stroke-width:0.3985;stroke-linecap:butt;stroke-linejoin:miter;stroke:rgb(0%,0%,0%);stroke-opacity:1;stroke-miterlimit:10;\" d=\"M -43.512406 -10.438219 L -43.512406 114.811781 L 478.593062 114.811781 L 478.593062 -10.438219 Z M -43.512406 -10.438219 \" transform=\"matrix(1,0,0,-1,81.821,115.011)\"/>\n",
       "<g style=\"fill:rgb(0%,0%,0%);fill-opacity:1;\">\n",
       "  <use xlink:href=\"#glyph-1442012179405606-0-1\" x=\"47.834\" y=\"135.389\"/>\n",
       "  <use xlink:href=\"#glyph-1442012179405606-0-2\" x=\"52.81532\" y=\"135.389\"/>\n",
       "</g>\n",
       "<g style=\"fill:rgb(0%,0%,0%);fill-opacity:1;\">\n",
       "  <use xlink:href=\"#glyph-1442012179405606-0-3\" x=\"76.839\" y=\"135.389\"/>\n",
       "  <use xlink:href=\"#glyph-1442012179405606-0-2\" x=\"81.82032\" y=\"135.389\"/>\n",
       "</g>\n",
       "<g style=\"fill:rgb(0%,0%,0%);fill-opacity:1;\">\n",
       "  <use xlink:href=\"#glyph-1442012179405606-0-4\" x=\"105.844\" y=\"135.389\"/>\n",
       "  <use xlink:href=\"#glyph-1442012179405606-0-2\" x=\"110.82532\" y=\"135.389\"/>\n",
       "</g>\n",
       "<g style=\"fill:rgb(0%,0%,0%);fill-opacity:1;\">\n",
       "  <use xlink:href=\"#glyph-1442012179405606-0-5\" x=\"132.359\" y=\"135.389\"/>\n",
       "  <use xlink:href=\"#glyph-1442012179405606-0-2\" x=\"137.34032\" y=\"135.389\"/>\n",
       "  <use xlink:href=\"#glyph-1442012179405606-0-2\" x=\"142.32164\" y=\"135.389\"/>\n",
       "</g>\n",
       "<g style=\"fill:rgb(0%,0%,0%);fill-opacity:1;\">\n",
       "  <use xlink:href=\"#glyph-1442012179405606-0-5\" x=\"161.364\" y=\"135.389\"/>\n",
       "  <use xlink:href=\"#glyph-1442012179405606-0-5\" x=\"166.34532\" y=\"135.389\"/>\n",
       "  <use xlink:href=\"#glyph-1442012179405606-0-2\" x=\"171.32664\" y=\"135.389\"/>\n",
       "</g>\n",
       "<g style=\"fill:rgb(0%,0%,0%);fill-opacity:1;\">\n",
       "  <use xlink:href=\"#glyph-1442012179405606-0-5\" x=\"190.369\" y=\"135.389\"/>\n",
       "  <use xlink:href=\"#glyph-1442012179405606-0-6\" x=\"195.35032\" y=\"135.389\"/>\n",
       "  <use xlink:href=\"#glyph-1442012179405606-0-2\" x=\"200.33164\" y=\"135.389\"/>\n",
       "</g>\n",
       "<g style=\"fill:rgb(0%,0%,0%);fill-opacity:1;\">\n",
       "  <use xlink:href=\"#glyph-1442012179405606-0-5\" x=\"219.374\" y=\"135.389\"/>\n",
       "  <use xlink:href=\"#glyph-1442012179405606-0-7\" x=\"224.35532\" y=\"135.389\"/>\n",
       "  <use xlink:href=\"#glyph-1442012179405606-0-2\" x=\"229.33664\" y=\"135.389\"/>\n",
       "</g>\n",
       "<g style=\"fill:rgb(0%,0%,0%);fill-opacity:1;\">\n",
       "  <use xlink:href=\"#glyph-1442012179405606-0-5\" x=\"248.379\" y=\"135.389\"/>\n",
       "  <use xlink:href=\"#glyph-1442012179405606-0-8\" x=\"253.36032\" y=\"135.389\"/>\n",
       "  <use xlink:href=\"#glyph-1442012179405606-0-2\" x=\"258.34164\" y=\"135.389\"/>\n",
       "</g>\n",
       "<g style=\"fill:rgb(0%,0%,0%);fill-opacity:1;\">\n",
       "  <use xlink:href=\"#glyph-1442012179405606-0-5\" x=\"277.384\" y=\"135.389\"/>\n",
       "  <use xlink:href=\"#glyph-1442012179405606-0-9\" x=\"282.36532\" y=\"135.389\"/>\n",
       "  <use xlink:href=\"#glyph-1442012179405606-0-2\" x=\"287.34664\" y=\"135.389\"/>\n",
       "</g>\n",
       "<g style=\"fill:rgb(0%,0%,0%);fill-opacity:1;\">\n",
       "  <use xlink:href=\"#glyph-1442012179405606-0-5\" x=\"306.389\" y=\"135.389\"/>\n",
       "  <use xlink:href=\"#glyph-1442012179405606-0-10\" x=\"311.37032\" y=\"135.389\"/>\n",
       "  <use xlink:href=\"#glyph-1442012179405606-0-2\" x=\"316.35164\" y=\"135.389\"/>\n",
       "</g>\n",
       "<g style=\"fill:rgb(0%,0%,0%);fill-opacity:1;\">\n",
       "  <use xlink:href=\"#glyph-1442012179405606-0-5\" x=\"335.394\" y=\"135.389\"/>\n",
       "  <use xlink:href=\"#glyph-1442012179405606-0-1\" x=\"340.37532\" y=\"135.389\"/>\n",
       "  <use xlink:href=\"#glyph-1442012179405606-0-2\" x=\"345.35664\" y=\"135.389\"/>\n",
       "</g>\n",
       "<g style=\"fill:rgb(0%,0%,0%);fill-opacity:1;\">\n",
       "  <use xlink:href=\"#glyph-1442012179405606-0-5\" x=\"364.399\" y=\"135.389\"/>\n",
       "  <use xlink:href=\"#glyph-1442012179405606-0-3\" x=\"369.38032\" y=\"135.389\"/>\n",
       "  <use xlink:href=\"#glyph-1442012179405606-0-2\" x=\"374.36164\" y=\"135.389\"/>\n",
       "</g>\n",
       "<g style=\"fill:rgb(0%,0%,0%);fill-opacity:1;\">\n",
       "  <use xlink:href=\"#glyph-1442012179405606-0-5\" x=\"393.404\" y=\"135.389\"/>\n",
       "  <use xlink:href=\"#glyph-1442012179405606-0-4\" x=\"398.38532\" y=\"135.389\"/>\n",
       "  <use xlink:href=\"#glyph-1442012179405606-0-2\" x=\"403.36664\" y=\"135.389\"/>\n",
       "</g>\n",
       "<g style=\"fill:rgb(0%,0%,0%);fill-opacity:1;\">\n",
       "  <use xlink:href=\"#glyph-1442012179405606-0-6\" x=\"422.409\" y=\"135.389\"/>\n",
       "  <use xlink:href=\"#glyph-1442012179405606-0-2\" x=\"427.39032\" y=\"135.389\"/>\n",
       "  <use xlink:href=\"#glyph-1442012179405606-0-2\" x=\"432.37164\" y=\"135.389\"/>\n",
       "</g>\n",
       "<g style=\"fill:rgb(0%,0%,0%);fill-opacity:1;\">\n",
       "  <use xlink:href=\"#glyph-1442012179405606-0-6\" x=\"451.414\" y=\"135.389\"/>\n",
       "  <use xlink:href=\"#glyph-1442012179405606-0-5\" x=\"456.39532\" y=\"135.389\"/>\n",
       "  <use xlink:href=\"#glyph-1442012179405606-0-2\" x=\"461.37664\" y=\"135.389\"/>\n",
       "</g>\n",
       "<g style=\"fill:rgb(0%,0%,0%);fill-opacity:1;\">\n",
       "  <use xlink:href=\"#glyph-1442012179405606-0-6\" x=\"480.419\" y=\"135.389\"/>\n",
       "  <use xlink:href=\"#glyph-1442012179405606-0-6\" x=\"485.40032\" y=\"135.389\"/>\n",
       "  <use xlink:href=\"#glyph-1442012179405606-0-2\" x=\"490.38164\" y=\"135.389\"/>\n",
       "</g>\n",
       "<g style=\"fill:rgb(0%,0%,0%);fill-opacity:1;\">\n",
       "  <use xlink:href=\"#glyph-1442012179405606-0-6\" x=\"509.424\" y=\"135.389\"/>\n",
       "  <use xlink:href=\"#glyph-1442012179405606-0-7\" x=\"514.40532\" y=\"135.389\"/>\n",
       "  <use xlink:href=\"#glyph-1442012179405606-0-2\" x=\"519.38664\" y=\"135.389\"/>\n",
       "</g>\n",
       "<g style=\"fill:rgb(0%,0%,0%);fill-opacity:1;\">\n",
       "  <use xlink:href=\"#glyph-1442012179405606-0-6\" x=\"538.429\" y=\"135.389\"/>\n",
       "  <use xlink:href=\"#glyph-1442012179405606-0-8\" x=\"543.41032\" y=\"135.389\"/>\n",
       "  <use xlink:href=\"#glyph-1442012179405606-0-2\" x=\"548.39164\" y=\"135.389\"/>\n",
       "</g>\n",
       "<g style=\"fill:rgb(0%,0%,0%);fill-opacity:1;\">\n",
       "  <use xlink:href=\"#glyph-1442012179405606-0-6\" x=\"19.847\" y=\"82.442\"/>\n",
       "  <use xlink:href=\"#glyph-1442012179405606-0-2\" x=\"24.82832\" y=\"82.442\"/>\n",
       "  <use xlink:href=\"#glyph-1442012179405606-0-2\" x=\"29.80964\" y=\"82.442\"/>\n",
       "</g>\n",
       "<g style=\"fill:rgb(0%,0%,0%);fill-opacity:1;\">\n",
       "  <use xlink:href=\"#glyph-1442012179405606-0-7\" x=\"19.847\" y=\"34.553\"/>\n",
       "  <use xlink:href=\"#glyph-1442012179405606-0-2\" x=\"24.82832\" y=\"34.553\"/>\n",
       "  <use xlink:href=\"#glyph-1442012179405606-0-2\" x=\"29.80964\" y=\"34.553\"/>\n",
       "</g>\n",
       "<path style=\"fill:none;stroke-width:0.3985;stroke-linecap:butt;stroke-linejoin:miter;stroke:rgb(0%,0%,100%);stroke-opacity:1;stroke-miterlimit:10;\" d=\"M -0.0006875 -0.00071875 L 2.901656 0.694594 L 5.800094 1.389906 L 8.702438 2.085219 L 11.600875 2.784438 L 14.503219 3.475844 L 17.401656 4.171156 L 20.304 4.866469 L 23.202438 5.561781 L 26.104781 6.253188 L 29.007125 6.9485 L 31.905563 7.655531 L 34.807906 8.350844 L 37.706344 9.046156 L 40.608688 9.741469 L 43.507125 10.436781 L 46.409469 11.132094 L 49.307906 11.827406 L 52.21025 12.526625 L 55.108688 13.221938 L 58.011031 13.91725 L 60.909469 14.612563 L 66.714156 16.003188 L 69.612594 16.6985 L 72.514938 17.393813 L 75.413375 18.089125 L 78.315719 18.784438 L 81.214156 19.47975 L 84.1165 20.171156 L 87.014938 20.866469 L 89.917281 21.557875 L 92.815719 22.249281 L 95.718063 22.940688 L 98.6165 23.632094 L 101.518844 24.319594 L 104.421188 25.050063 L 107.319625 25.745375 L 110.221969 26.440688 L 113.120406 27.136 L 116.02275 27.831313 L 118.921188 28.530531 L 121.823531 29.225844 L 124.721969 29.921156 L 127.624313 30.616469 L 130.52275 31.311781 L 133.425094 32.007094 L 136.323531 32.702406 L 139.225875 33.401625 L 142.128219 34.096938 L 145.026656 34.79225 L 147.929 35.487563 L 150.827438 36.182875 L 153.729781 36.878188 L 156.628219 37.5735 L 159.530563 38.268813 L 162.429 38.968031 L 165.331344 39.663344 L 168.229781 40.358656 L 171.132125 41.053969 L 174.030563 41.749281 L 179.83525 43.139906 L 182.733688 43.839125 L 185.636031 44.534438 L 188.534469 45.22975 L 191.436813 45.925063 L 194.33525 46.620375 L 197.237594 47.315688 L 200.136031 48.011 L 203.038375 48.706313 L 205.936813 49.405531 L 208.839156 50.100844 L 211.737594 50.796156 L 214.639938 51.491469 L 217.538375 52.186781 L 223.343063 53.577406 L 226.2415 54.276625 L 229.143844 54.971938 L 232.042281 55.66725 L 234.944625 56.362563 L 237.843063 57.057875 L 240.745406 57.753188 L 243.643844 58.4485 L 246.546188 59.143813 L 249.444625 59.843031 L 252.346969 60.538344 L 255.245406 61.233656 L 261.050094 62.624281 L 263.948531 63.319594 L 266.850875 64.014906 L 269.749312 64.714125 L 272.651656 65.409438 L 275.550094 66.10475 L 278.452437 66.800063 L 281.350875 67.495375 L 284.253219 68.190688 L 287.151656 68.886 L 290.054 69.581313 L 292.952437 70.280531 L 298.757125 71.671156 L 301.655562 72.366469 L 304.557906 73.061781 L 307.456344 73.757094 L 310.358687 74.452406 L 313.257125 75.151625 L 316.159469 75.846938 L 319.057906 76.54225 L 321.96025 77.237563 L 324.858687 77.932875 L 327.761031 78.628188 L 330.659469 79.3235 L 333.561812 80.018813 L 336.464156 80.718031 L 339.362594 81.413344 L 342.264937 82.108656 L 345.163375 82.803969 L 348.065719 83.499281 L 350.964156 84.194594 L 353.8665 84.889906 L 356.764937 85.589125 L 359.667281 86.284438 L 362.565719 86.97975 L 365.468062 87.675063 L 368.3665 88.370375 L 374.171187 89.761 L 377.069625 90.456313 L 379.971969 91.155531 L 382.870406 91.850844 L 385.77275 92.546156 L 388.671187 93.241469 L 391.573531 93.936781 L 394.471969 94.632094 L 397.374312 95.327406 L 400.27275 96.026625 L 403.175094 96.721938 L 406.073531 97.41725 L 411.878219 98.807875 L 414.776656 99.503188 L 417.679 100.1985 L 420.577437 100.893813 L 423.479781 101.593031 L 426.378219 102.288344 L 429.280562 102.983656 L 432.179 103.678969 L 435.081344 104.374281 \" transform=\"matrix(1,0,0,-1,81.821,115.011)\"/>\n",
       "<g style=\"fill:rgb(0%,0%,0%);fill-opacity:1;\">\n",
       "  <use xlink:href=\"#glyph-1442012179405606-0-11\" x=\"287.029\" y=\"149.148\"/>\n",
       "  <use xlink:href=\"#glyph-1442012179405606-0-12\" x=\"290.073583\" y=\"149.148\"/>\n",
       "  <use xlink:href=\"#glyph-1442012179405606-0-13\" x=\"293.975949\" y=\"149.148\"/>\n",
       "  <use xlink:href=\"#glyph-1442012179405606-0-14\" x=\"298.957269\" y=\"149.148\"/>\n",
       "  <use xlink:href=\"#glyph-1442012179405606-0-15\" x=\"307.259137\" y=\"149.148\"/>\n",
       "</g>\n",
       "<g style=\"fill:rgb(0%,0%,0%);fill-opacity:1;\">\n",
       "  <use xlink:href=\"#glyph-1442012179405606-1-1\" x=\"11.069\" y=\"76.723\"/>\n",
       "</g>\n",
       "<g style=\"fill:rgb(0%,0%,0%);fill-opacity:1;\">\n",
       "  <use xlink:href=\"#glyph-1442012179405606-1-2\" x=\"11.069\" y=\"70.918766\"/>\n",
       "  <use xlink:href=\"#glyph-1442012179405606-1-3\" x=\"11.069\" y=\"65.937446\"/>\n",
       "  <use xlink:href=\"#glyph-1442012179405606-1-4\" x=\"11.069\" y=\"62.008181\"/>\n",
       "  <use xlink:href=\"#glyph-1442012179405606-1-5\" x=\"11.069\" y=\"54.190497\"/>\n",
       "</g>\n",
       "<path style=\"fill:none;stroke-width:0.19925;stroke-linecap:butt;stroke-linejoin:miter;stroke:rgb(50%,50%,50%);stroke-opacity:1;stroke-miterlimit:10;\" d=\"M -29.004594 -10.437063 L -29.004594 -6.187063 M -29.004594 114.809031 L -29.004594 110.559031 M -0.0006875 -10.437063 L -0.0006875 -6.187063 M -0.0006875 114.809031 L -0.0006875 110.559031 M 29.007125 -10.437063 L 29.007125 -6.187063 M 29.007125 114.809031 L 29.007125 110.559031 M 58.011031 -10.437063 L 58.011031 -6.187063 M 58.011031 114.809031 L 58.011031 110.559031 M 87.014938 -10.437063 L 87.014938 -6.187063 M 87.014938 114.809031 L 87.014938 110.559031 M 116.02275 -10.437063 L 116.02275 -6.187063 M 116.02275 114.809031 L 116.02275 110.559031 M 145.026656 -10.437063 L 145.026656 -6.187063 M 145.026656 114.809031 L 145.026656 110.559031 M 174.030563 -10.437063 L 174.030563 -6.187063 M 174.030563 114.809031 L 174.030563 110.559031 M 203.038375 -10.437063 L 203.038375 -6.187063 M 203.038375 114.809031 L 203.038375 110.559031 M 232.042281 -10.437063 L 232.042281 -6.187063 M 232.042281 114.809031 L 232.042281 110.559031 M 261.050094 -10.437063 L 261.050094 -6.187063 M 261.050094 114.809031 L 261.050094 110.559031 M 290.054 -10.437063 L 290.054 -6.187063 M 290.054 114.809031 L 290.054 110.559031 M 319.057906 -10.437063 L 319.057906 -6.187063 M 319.057906 114.809031 L 319.057906 110.559031 M 348.065719 -10.437063 L 348.065719 -6.187063 M 348.065719 114.809031 L 348.065719 110.559031 M 377.069625 -10.437063 L 377.069625 -6.187063 M 377.069625 114.809031 L 377.069625 110.559031 M 406.073531 -10.437063 L 406.073531 -6.187063 M 406.073531 114.809031 L 406.073531 110.559031 M 435.081344 -10.437063 L 435.081344 -6.187063 M 435.081344 114.809031 L 435.081344 110.559031 M 464.08525 -10.437063 L 464.08525 -6.187063 M 464.08525 114.809031 L 464.08525 110.559031 \" transform=\"matrix(1,0,0,-1,81.821,268.602)\"/>\n",
       "<path style=\"fill:none;stroke-width:0.19925;stroke-linecap:butt;stroke-linejoin:miter;stroke:rgb(50%,50%,50%);stroke-opacity:1;stroke-miterlimit:10;\" d=\"M -43.512406 -2.628469 L -39.2585 -2.628469 M 478.593062 -2.628469 L 474.339156 -2.628469 M -43.512406 38.523875 L -39.2585 38.523875 M 478.593062 38.523875 L 474.339156 38.523875 M -43.512406 79.676219 L -39.2585 79.676219 M 478.593062 79.676219 L 474.339156 79.676219 \" transform=\"matrix(1,0,0,-1,81.821,268.602)\"/>\n",
       "<path style=\"fill:none;stroke-width:0.3985;stroke-linecap:butt;stroke-linejoin:miter;stroke:rgb(0%,0%,0%);stroke-opacity:1;stroke-miterlimit:10;\" d=\"M -43.512406 -10.437063 L -43.512406 114.809031 L 478.593062 114.809031 L 478.593062 -10.437063 Z M -43.512406 -10.437063 \" transform=\"matrix(1,0,0,-1,81.821,268.602)\"/>\n",
       "<g style=\"fill:rgb(0%,0%,0%);fill-opacity:1;\">\n",
       "  <use xlink:href=\"#glyph-1442012179405606-0-1\" x=\"47.834\" y=\"288.98\"/>\n",
       "  <use xlink:href=\"#glyph-1442012179405606-0-2\" x=\"52.81532\" y=\"288.98\"/>\n",
       "</g>\n",
       "<g style=\"fill:rgb(0%,0%,0%);fill-opacity:1;\">\n",
       "  <use xlink:href=\"#glyph-1442012179405606-0-3\" x=\"76.839\" y=\"288.98\"/>\n",
       "  <use xlink:href=\"#glyph-1442012179405606-0-2\" x=\"81.82032\" y=\"288.98\"/>\n",
       "</g>\n",
       "<g style=\"fill:rgb(0%,0%,0%);fill-opacity:1;\">\n",
       "  <use xlink:href=\"#glyph-1442012179405606-0-4\" x=\"105.844\" y=\"288.98\"/>\n",
       "  <use xlink:href=\"#glyph-1442012179405606-0-2\" x=\"110.82532\" y=\"288.98\"/>\n",
       "</g>\n",
       "<g style=\"fill:rgb(0%,0%,0%);fill-opacity:1;\">\n",
       "  <use xlink:href=\"#glyph-1442012179405606-0-5\" x=\"132.359\" y=\"288.98\"/>\n",
       "  <use xlink:href=\"#glyph-1442012179405606-0-2\" x=\"137.34032\" y=\"288.98\"/>\n",
       "  <use xlink:href=\"#glyph-1442012179405606-0-2\" x=\"142.32164\" y=\"288.98\"/>\n",
       "</g>\n",
       "<g style=\"fill:rgb(0%,0%,0%);fill-opacity:1;\">\n",
       "  <use xlink:href=\"#glyph-1442012179405606-0-5\" x=\"161.364\" y=\"288.98\"/>\n",
       "  <use xlink:href=\"#glyph-1442012179405606-0-5\" x=\"166.34532\" y=\"288.98\"/>\n",
       "  <use xlink:href=\"#glyph-1442012179405606-0-2\" x=\"171.32664\" y=\"288.98\"/>\n",
       "</g>\n",
       "<g style=\"fill:rgb(0%,0%,0%);fill-opacity:1;\">\n",
       "  <use xlink:href=\"#glyph-1442012179405606-0-5\" x=\"190.369\" y=\"288.98\"/>\n",
       "  <use xlink:href=\"#glyph-1442012179405606-0-6\" x=\"195.35032\" y=\"288.98\"/>\n",
       "  <use xlink:href=\"#glyph-1442012179405606-0-2\" x=\"200.33164\" y=\"288.98\"/>\n",
       "</g>\n",
       "<g style=\"fill:rgb(0%,0%,0%);fill-opacity:1;\">\n",
       "  <use xlink:href=\"#glyph-1442012179405606-0-5\" x=\"219.374\" y=\"288.98\"/>\n",
       "  <use xlink:href=\"#glyph-1442012179405606-0-7\" x=\"224.35532\" y=\"288.98\"/>\n",
       "  <use xlink:href=\"#glyph-1442012179405606-0-2\" x=\"229.33664\" y=\"288.98\"/>\n",
       "</g>\n",
       "<g style=\"fill:rgb(0%,0%,0%);fill-opacity:1;\">\n",
       "  <use xlink:href=\"#glyph-1442012179405606-0-5\" x=\"248.379\" y=\"288.98\"/>\n",
       "  <use xlink:href=\"#glyph-1442012179405606-0-8\" x=\"253.36032\" y=\"288.98\"/>\n",
       "  <use xlink:href=\"#glyph-1442012179405606-0-2\" x=\"258.34164\" y=\"288.98\"/>\n",
       "</g>\n",
       "<g style=\"fill:rgb(0%,0%,0%);fill-opacity:1;\">\n",
       "  <use xlink:href=\"#glyph-1442012179405606-0-5\" x=\"277.384\" y=\"288.98\"/>\n",
       "  <use xlink:href=\"#glyph-1442012179405606-0-9\" x=\"282.36532\" y=\"288.98\"/>\n",
       "  <use xlink:href=\"#glyph-1442012179405606-0-2\" x=\"287.34664\" y=\"288.98\"/>\n",
       "</g>\n",
       "<g style=\"fill:rgb(0%,0%,0%);fill-opacity:1;\">\n",
       "  <use xlink:href=\"#glyph-1442012179405606-0-5\" x=\"306.389\" y=\"288.98\"/>\n",
       "  <use xlink:href=\"#glyph-1442012179405606-0-10\" x=\"311.37032\" y=\"288.98\"/>\n",
       "  <use xlink:href=\"#glyph-1442012179405606-0-2\" x=\"316.35164\" y=\"288.98\"/>\n",
       "</g>\n",
       "<g style=\"fill:rgb(0%,0%,0%);fill-opacity:1;\">\n",
       "  <use xlink:href=\"#glyph-1442012179405606-0-5\" x=\"335.394\" y=\"288.98\"/>\n",
       "  <use xlink:href=\"#glyph-1442012179405606-0-1\" x=\"340.37532\" y=\"288.98\"/>\n",
       "  <use xlink:href=\"#glyph-1442012179405606-0-2\" x=\"345.35664\" y=\"288.98\"/>\n",
       "</g>\n",
       "<g style=\"fill:rgb(0%,0%,0%);fill-opacity:1;\">\n",
       "  <use xlink:href=\"#glyph-1442012179405606-0-5\" x=\"364.399\" y=\"288.98\"/>\n",
       "  <use xlink:href=\"#glyph-1442012179405606-0-3\" x=\"369.38032\" y=\"288.98\"/>\n",
       "  <use xlink:href=\"#glyph-1442012179405606-0-2\" x=\"374.36164\" y=\"288.98\"/>\n",
       "</g>\n",
       "<g style=\"fill:rgb(0%,0%,0%);fill-opacity:1;\">\n",
       "  <use xlink:href=\"#glyph-1442012179405606-0-5\" x=\"393.404\" y=\"288.98\"/>\n",
       "  <use xlink:href=\"#glyph-1442012179405606-0-4\" x=\"398.38532\" y=\"288.98\"/>\n",
       "  <use xlink:href=\"#glyph-1442012179405606-0-2\" x=\"403.36664\" y=\"288.98\"/>\n",
       "</g>\n",
       "<g style=\"fill:rgb(0%,0%,0%);fill-opacity:1;\">\n",
       "  <use xlink:href=\"#glyph-1442012179405606-0-6\" x=\"422.409\" y=\"288.98\"/>\n",
       "  <use xlink:href=\"#glyph-1442012179405606-0-2\" x=\"427.39032\" y=\"288.98\"/>\n",
       "  <use xlink:href=\"#glyph-1442012179405606-0-2\" x=\"432.37164\" y=\"288.98\"/>\n",
       "</g>\n",
       "<g style=\"fill:rgb(0%,0%,0%);fill-opacity:1;\">\n",
       "  <use xlink:href=\"#glyph-1442012179405606-0-6\" x=\"451.414\" y=\"288.98\"/>\n",
       "  <use xlink:href=\"#glyph-1442012179405606-0-5\" x=\"456.39532\" y=\"288.98\"/>\n",
       "  <use xlink:href=\"#glyph-1442012179405606-0-2\" x=\"461.37664\" y=\"288.98\"/>\n",
       "</g>\n",
       "<g style=\"fill:rgb(0%,0%,0%);fill-opacity:1;\">\n",
       "  <use xlink:href=\"#glyph-1442012179405606-0-6\" x=\"480.419\" y=\"288.98\"/>\n",
       "  <use xlink:href=\"#glyph-1442012179405606-0-6\" x=\"485.40032\" y=\"288.98\"/>\n",
       "  <use xlink:href=\"#glyph-1442012179405606-0-2\" x=\"490.38164\" y=\"288.98\"/>\n",
       "</g>\n",
       "<g style=\"fill:rgb(0%,0%,0%);fill-opacity:1;\">\n",
       "  <use xlink:href=\"#glyph-1442012179405606-0-6\" x=\"509.424\" y=\"288.98\"/>\n",
       "  <use xlink:href=\"#glyph-1442012179405606-0-7\" x=\"514.40532\" y=\"288.98\"/>\n",
       "  <use xlink:href=\"#glyph-1442012179405606-0-2\" x=\"519.38664\" y=\"288.98\"/>\n",
       "</g>\n",
       "<g style=\"fill:rgb(0%,0%,0%);fill-opacity:1;\">\n",
       "  <use xlink:href=\"#glyph-1442012179405606-0-6\" x=\"538.429\" y=\"288.98\"/>\n",
       "  <use xlink:href=\"#glyph-1442012179405606-0-8\" x=\"543.41032\" y=\"288.98\"/>\n",
       "  <use xlink:href=\"#glyph-1442012179405606-0-2\" x=\"548.39164\" y=\"288.98\"/>\n",
       "</g>\n",
       "<g style=\"fill:rgb(0%,0%,0%);fill-opacity:1;\">\n",
       "  <use xlink:href=\"#glyph-1442012179405606-0-6\" x=\"17.079\" y=\"274.441\"/>\n",
       "  <use xlink:href=\"#glyph-1442012179405606-0-3\" x=\"22.06032\" y=\"274.441\"/>\n",
       "</g>\n",
       "<g style=\"fill:rgb(0%,0%,0%);fill-opacity:1;\">\n",
       "  <use xlink:href=\"#glyph-1442012179405606-2-1\" x=\"27.042\" y=\"274.441\"/>\n",
       "</g>\n",
       "<g style=\"fill:rgb(0%,0%,0%);fill-opacity:1;\">\n",
       "  <use xlink:href=\"#glyph-1442012179405606-0-3\" x=\"29.809\" y=\"274.441\"/>\n",
       "</g>\n",
       "<g style=\"fill:rgb(0%,0%,0%);fill-opacity:1;\">\n",
       "  <use xlink:href=\"#glyph-1442012179405606-0-6\" x=\"17.079\" y=\"233.289\"/>\n",
       "  <use xlink:href=\"#glyph-1442012179405606-0-3\" x=\"22.06032\" y=\"233.289\"/>\n",
       "</g>\n",
       "<g style=\"fill:rgb(0%,0%,0%);fill-opacity:1;\">\n",
       "  <use xlink:href=\"#glyph-1442012179405606-2-1\" x=\"27.042\" y=\"233.289\"/>\n",
       "</g>\n",
       "<g style=\"fill:rgb(0%,0%,0%);fill-opacity:1;\">\n",
       "  <use xlink:href=\"#glyph-1442012179405606-0-4\" x=\"29.809\" y=\"233.289\"/>\n",
       "</g>\n",
       "<g style=\"fill:rgb(0%,0%,0%);fill-opacity:1;\">\n",
       "  <use xlink:href=\"#glyph-1442012179405606-0-6\" x=\"24.828\" y=\"192.136\"/>\n",
       "  <use xlink:href=\"#glyph-1442012179405606-0-4\" x=\"29.80932\" y=\"192.136\"/>\n",
       "</g>\n",
       "<path style=\"fill:none;stroke-width:0.3985;stroke-linecap:butt;stroke-linejoin:miter;stroke:rgb(0%,0%,100%);stroke-opacity:1;stroke-miterlimit:10;\" d=\"M -0.0006875 104.371531 L 2.901656 103.7895 L 5.800094 102.066844 L 8.702438 99.246531 L 11.600875 95.367625 L 14.503219 90.461375 L 17.401656 84.621531 L 20.304 77.961375 L 23.202438 70.50825 L 26.104781 62.293406 L 29.007125 53.348094 L 31.905563 104.371531 L 58.011031 104.371531 L 60.909469 103.7895 L 63.811813 102.066844 L 66.714156 99.246531 L 69.612594 95.367625 L 72.514938 90.461375 L 75.413375 84.621531 L 78.315719 77.961375 L 81.214156 70.50825 L 84.1165 62.293406 L 87.014938 53.348094 L 89.917281 43.746531 L 92.815719 33.590281 L 95.718063 22.898875 L 98.6165 11.691844 L 101.518844 0.0004375 L 104.421188 104.371531 L 435.081344 104.371531 \" transform=\"matrix(1,0,0,-1,81.821,268.602)\"/>\n",
       "<g style=\"fill:rgb(0%,0%,0%);fill-opacity:1;\">\n",
       "  <use xlink:href=\"#glyph-1442012179405606-0-11\" x=\"287.029\" y=\"302.739\"/>\n",
       "  <use xlink:href=\"#glyph-1442012179405606-0-12\" x=\"290.073583\" y=\"302.739\"/>\n",
       "  <use xlink:href=\"#glyph-1442012179405606-0-13\" x=\"293.975949\" y=\"302.739\"/>\n",
       "  <use xlink:href=\"#glyph-1442012179405606-0-14\" x=\"298.957269\" y=\"302.739\"/>\n",
       "  <use xlink:href=\"#glyph-1442012179405606-0-15\" x=\"307.259137\" y=\"302.739\"/>\n",
       "</g>\n",
       "<g style=\"fill:rgb(0%,0%,0%);fill-opacity:1;\">\n",
       "  <use xlink:href=\"#glyph-1442012179405606-1-6\" x=\"10.239\" y=\"228.386\"/>\n",
       "</g>\n",
       "<g style=\"fill:rgb(0%,0%,0%);fill-opacity:1;\">\n",
       "  <use xlink:href=\"#glyph-1442012179405606-1-7\" x=\"10.239\" y=\"223.39671\"/>\n",
       "  <use xlink:href=\"#glyph-1442012179405606-1-8\" x=\"10.239\" y=\"218.969313\"/>\n",
       "  <use xlink:href=\"#glyph-1442012179405606-1-9\" x=\"10.239\" y=\"216.201691\"/>\n",
       "  <use xlink:href=\"#glyph-1442012179405606-1-5\" x=\"10.239\" y=\"209.69808\"/>\n",
       "</g>\n",
       "<path style=\"fill:none;stroke-width:0.19925;stroke-linecap:butt;stroke-linejoin:miter;stroke:rgb(50%,50%,50%);stroke-opacity:1;stroke-miterlimit:10;\" d=\"M -29.004594 -10.438812 L -29.004594 -6.184906 M -29.004594 114.807281 L -29.004594 110.557281 M -0.0006875 -10.438812 L -0.0006875 -6.184906 M -0.0006875 114.807281 L -0.0006875 110.557281 M 29.007125 -10.438812 L 29.007125 -6.184906 M 29.007125 114.807281 L 29.007125 110.557281 M 58.011031 -10.438812 L 58.011031 -6.184906 M 58.011031 114.807281 L 58.011031 110.557281 M 87.014938 -10.438812 L 87.014938 -6.184906 M 87.014938 114.807281 L 87.014938 110.557281 M 116.02275 -10.438812 L 116.02275 -6.184906 M 116.02275 114.807281 L 116.02275 110.557281 M 145.026656 -10.438812 L 145.026656 -6.184906 M 145.026656 114.807281 L 145.026656 110.557281 M 174.030563 -10.438812 L 174.030563 -6.184906 M 174.030563 114.807281 L 174.030563 110.557281 M 203.038375 -10.438812 L 203.038375 -6.184906 M 203.038375 114.807281 L 203.038375 110.557281 M 232.042281 -10.438812 L 232.042281 -6.184906 M 232.042281 114.807281 L 232.042281 110.557281 M 261.050094 -10.438812 L 261.050094 -6.184906 M 261.050094 114.807281 L 261.050094 110.557281 M 290.054 -10.438812 L 290.054 -6.184906 M 290.054 114.807281 L 290.054 110.557281 M 319.057906 -10.438812 L 319.057906 -6.184906 M 319.057906 114.807281 L 319.057906 110.557281 M 348.065719 -10.438812 L 348.065719 -6.184906 M 348.065719 114.807281 L 348.065719 110.557281 M 377.069625 -10.438812 L 377.069625 -6.184906 M 377.069625 114.807281 L 377.069625 110.557281 M 406.073531 -10.438812 L 406.073531 -6.184906 M 406.073531 114.807281 L 406.073531 110.557281 M 435.081344 -10.438812 L 435.081344 -6.184906 M 435.081344 114.807281 L 435.081344 110.557281 M 464.08525 -10.438812 L 464.08525 -6.184906 M 464.08525 114.807281 L 464.08525 110.557281 \" transform=\"matrix(1,0,0,-1,81.821,422.194)\"/>\n",
       "<path style=\"fill:none;stroke-width:0.19925;stroke-linecap:butt;stroke-linejoin:miter;stroke:rgb(50%,50%,50%);stroke-opacity:1;stroke-miterlimit:10;\" d=\"M -43.512406 -0.0013125 L -39.2585 -0.0013125 M 478.593063 -0.0013125 L 474.339156 -0.0013125 M -43.512406 55.3815 L -39.2585 55.3815 M 478.593063 55.3815 L 474.339156 55.3815 M -43.512406 110.760406 L -39.2585 110.760406 M 478.593063 110.760406 L 474.339156 110.760406 \" transform=\"matrix(1,0,0,-1,81.821,422.194)\"/>\n",
       "<path style=\"fill:none;stroke-width:0.3985;stroke-linecap:butt;stroke-linejoin:miter;stroke:rgb(0%,0%,0%);stroke-opacity:1;stroke-miterlimit:10;\" d=\"M -43.512406 -10.438812 L -43.512406 114.807281 L 478.593063 114.807281 L 478.593063 -10.438812 Z M -43.512406 -10.438812 \" transform=\"matrix(1,0,0,-1,81.821,422.194)\"/>\n",
       "<g style=\"fill:rgb(0%,0%,0%);fill-opacity:1;\">\n",
       "  <use xlink:href=\"#glyph-1442012179405606-0-1\" x=\"47.834\" y=\"442.572\"/>\n",
       "  <use xlink:href=\"#glyph-1442012179405606-0-2\" x=\"52.81532\" y=\"442.572\"/>\n",
       "</g>\n",
       "<g style=\"fill:rgb(0%,0%,0%);fill-opacity:1;\">\n",
       "  <use xlink:href=\"#glyph-1442012179405606-0-3\" x=\"76.839\" y=\"442.572\"/>\n",
       "  <use xlink:href=\"#glyph-1442012179405606-0-2\" x=\"81.82032\" y=\"442.572\"/>\n",
       "</g>\n",
       "<g style=\"fill:rgb(0%,0%,0%);fill-opacity:1;\">\n",
       "  <use xlink:href=\"#glyph-1442012179405606-0-4\" x=\"105.844\" y=\"442.572\"/>\n",
       "  <use xlink:href=\"#glyph-1442012179405606-0-2\" x=\"110.82532\" y=\"442.572\"/>\n",
       "</g>\n",
       "<g style=\"fill:rgb(0%,0%,0%);fill-opacity:1;\">\n",
       "  <use xlink:href=\"#glyph-1442012179405606-0-5\" x=\"132.359\" y=\"442.572\"/>\n",
       "  <use xlink:href=\"#glyph-1442012179405606-0-2\" x=\"137.34032\" y=\"442.572\"/>\n",
       "  <use xlink:href=\"#glyph-1442012179405606-0-2\" x=\"142.32164\" y=\"442.572\"/>\n",
       "</g>\n",
       "<g style=\"fill:rgb(0%,0%,0%);fill-opacity:1;\">\n",
       "  <use xlink:href=\"#glyph-1442012179405606-0-5\" x=\"161.364\" y=\"442.572\"/>\n",
       "  <use xlink:href=\"#glyph-1442012179405606-0-5\" x=\"166.34532\" y=\"442.572\"/>\n",
       "  <use xlink:href=\"#glyph-1442012179405606-0-2\" x=\"171.32664\" y=\"442.572\"/>\n",
       "</g>\n",
       "<g style=\"fill:rgb(0%,0%,0%);fill-opacity:1;\">\n",
       "  <use xlink:href=\"#glyph-1442012179405606-0-5\" x=\"190.369\" y=\"442.572\"/>\n",
       "  <use xlink:href=\"#glyph-1442012179405606-0-6\" x=\"195.35032\" y=\"442.572\"/>\n",
       "  <use xlink:href=\"#glyph-1442012179405606-0-2\" x=\"200.33164\" y=\"442.572\"/>\n",
       "</g>\n",
       "<g style=\"fill:rgb(0%,0%,0%);fill-opacity:1;\">\n",
       "  <use xlink:href=\"#glyph-1442012179405606-0-5\" x=\"219.374\" y=\"442.572\"/>\n",
       "  <use xlink:href=\"#glyph-1442012179405606-0-7\" x=\"224.35532\" y=\"442.572\"/>\n",
       "  <use xlink:href=\"#glyph-1442012179405606-0-2\" x=\"229.33664\" y=\"442.572\"/>\n",
       "</g>\n",
       "<g style=\"fill:rgb(0%,0%,0%);fill-opacity:1;\">\n",
       "  <use xlink:href=\"#glyph-1442012179405606-0-5\" x=\"248.379\" y=\"442.572\"/>\n",
       "  <use xlink:href=\"#glyph-1442012179405606-0-8\" x=\"253.36032\" y=\"442.572\"/>\n",
       "  <use xlink:href=\"#glyph-1442012179405606-0-2\" x=\"258.34164\" y=\"442.572\"/>\n",
       "</g>\n",
       "<g style=\"fill:rgb(0%,0%,0%);fill-opacity:1;\">\n",
       "  <use xlink:href=\"#glyph-1442012179405606-0-5\" x=\"277.384\" y=\"442.572\"/>\n",
       "  <use xlink:href=\"#glyph-1442012179405606-0-9\" x=\"282.36532\" y=\"442.572\"/>\n",
       "  <use xlink:href=\"#glyph-1442012179405606-0-2\" x=\"287.34664\" y=\"442.572\"/>\n",
       "</g>\n",
       "<g style=\"fill:rgb(0%,0%,0%);fill-opacity:1;\">\n",
       "  <use xlink:href=\"#glyph-1442012179405606-0-5\" x=\"306.389\" y=\"442.572\"/>\n",
       "  <use xlink:href=\"#glyph-1442012179405606-0-10\" x=\"311.37032\" y=\"442.572\"/>\n",
       "  <use xlink:href=\"#glyph-1442012179405606-0-2\" x=\"316.35164\" y=\"442.572\"/>\n",
       "</g>\n",
       "<g style=\"fill:rgb(0%,0%,0%);fill-opacity:1;\">\n",
       "  <use xlink:href=\"#glyph-1442012179405606-0-5\" x=\"335.394\" y=\"442.572\"/>\n",
       "  <use xlink:href=\"#glyph-1442012179405606-0-1\" x=\"340.37532\" y=\"442.572\"/>\n",
       "  <use xlink:href=\"#glyph-1442012179405606-0-2\" x=\"345.35664\" y=\"442.572\"/>\n",
       "</g>\n",
       "<g style=\"fill:rgb(0%,0%,0%);fill-opacity:1;\">\n",
       "  <use xlink:href=\"#glyph-1442012179405606-0-5\" x=\"364.399\" y=\"442.572\"/>\n",
       "  <use xlink:href=\"#glyph-1442012179405606-0-3\" x=\"369.38032\" y=\"442.572\"/>\n",
       "  <use xlink:href=\"#glyph-1442012179405606-0-2\" x=\"374.36164\" y=\"442.572\"/>\n",
       "</g>\n",
       "<g style=\"fill:rgb(0%,0%,0%);fill-opacity:1;\">\n",
       "  <use xlink:href=\"#glyph-1442012179405606-0-5\" x=\"393.404\" y=\"442.572\"/>\n",
       "  <use xlink:href=\"#glyph-1442012179405606-0-4\" x=\"398.38532\" y=\"442.572\"/>\n",
       "  <use xlink:href=\"#glyph-1442012179405606-0-2\" x=\"403.36664\" y=\"442.572\"/>\n",
       "</g>\n",
       "<g style=\"fill:rgb(0%,0%,0%);fill-opacity:1;\">\n",
       "  <use xlink:href=\"#glyph-1442012179405606-0-6\" x=\"422.409\" y=\"442.572\"/>\n",
       "  <use xlink:href=\"#glyph-1442012179405606-0-2\" x=\"427.39032\" y=\"442.572\"/>\n",
       "  <use xlink:href=\"#glyph-1442012179405606-0-2\" x=\"432.37164\" y=\"442.572\"/>\n",
       "</g>\n",
       "<g style=\"fill:rgb(0%,0%,0%);fill-opacity:1;\">\n",
       "  <use xlink:href=\"#glyph-1442012179405606-0-6\" x=\"451.414\" y=\"442.572\"/>\n",
       "  <use xlink:href=\"#glyph-1442012179405606-0-5\" x=\"456.39532\" y=\"442.572\"/>\n",
       "  <use xlink:href=\"#glyph-1442012179405606-0-2\" x=\"461.37664\" y=\"442.572\"/>\n",
       "</g>\n",
       "<g style=\"fill:rgb(0%,0%,0%);fill-opacity:1;\">\n",
       "  <use xlink:href=\"#glyph-1442012179405606-0-6\" x=\"480.419\" y=\"442.572\"/>\n",
       "  <use xlink:href=\"#glyph-1442012179405606-0-6\" x=\"485.40032\" y=\"442.572\"/>\n",
       "  <use xlink:href=\"#glyph-1442012179405606-0-2\" x=\"490.38164\" y=\"442.572\"/>\n",
       "</g>\n",
       "<g style=\"fill:rgb(0%,0%,0%);fill-opacity:1;\">\n",
       "  <use xlink:href=\"#glyph-1442012179405606-0-6\" x=\"509.424\" y=\"442.572\"/>\n",
       "  <use xlink:href=\"#glyph-1442012179405606-0-7\" x=\"514.40532\" y=\"442.572\"/>\n",
       "  <use xlink:href=\"#glyph-1442012179405606-0-2\" x=\"519.38664\" y=\"442.572\"/>\n",
       "</g>\n",
       "<g style=\"fill:rgb(0%,0%,0%);fill-opacity:1;\">\n",
       "  <use xlink:href=\"#glyph-1442012179405606-0-6\" x=\"538.429\" y=\"442.572\"/>\n",
       "  <use xlink:href=\"#glyph-1442012179405606-0-8\" x=\"543.41032\" y=\"442.572\"/>\n",
       "  <use xlink:href=\"#glyph-1442012179405606-0-2\" x=\"548.39164\" y=\"442.572\"/>\n",
       "</g>\n",
       "<g style=\"fill:rgb(0%,0%,0%);fill-opacity:1;\">\n",
       "  <use xlink:href=\"#glyph-1442012179405606-0-2\" x=\"29.809\" y=\"425.404\"/>\n",
       "</g>\n",
       "<g style=\"fill:rgb(0%,0%,0%);fill-opacity:1;\">\n",
       "  <use xlink:href=\"#glyph-1442012179405606-0-5\" x=\"29.809\" y=\"370.024\"/>\n",
       "</g>\n",
       "<g style=\"fill:rgb(0%,0%,0%);fill-opacity:1;\">\n",
       "  <use xlink:href=\"#glyph-1442012179405606-0-6\" x=\"29.809\" y=\"314.644\"/>\n",
       "</g>\n",
       "<g style=\"fill:rgb(0%,0%,0%);fill-opacity:1;\">\n",
       "  <use xlink:href=\"#glyph-1442012179405606-3-1\" x=\"41.499\" y=\"303.43\"/>\n",
       "</g>\n",
       "<g style=\"fill:rgb(0%,0%,0%);fill-opacity:1;\">\n",
       "  <use xlink:href=\"#glyph-1442012179405606-0-5\" x=\"44.266\" y=\"303.43\"/>\n",
       "  <use xlink:href=\"#glyph-1442012179405606-0-2\" x=\"49.24732\" y=\"303.43\"/>\n",
       "</g>\n",
       "<g style=\"fill:rgb(0%,0%,0%);fill-opacity:1;\">\n",
       "  <use xlink:href=\"#glyph-1442012179405606-4-1\" x=\"54.229\" y=\"299.814\"/>\n",
       "</g>\n",
       "<g style=\"fill:rgb(0%,0%,0%);fill-opacity:1;\">\n",
       "  <use xlink:href=\"#glyph-1442012179405606-5-1\" x=\"60.455\" y=\"299.814\"/>\n",
       "  <use xlink:href=\"#glyph-1442012179405606-5-2\" x=\"64.42591\" y=\"299.814\"/>\n",
       "</g>\n",
       "<path style=\"fill:none;stroke-width:0.3985;stroke-linecap:butt;stroke-linejoin:miter;stroke:rgb(0%,0%,100%);stroke-opacity:1;stroke-miterlimit:10;\" d=\"M -0.0006875 -0.0013125 L 14.503219 -0.0013125 L 17.401656 8.678375 L 20.304 16.869781 L 23.202438 24.580719 L 26.104781 31.826813 L 29.007125 38.623688 L 31.905563 -0.0013125 L 72.514938 -0.0013125 L 75.413375 8.678375 L 78.315719 16.869781 L 81.214156 24.580719 L 84.1165 31.826813 L 87.014938 38.623688 L 89.917281 53.514313 L 92.815719 67.514313 L 95.718063 80.639313 L 98.6165 92.920563 L 101.518844 104.369781 L 104.421188 -0.0013125 L 435.081344 -0.0013125 \" transform=\"matrix(1,0,0,-1,81.821,422.194)\"/>\n",
       "<g style=\"fill:rgb(0%,0%,0%);fill-opacity:1;\">\n",
       "  <use xlink:href=\"#glyph-1442012179405606-0-11\" x=\"287.029\" y=\"456.33\"/>\n",
       "  <use xlink:href=\"#glyph-1442012179405606-0-12\" x=\"290.073583\" y=\"456.33\"/>\n",
       "  <use xlink:href=\"#glyph-1442012179405606-0-13\" x=\"293.975949\" y=\"456.33\"/>\n",
       "  <use xlink:href=\"#glyph-1442012179405606-0-14\" x=\"298.957269\" y=\"456.33\"/>\n",
       "  <use xlink:href=\"#glyph-1442012179405606-0-15\" x=\"307.259137\" y=\"456.33\"/>\n",
       "</g>\n",
       "<g style=\"fill:rgb(0%,0%,0%);fill-opacity:1;\">\n",
       "  <use xlink:href=\"#glyph-1442012179405606-1-6\" x=\"21.032\" y=\"381.978\"/>\n",
       "</g>\n",
       "<g style=\"fill:rgb(0%,0%,0%);fill-opacity:1;\">\n",
       "  <use xlink:href=\"#glyph-1442012179405606-1-7\" x=\"21.032\" y=\"376.98871\"/>\n",
       "  <use xlink:href=\"#glyph-1442012179405606-1-8\" x=\"21.032\" y=\"372.561313\"/>\n",
       "  <use xlink:href=\"#glyph-1442012179405606-1-9\" x=\"21.032\" y=\"369.793691\"/>\n",
       "  <use xlink:href=\"#glyph-1442012179405606-1-10\" x=\"21.032\" y=\"363.29008\"/>\n",
       "</g>\n",
       "</g>\n",
       "</svg>\n",
       "\n"
      ],
      "text/plain": [
       "GroupPlot([Axis(Plot[Linear(2x151 Array{Real,2}:\n",
       "  80.0     81.0    82.0     83.0    …  227.0    228.0    229.0    230.0  \n",
       " 125.287  126.74  128.193  129.645     338.878  340.331  341.784  343.237,\"none\",nothing,nothing,nothing,nothing)],nothing,\"frame\",\"posGx\",nothing,nothing,nothing,nothing,nothing,nothing,nothing,nothing,nothing,\"{0}{90}\",\"20cm\",\"6cm\",nothing,nothing,nothing,nothing,nothing,nothing),Axis(Plot[Linear(2x151 Array{Real,2}:\n",
       " 80.0   81.0     82.0     83.0     84.0     …  227.0   228.0   229.0   230.0 \n",
       " 29.06  29.0586  29.0544  29.0476  29.0381      29.06   29.06   29.06   29.06,\"none\",nothing,nothing,nothing,nothing)],nothing,\"frame\",\"velFx\",nothing,nothing,nothing,nothing,nothing,nothing,nothing,nothing,nothing,\"{0}{90}\",\"20cm\",\"6cm\",nothing,nothing,nothing,nothing,nothing,nothing),Axis(Plot[Linear(2x151 Array{Real,2}:\n",
       " 80.0  81.0  82.0  83.0  84.0  85.0  …  226.0  227.0  228.0  229.0  230.0\n",
       "  0.0   0.0   0.0   0.0   0.0   0.0       0.0    0.0    0.0    0.0    0.0,\"none\",nothing,nothing,nothing,nothing)],nothing,\"frame\",\"velFy\",nothing,nothing,nothing,nothing,nothing,nothing,nothing,nothing,nothing,\"{0}{90}\",\"20cm\",\"6cm\",nothing,nothing,nothing,nothing,nothing,nothing)],(1,3),nothing,nothing)"
      ]
     },
     "execution_count": 138,
     "metadata": {},
     "output_type": "execute_result"
    }
   ],
   "source": [
    "using PGFPlots\n",
    "\n",
    "pdset = basics.pdset\n",
    "validfind_arr = [1 : nvalidfinds(pdset)]\n",
    "posGx_arr = convert(Vector{Float64}, pdset.df_ego[:posGx])\n",
    "velFx_arr = convert(Vector{Float64}, pdset.df_ego[:velFx])\n",
    "velFy_arr = convert(Vector{Float64}, pdset.df_ego[:velFy])\n",
    "\n",
    "range = 80:230\n",
    "validfind_arr = validfind_arr[range]\n",
    "posGx_arr = posGx_arr[range]\n",
    "velFx_arr = velFx_arr[range]\n",
    "velFy_arr = velFy_arr[range]\n",
    "\n",
    "group_plot = GroupPlot(1,3)\n",
    "push!(group_plot, Axis(Plots.Linear(validfind_arr, posGx_arr, mark=\"none\"), xlabel=\"frame\", ylabel=\"posGx\", width=\"20cm\", height=\"6cm\"))\n",
    "push!(group_plot, Axis(Plots.Linear(validfind_arr, velFx_arr, mark=\"none\"), xlabel=\"frame\", ylabel=\"velFx\", width=\"20cm\", height=\"6cm\"))\n",
    "push!(group_plot, Axis(Plots.Linear(validfind_arr, velFy_arr, mark=\"none\"), xlabel=\"frame\", ylabel=\"velFy\", width=\"20cm\", height=\"6cm\"))\n",
    "\n",
    "group_plot"
   ]
  },
  {
   "cell_type": "code",
   "execution_count": 29,
   "metadata": {
    "collapsed": false
   },
   "outputs": [
    {
     "data": {
      "text/plain": [
       "true"
      ]
     },
     "execution_count": 29,
     "metadata": {},
     "output_type": "execute_result"
    }
   ],
   "source": [
    "has_intersection(basics.pdset, scenario.history, scenario.history+160)"
   ]
  },
  {
   "cell_type": "code",
   "execution_count": null,
   "metadata": {
    "collapsed": false
   },
   "outputs": [],
   "source": [
    "plots_velFx = PGFPlots.Plot[]\n",
    "plots_velFy = PGFPlots.Plot[]\n",
    "\n",
    "validfind_start = scenario.history\n",
    "validfind_end = scenario.history + 160\n",
    "\n",
    "validfinds = [validfind_start : validfind_end]\n",
    "\n",
    "for validfind in validfind_start : N_FRAMES_PER_SIM_FRAME : validfind_end-1\n",
    "    starttime = time()\n",
    "    \n",
    "    candidate_trajectories = generate_candidate_trajectories(basics, policy, active_carid, validfind)\n",
    "    extracted_trajdefs, extracted_polies = extract_trajdefs(basics, candidate_trajectories, active_carid, validfind)\n",
    "\n",
    "    sec_per_frame = calc_sec_per_frame(basics.pdset)\n",
    "    collision_risk = calc_collision_risk_monte_carlo!(basics, policy, candidate_trajectories, \n",
    "                                                      active_carid, validfind, sec_per_frame)\n",
    "    best_trajectory_index = indmin(collision_risk)\n",
    "\n",
    "    insert!(basics.pdset, extracted_trajdefs[best_trajectory_index])\n",
    "    \n",
    "    velFx_arr = convert(Vector{Float64}, pdset.df_ego[validfinds, :velFx])\n",
    "    velFy_arr = convert(Vector{Float64}, pdset.df_ego[validfinds, :velFy])\n",
    "    push!(plots_velFx, Plots.Linear(validfinds, velFx_arr, mark=\"none\"))\n",
    "    push!(plots_velFy, Plots.Linear(validfinds, velFy_arr, mark=\"none\"))\n",
    "end"
   ]
  },
  {
   "cell_type": "code",
   "execution_count": null,
   "metadata": {
    "collapsed": false
   },
   "outputs": [],
   "source": [
    "Axis(plots_velFx, xlabel=\"frame\", ylabel=\"velFx\", width=\"20cm\", height=\"20cm\")"
   ]
  },
  {
   "cell_type": "code",
   "execution_count": null,
   "metadata": {
    "collapsed": false
   },
   "outputs": [],
   "source": [
    "Axis(plots_velFy, xlabel=\"frame\", ylabel=\"velFy\", width=\"20cm\", height=\"20cm\")"
   ]
  },
  {
   "cell_type": "code",
   "execution_count": 32,
   "metadata": {
    "collapsed": false
   },
   "outputs": [
    {
     "data": {
      "text/html": [],
      "text/plain": [
       "Slider{Int64}([Input{Int64}] 160,\"validfind\",160,80:240)"
      ]
     },
     "metadata": {},
     "output_type": "display_data"
    },
    {
     "data": {
      "image/png": "[encoded data removed]",
      "text/plain": [
       "CairoSurface(Ptr{Void} @0x000000000fb19e90,1100.0,300.0,#undef)"
      ]
     },
     "execution_count": 32,
     "metadata": {
      "comm_id": "15df7345-eac1-4579-a11f-aed63846c6ad",
      "reactive": true
     },
     "output_type": "execute_result"
    }
   ],
   "source": [
    "plot_manipulable_pdset(pdset, sn, active_carid, validfind_start=validfind_start, validfind_end=validfind_end)"
   ]
  },
  {
   "cell_type": "code",
   "execution_count": null,
   "metadata": {
    "collapsed": true
   },
   "outputs": [],
   "source": []
  }
 ],
 "metadata": {
  "kernelspec": {
   "display_name": "Julia 0.3.11",
   "language": "julia",
   "name": "julia-0.3"
  },
  "language_info": {
   "name": "julia",
   "version": "0.3.11"
  }
 },
 "nbformat": 4,
 "nbformat_minor": 0
}
