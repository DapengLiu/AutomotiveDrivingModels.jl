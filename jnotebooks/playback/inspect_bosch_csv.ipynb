{
 "cells": [
  {
   "cell_type": "code",
   "execution_count": 1,
   "metadata": {
    "collapsed": false,
    "input_collapsed": true
   },
   "outputs": [
    {
     "data": {
      "text/plain": [
       "\"loading modules\""
      ]
     },
     "execution_count": 1,
     "metadata": {},
     "output_type": "execute_result"
    }
   ],
   "source": [
    "using AutomotiveDrivingModels\n",
    "\"loading modules\""
   ]
  },
  {
   "cell_type": "markdown",
   "metadata": {},
   "source": [
    "# Rendering"
   ]
  },
  {
   "cell_type": "code",
   "execution_count": 2,
   "metadata": {
    "collapsed": false
   },
   "outputs": [],
   "source": [
    "include(Pkg.dir(\"AutomotiveDrivingModels\", \"viz\", \"Renderer.jl\")); using .Renderer\n",
    "include(Pkg.dir(\"AutomotiveDrivingModels\", \"viz\", \"ColorScheme.jl\")); using .ColorScheme"
   ]
  },
  {
   "cell_type": "code",
   "execution_count": 3,
   "metadata": {
    "collapsed": false
   },
   "outputs": [
    {
     "data": {
      "text/html": [
       "<script charset=\"utf-8\">(function ($, undefined) {\n",
       "\n",
       "    function createElem(tag, attr, content) {\n",
       "\t// TODO: remove jQuery dependency\n",
       "\tvar el = $(\"<\" + tag + \"/>\").attr(attr);\n",
       "\tif (content) {\n",
       "\t    el.append(content);\n",
       "\t}\n",
       "\treturn el[0];\n",
       "    }\n",
       "\n",
       "    // A widget must expose an id field which identifies it to the backend,\n",
       "    // an elem attribute which is will be added to the DOM, and\n",
       "    // a getState() method which returns the value to be sent to the backend\n",
       "    // a sendUpdate() method which sends its current value to the backend\n",
       "    var Widget = {\n",
       "\tid: undefined,\n",
       "\telem: undefined,\n",
       "\tlabel: undefined,\n",
       "\tgetState: function () {\n",
       "\t    return this.elem.value;\n",
       "\t},\n",
       "\tsendUpdate: undefined\n",
       "    };\n",
       "\n",
       "    var Slider = function (typ, id, init) {\n",
       "\tvar attr = { type:  \"range\",\n",
       "\t\t     value: init.value,\n",
       "\t\t     min:   init.min,\n",
       "\t\t     max:   init.max,\n",
       "\t\t     step:  init.step },\n",
       "\t    elem = createElem(\"input\", attr),\n",
       "\t    self = this;\n",
       "\n",
       "\telem.onchange = function () {\n",
       "\t    self.sendUpdate();\n",
       "\t}\n",
       "\n",
       "\tthis.id = id;\n",
       "\tthis.elem = elem;\n",
       "\tthis.label = init.label;\n",
       "\n",
       "\tInputWidgets.commInitializer(this); // Initialize communication\n",
       "    }\n",
       "    Slider.prototype = Widget;\n",
       "\n",
       "    var Checkbox = function (typ, id, init) {\n",
       "\tvar attr = { type: \"checkbox\",\n",
       "\t\t     checked: init.value },\n",
       "\t    elem = createElem(\"input\", attr),\n",
       "\t    self = this;\n",
       "\n",
       "\tthis.getState = function () {\n",
       "\t    return elem.checked;\n",
       "\t}\n",
       "\telem.onchange = function () {\n",
       "\t    self.sendUpdate();\n",
       "\t}\n",
       "\n",
       "\tthis.id = id;\n",
       "\tthis.elem = elem;\n",
       "\tthis.label = init.label;\n",
       "\n",
       "\tInputWidgets.commInitializer(this);\n",
       "    }\n",
       "    Checkbox.prototype = Widget;\n",
       "\n",
       "    var Button = function (typ, id, init) {\n",
       "\tvar attr = { type:    \"button\",\n",
       "\t\t     value:   init.label },\n",
       "\t    elem = createElem(\"input\", attr),\n",
       "\t    self = this;\n",
       "\tthis.getState = function () {\n",
       "\t    return null;\n",
       "\t}\n",
       "\telem.onclick = function () {\n",
       "\t    self.sendUpdate();\n",
       "\t}\n",
       "\n",
       "\tthis.id = id;\n",
       "\tthis.elem = elem;\n",
       "\tthis.label = init.label;\n",
       "\n",
       "\tInputWidgets.commInitializer(this);\n",
       "    }\n",
       "    Button.prototype = Widget;\n",
       "\n",
       "    var Text = function (typ, id, init) {\n",
       "\tvar attr = { type:  \"text\",\n",
       "\t\t     placeholder: init.label,\n",
       "\t\t     value: init.value },\n",
       "\t    elem = createElem(\"input\", attr),\n",
       "\t    self = this;\n",
       "\tthis.getState = function () {\n",
       "\t    return elem.value;\n",
       "\t}\n",
       "\telem.onkeyup = function () {\n",
       "\t    self.sendUpdate();\n",
       "\t}\n",
       "\n",
       "\tthis.id = id;\n",
       "\tthis.elem = elem;\n",
       "\tthis.label = init.label;\n",
       "\n",
       "\tInputWidgets.commInitializer(this);\n",
       "    }\n",
       "    Text.prototype = Widget;\n",
       "\n",
       "    var Textarea = function (typ, id, init) {\n",
       "\tvar attr = { placeholder: init.label },\n",
       "\t    elem = createElem(\"textarea\", attr, init.value),\n",
       "\t    self = this;\n",
       "\tthis.getState = function () {\n",
       "\t    return elem.value;\n",
       "\t}\n",
       "\telem.onchange = function () {\n",
       "\t    self.sendUpdate();\n",
       "\t}\n",
       "\n",
       "\tthis.id = id;\n",
       "\tthis.elem = elem;\n",
       "\tthis.label = init.label;\n",
       "\n",
       "\tInputWidgets.commInitializer(this);\n",
       "    }\n",
       "    Textarea.prototype = Widget;\n",
       "\n",
       "    // RadioButtons\n",
       "    // Dropdown\n",
       "    // HTML\n",
       "    // Latex\n",
       "\n",
       "    var InputWidgets = {\n",
       "\tSlider: Slider,\n",
       "\tCheckbox: Checkbox,\n",
       "\tButton: Button,\n",
       "\tText: Text,\n",
       "\tTextarea: Textarea,\n",
       "\tdebug: false,\n",
       "\tlog: function () {\n",
       "\t    if (InputWidgets.debug) {\n",
       "\t\tconsole.log.apply(console, arguments);\n",
       "\t    }\n",
       "\t},\n",
       "\t// a central way to initalize communication\n",
       "\t// for widgets.\n",
       "\tcommInitializer: function (widget) {\n",
       "\t    widget.sendUpdate = function () {};\n",
       "\t}\n",
       "    };\n",
       "\n",
       "    window.InputWidgets = InputWidgets;\n",
       "\n",
       "})(jQuery, undefined);\n",
       "</script>"
      ]
     },
     "metadata": {},
     "output_type": "display_data"
    },
    {
     "data": {
      "text/html": [
       "<div id=\"interact-js-shim\">\n",
       "    <script charset=\"utf-8\">\n",
       "(function (IPython, $, _, MathJax, Widgets) {\n",
       "    $.event.special.destroyed = {\n",
       "\tremove: function(o) {\n",
       "\t    if (o.handler) {\n",
       "\t\to.handler.apply(this, arguments)\n",
       "\t    }\n",
       "\t}\n",
       "    }\n",
       "\n",
       "    var OutputArea = IPython.version >= \"4.0.0\" ? require(\"notebook/js/outputarea\").OutputArea : IPython.OutputArea;\n",
       "\n",
       "    var redrawValue = function (container, type, val) {\n",
       "\tvar selector = $(\"<div/>\");\n",
       "\tvar oa = new OutputArea(_.extend(selector, {\n",
       "\t    selector: selector,\n",
       "\t    prompt_area: true,\n",
       "\t    events: IPython.events,\n",
       "\t    keyboard_manager: IPython.keyboard_manager\n",
       "\t})); // Hack to work with IPython 2.1.0\n",
       "\n",
       "\tswitch (type) {\n",
       "\tcase \"image/png\":\n",
       "            var _src = 'data:' + type + ';base64,' + val;\n",
       "\t    $(container).find(\"img\").attr('src', _src);\n",
       "\t    break;\n",
       "\tdefault:\n",
       "\t    var toinsert = OutputArea.append_map[type].apply(\n",
       "\t\toa, [val, {}, selector]\n",
       "\t    );\n",
       "\t    $(container).empty().append(toinsert.contents());\n",
       "\t    selector.remove();\n",
       "\t}\n",
       "\tif (type === \"text/latex\" && MathJax) {\n",
       "\t    MathJax.Hub.Queue([\"Typeset\", MathJax.Hub, toinsert.get(0)]);\n",
       "\t}\n",
       "    }\n",
       "\n",
       "\n",
       "    $(document).ready(function() {\n",
       "\tWidgets.debug = false; // log messages etc in console.\n",
       "\tfunction initComm(evt, data) {\n",
       "\t    var comm_manager = data.kernel.comm_manager;\n",
       "        //_.extend(comm_manager.targets, require(\"widgets/js/widget\"))\n",
       "\t    comm_manager.register_target(\"Signal\", function (comm) {\n",
       "            comm.on_msg(function (msg) {\n",
       "                //Widgets.log(\"message received\", msg);\n",
       "                var val = msg.content.data.value;\n",
       "                $(\".signal-\" + comm.comm_id).each(function() {\n",
       "                var type = $(this).data(\"type\");\n",
       "                if (val[type]) {\n",
       "                    redrawValue(this, type, val[type], type);\n",
       "                }\n",
       "                });\n",
       "                delete val;\n",
       "                delete msg.content.data.value;\n",
       "            });\n",
       "\t    });\n",
       "\n",
       "\t    // coordingate with Comm and redraw Signals\n",
       "\t    // XXX: Test using Reactive here to improve performance\n",
       "\t    $([IPython.events]).on(\n",
       "\t\t'output_appended.OutputArea', function (event, type, value, md, toinsert) {\n",
       "\t\t    if (md && md.reactive) {\n",
       "                // console.log(md.comm_id);\n",
       "                toinsert.addClass(\"signal-\" + md.comm_id);\n",
       "                toinsert.data(\"type\", type);\n",
       "                // Signal back indicating the mimetype required\n",
       "                var comm_manager = IPython.notebook.kernel.comm_manager;\n",
       "                var comm = comm_manager.comms[md.comm_id];\n",
       "                comm.then(function (c) {\n",
       "                    c.send({action: \"subscribe_mime\",\n",
       "                       mime: type});\n",
       "                    toinsert.bind(\"destroyed\", function() {\n",
       "                        c.send({action: \"unsubscribe_mime\",\n",
       "                               mime: type});\n",
       "                    });\n",
       "                })\n",
       "\t\t    }\n",
       "\t    });\n",
       "\t}\n",
       "\n",
       "\ttry {\n",
       "\t    // try to initialize right away. otherwise, wait on the status_started event.\n",
       "\t    initComm(undefined, IPython.notebook);\n",
       "\t} catch (e) {\n",
       "\t    $([IPython.events]).on('kernel_created.Kernel kernel_created.Session', initComm);\n",
       "\t}\n",
       "    });\n",
       "})(IPython, jQuery, _, MathJax, InputWidgets);\n",
       "</script>\n",
       "    <script>\n",
       "        window.interactLoadedFlag = true\n",
       "       $(\"#interact-js-shim\").bind(\"destroyed\", function () {\n",
       "           if (window.interactLoadedFlag) {\n",
       "               console.warn(\"JavaScript required by Interact will be removed if you remove this cell or run using Interact more than once.\")\n",
       "           }\n",
       "       })\n",
       "       $([IPython.events]).on(\"kernel_starting.Kernel kernel_restarting.Kernel\", function () { window.interactLoadedFlag = false })\n",
       "   </script>\n",
       "</div>"
      ]
     },
     "metadata": {},
     "output_type": "display_data"
    },
    {
     "name": "stderr",
     "output_type": "stream",
     "text": [
      "WARNING: Base.FloatingPoint is deprecated, use AbstractFloat instead.\n",
      "  likely near /home/tim/.julia/v0.4/Interact/src/IJulia/setup.jl:153\n",
      "WARNING: Base.FloatingPoint is deprecated, use AbstractFloat instead.\n",
      "  likely near /home/tim/.julia/v0.4/Interact/src/IJulia/setup.jl:157\n",
      "WARNING: Union(args...) is deprecated, use Union{args...} instead.\n",
      " in depwarn at deprecated.jl:73\n",
      " in call at deprecated.jl:50\n",
      " in include at ./boot.jl:261\n",
      " in include_from_node1 at ./loading.jl:304\n",
      " in include at ./boot.jl:261\n",
      " in include_from_node1 at ./loading.jl:304\n",
      " in include at ./boot.jl:261\n",
      " in include_from_node1 at ./loading.jl:304\n",
      " in require at loading.jl:243\n",
      " [inlined code] from /home/tim/.julia/v0.4/Requires/src/require.jl:11\n",
      " in require at /home/tim/.julia/v0.4/MacroTools/src/utils.jl:108\n",
      " in include at ./boot.jl:261\n",
      " in include_from_node1 at ./loading.jl:304\n",
      " in include_string at loading.jl:266\n",
      " in execute_request_0x535c5df2 at /home/tim/.julia/v0.4/IJulia/src/execute_request.jl:177\n",
      " in eventloop at /home/tim/.julia/v0.4/IJulia/src/IJulia.jl:141\n",
      " in anonymous at task.jl:447\n",
      "while loading /home/tim/.julia/v0.4/Interact/src/IJulia/statedict.jl, in expression starting on line 1\n",
      "WARNING: Base.Uint is deprecated, use UInt instead.\n",
      "  likely near /home/tim/.julia/v0.4/Reel/src/Reel.jl:14\n",
      "WARNING: Base.Nothing is deprecated, use Void instead.\n",
      "  likely near /home/tim/.julia/v0.4/Reel/src/Reel.jl:14\n",
      "WARNING: Union(args...) is deprecated, use Union{args...} instead.\n",
      " in depwarn at deprecated.jl:73\n",
      " in call at deprecated.jl:50\n",
      " in include at ./boot.jl:261\n",
      " in include_from_node1 at ./loading.jl:304\n",
      " in require at loading.jl:243\n",
      " [inlined code] from /home/tim/.julia/v0.4/Requires/src/require.jl:11\n",
      " in require at /home/tim/.julia/v0.4/MacroTools/src/utils.jl:108\n",
      " in include at ./boot.jl:261\n",
      " in include_from_node1 at ./loading.jl:304\n",
      " in include_string at loading.jl:266\n",
      " in execute_request_0x535c5df2 at /home/tim/.julia/v0.4/IJulia/src/execute_request.jl:177\n",
      " in eventloop at /home/tim/.julia/v0.4/IJulia/src/IJulia.jl:141\n",
      " in anonymous at task.jl:447\n",
      "while loading /home/tim/.julia/v0.4/Reel/src/Reel.jl, in expression starting on line 14\n",
      "WARNING: Union(args...) is deprecated, use Union{args...} instead.\n"
     ]
    }
   ],
   "source": [
    "include(Pkg.dir(\"AutomotiveDrivingModels\", \"viz\", \"incl_cairo_utils.jl\"))\n",
    "# reload(\"/home/tim/Documents/wheelerworkspace/Bosch/viz/incl_pyplot_utils.jl\")"
   ]
  },
  {
   "cell_type": "markdown",
   "metadata": {},
   "source": [
    "# Select Street Network"
   ]
  },
  {
   "cell_type": "code",
   "execution_count": 4,
   "metadata": {
    "collapsed": false,
    "input_collapsed": true
   },
   "outputs": [
    {
     "name": "stdout",
     "output_type": "stream",
     "text": [
      "available streetnetworks:\n"
     ]
    },
    {
     "name": "stderr",
     "output_type": "stream",
     "text": [
      " in depwarn at deprecated.jl:73\n",
      " in call at deprecated.jl:50\n",
      " in include at ./boot.jl:261\n",
      " in include_from_node1 at ./loading.jl:304\n",
      " in require at loading.jl:243\n",
      " [inlined code] from /home/tim/.julia/v0.4/Requires/src/require.jl:11\n",
      " in require at /home/tim/.julia/v0.4/MacroTools/src/utils.jl:108\n",
      " in include at ./boot.jl:261\n",
      " in include_from_node1 at ./loading.jl:304\n",
      " in include_string at loading.jl:266\n",
      " in execute_request_0x535c5df2 at /home/tim/.julia/v0.4/IJulia/src/execute_request.jl:177\n",
      " in eventloop at /home/tim/.julia/v0.4/IJulia/src/IJulia.jl:141\n",
      " in anonymous at task.jl:447\n",
      "while loading /home/tim/.julia/v0.4/Reel/src/Reel.jl, in expression starting on line 85\n",
      "WARNING: Union(args...) is deprecated, use Union{args...} instead.\n",
      " in depwarn at deprecated.jl:73\n",
      " in call at deprecated.jl:50\n",
      " in include at ./boot.jl:261\n",
      " in include_from_node1 at ./loading.jl:304\n",
      " in require at loading.jl:243\n",
      " [inlined code] from /home/tim/.julia/v0.4/Requires/src/require.jl:11\n",
      " in require at /home/tim/.julia/v0.4/MacroTools/src/utils.jl:108\n",
      " in include at ./boot.jl:261\n",
      " in include_from_node1 at ./loading.jl:304\n",
      " in include_string at loading.jl:266\n",
      " in execute_request_0x535c5df2 at /home/tim/.julia/v0.4/IJulia/src/execute_request.jl:177\n",
      " in eventloop at /home/tim/.julia/v0.4/IJulia/src/IJulia.jl:141\n",
      " in anonymous at task.jl:447\n",
      "while loading /home/tim/.julia/v0.4/Reel/src/Reel.jl, in expression starting on line 85\n",
      "WARNING: Union(args...) is deprecated, use Union{args...} instead.\n",
      " in depwarn at deprecated.jl:73\n",
      " in call at deprecated.jl:50\n",
      " in include at ./boot.jl:261\n",
      " in include_from_node1 at ./loading.jl:304\n",
      " in require at loading.jl:243\n",
      " [inlined code] from /home/tim/.julia/v0.4/Requires/src/require.jl:11\n",
      " in require at /home/tim/.julia/v0.4/MacroTools/src/utils.jl:108\n",
      " in include at ./boot.jl:261\n",
      " in include_from_node1 at ./loading.jl:304\n",
      " in include_string at loading.jl:266\n",
      " in execute_request_0x535c5df2 at /home/tim/.julia/v0.4/IJulia/src/execute_request.jl:177\n",
      " in eventloop at /home/tim/.julia/v0.4/IJulia/src/IJulia.jl:141\n",
      " in anonymous at task.jl:447\n",
      "while loading /home/tim/.julia/v0.4/Reel/src/Reel.jl, in expression starting on line 85\n"
     ]
    },
    {
     "data": {
      "text/plain": [
       "12-element Array{ByteString,1}:\n",
       " \"streetmap_280N_big.jld\"                  \n",
       " \"streetmap_280_pagemill_to_92.jld\"        \n",
       " \"streetmap_280_pagemill_to_92_old.jld\"    \n",
       " \"streetmap_280S_big.jld\"                  \n",
       " \"streetmap_circuit_2lane.jld\"             \n",
       " \"streetmap_detroit_v4.jld\"                \n",
       " \"streetmap_highway_1lane.jld\"             \n",
       " \"streetmap_highway_2lane.jld\"             \n",
       " \"streetmap_highway_3lane.jld\"             \n",
       " \"streetmap_highway_4lane.jld\"             \n",
       " \"streetmap_its_both_loops_v3_smoothed.jld\"\n",
       " \"streetmap_its_inner_loop_v1_2.jld\"       "
      ]
     },
     "execution_count": 4,
     "metadata": {},
     "output_type": "execute_result"
    }
   ],
   "source": [
    "const STREETMAP_DIR = \"/media/tim/DATAPART1/Data/Bosch/processed/streetmaps\"\n",
    "streetmap_files = filter(readdir(STREETMAP_DIR)) do content\n",
    "    path = joinpath(STREETMAP_DIR,content)\n",
    "    isfile(path) && endswith(content, \".jld\")\n",
    "end\n",
    "println(\"available streetnetworks:\")\n",
    "streetmap_files"
   ]
  },
  {
   "cell_type": "markdown",
   "metadata": {
    "collapsed": false
   },
   "source": [
    "# Select CSV File"
   ]
  },
  {
   "cell_type": "code",
   "execution_count": 5,
   "metadata": {
    "collapsed": false
   },
   "outputs": [
    {
     "data": {
      "text/plain": [
       "\"/media/tim/DATAPART1/Data/Bosch/source5/2015-12-14-14-39-22_planning_stripped-raw.csv\""
      ]
     },
     "execution_count": 5,
     "metadata": {},
     "output_type": "execute_result"
    }
   ],
   "source": [
    "csv_filepath = \"/media/tim/DATAPART1/Data/Bosch/source5/2015-12-14-15-04-57_92_to_pagemill_manual_drive_planning_stripped-raw.csv\";\n",
    "csv_filepath = \"/media/tim/DATAPART1/Data/Bosch/source5/2015-12-22-14-05-41_280S_manual_drive_lane_changes_planning_stripped-raw.csv\";\n",
    "csv_filepath = \"/media/tim/DATAPART1/Data/Bosch/source5/2015-12-14-14-39-22_planning_stripped-raw.csv\""
   ]
  },
  {
   "cell_type": "code",
   "execution_count": 6,
   "metadata": {
    "collapsed": false
   },
   "outputs": [
    {
     "data": {
      "text/plain": [
       "\"done\""
      ]
     },
     "execution_count": 6,
     "metadata": {},
     "output_type": "execute_result"
    }
   ],
   "source": [
    "header, trajdata, sn = load_header_trajdata_and_streetmap(csv_filepath)\n",
    "extract_params = PrimaryDataExtractionParams()\n",
    "\"done\""
   ]
  },
  {
   "cell_type": "code",
   "execution_count": 7,
   "metadata": {
    "collapsed": false
   },
   "outputs": [
    {
     "data": {
      "text/html": [],
      "text/plain": [
       "Interact.Slider{Int64}([Reactive.Input{Int64}] 9509,\"frame\",9509,1:19018)"
      ]
     },
     "metadata": {},
     "output_type": "display_data"
    },
    {
     "data": {
      "image/png": "[encoded data removed]",
      "text/plain": [
       "Cairo.CairoSurface(Ptr{Void} @0x00000000079603e0,1100.0,800.0,#undef)"
      ]
     },
     "execution_count": 7,
     "metadata": {
      "comm_id": "5513b7fb-e769-4733-8f1e-f652721c01cf",
      "reactive": true
     },
     "output_type": "execute_result"
    }
   ],
   "source": [
    "plot_manipulable_trajdata(trajdata, sn, canvas_height=800)"
   ]
  },
  {
   "cell_type": "code",
   "execution_count": 8,
   "metadata": {
    "collapsed": false
   },
   "outputs": [
    {
     "ename": "LoadError",
     "evalue": "LoadError: MethodError: `isnan` has no method matching isnan(::Void)\nwhile loading In[8], in expression starting on line 2",
     "output_type": "error",
     "traceback": [
      "LoadError: MethodError: `isnan` has no method matching isnan(::Void)\nwhile loading In[8], in expression starting on line 2",
      "",
      " in get at /home/tim/.julia/v0.4/AutomotiveDrivingModels/src/features/FeaturesNew.jl:531",
      " in get at /home/tim/.julia/v0.4/AutomotiveDrivingModels/src/features/FeaturesNew.jl:659",
      " in _extract_runlog at /home/tim/.julia/v0.4/AutomotiveDrivingModels/src/utils/PrimaryDataExtractor.jl:2217",
      " in extract_runlogs at /home/tim/.julia/v0.4/AutomotiveDrivingModels/src/utils/PrimaryDataExtractor.jl:1830"
     ]
    }
   ],
   "source": [
    "tic()\n",
    "runlogs = extract_runlogs(trajdata, sn, extract_params, header)\n",
    "toc()\n",
    "\"done\""
   ]
  },
  {
   "cell_type": "code",
   "execution_count": 9,
   "metadata": {
    "collapsed": false
   },
   "outputs": [
    {
     "ename": "LoadError",
     "evalue": "LoadError: UndefVarError: runlogs not defined\nwhile loading In[9], in expression starting on line 5",
     "output_type": "error",
     "traceback": [
      "LoadError: UndefVarError: runlogs not defined\nwhile loading In[9], in expression starting on line 5",
      ""
     ]
    }
   ],
   "source": [
    "include(Pkg.dir(\"AutomotiveDrivingModels\", \"viz\", \"incl_cairo_utils.jl\"))\n",
    "overlays = Overlay[]\n",
    "push!(overlays, TextStatsOverlay())\n",
    "push!(overlays, TrajdataOverlay(trajdata))\n",
    "plot_manipulable_runlog(runlogs[1], sn, RunLogs.ID_EGO, canvas_height=600, overlays=overlays)"
   ]
  },
  {
   "cell_type": "code",
   "execution_count": 10,
   "metadata": {
    "collapsed": false
   },
   "outputs": [
    {
     "ename": "LoadError",
     "evalue": "LoadError: UndefVarError: runlogs not defined\nwhile loading In[10], in expression starting on line 3",
     "output_type": "error",
     "traceback": [
      "LoadError: UndefVarError: runlogs not defined\nwhile loading In[10], in expression starting on line 3",
      ""
     ]
    }
   ],
   "source": [
    "frames = 2779:2780\n",
    "the_values = collect(repeated(ContextClass.FREEFLOW, length(frames)))\n",
    "RunLogs.set!(runlogs[1], ID_EGO, frames, :behavior, the_values);"
   ]
  },
  {
   "cell_type": "code",
   "execution_count": null,
   "metadata": {
    "collapsed": true
   },
   "outputs": [],
   "source": []
  },
  {
   "cell_type": "code",
   "execution_count": null,
   "metadata": {
    "collapsed": true
   },
   "outputs": [],
   "source": []
  }
 ],
 "metadata": {
  "kernelspec": {
   "display_name": "Julia 0.4.1",
   "language": "julia",
   "name": "julia-0.4"
  },
  "language_info": {
   "file_extension": ".jl",
   "mimetype": "application/julia",
   "name": "julia",
   "version": "0.4.1"
  }
 },
 "nbformat": 4,
 "nbformat_minor": 0
}
