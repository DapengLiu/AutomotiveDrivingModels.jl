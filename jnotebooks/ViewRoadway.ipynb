{
 "cells": [
  {
   "cell_type": "markdown",
   "metadata": {},
   "source": [
    "# View Roadway"
   ]
  },
  {
   "cell_type": "code",
   "execution_count": 1,
   "metadata": {
    "collapsed": false
   },
   "outputs": [],
   "source": [
    "using AutomotiveDrivingModels"
   ]
  },
  {
   "cell_type": "code",
   "execution_count": 2,
   "metadata": {
    "collapsed": false
   },
   "outputs": [],
   "source": [
    "include(Pkg.dir(\"AutomotiveDrivingModels\", \"src\", \"viz\", \"AutoViz.jl\"))\n",
    "using AutoViz"
   ]
  },
  {
   "cell_type": "code",
   "execution_count": 3,
   "metadata": {
    "collapsed": false
   },
   "outputs": [
    {
     "data": {
      "text/plain": [
       "get_test_roadway (generic function with 1 method)"
      ]
     },
     "execution_count": 3,
     "metadata": {},
     "output_type": "execute_result"
    }
   ],
   "source": [
    "function get_test_roadway()\n",
    "    roadway = Roadway()\n",
    "\n",
    "    seg1 = RoadSegment(1,\n",
    "        [Lane(LaneTag(1,1),\n",
    "            [CurvePt(VecSE2(-20.0,0.0*DEFAULT_LANE_WIDTH,0.0), 0.0),\n",
    "             CurvePt(VecSE2(-10.0,0.0*DEFAULT_LANE_WIDTH,0.0), 1.0)]),\n",
    "         Lane(LaneTag(1,2),\n",
    "            [CurvePt(VecSE2(-20.0,1.0*DEFAULT_LANE_WIDTH,0.0), 0.0),\n",
    "             CurvePt(VecSE2(-10.0,1.0*DEFAULT_LANE_WIDTH,0.0), 1.0)]),\n",
    "         Lane(LaneTag(1,3),\n",
    "            [CurvePt(VecSE2(-20.0,2.0*DEFAULT_LANE_WIDTH,0.0), 0.0),\n",
    "             CurvePt(VecSE2(-10.0,2.0*DEFAULT_LANE_WIDTH,0.0), 1.0)])\n",
    "        ])\n",
    "\n",
    "    seg2 = RoadSegment(2,\n",
    "        [Lane(LaneTag(2,1),\n",
    "            [CurvePt(VecSE2(00.0,0.0*DEFAULT_LANE_WIDTH,0.0), 0.0),\n",
    "             CurvePt(VecSE2(10.0,0.0*DEFAULT_LANE_WIDTH,0.0), 1.0),\n",
    "             CurvePt(VecSE2(20.0,0.0*DEFAULT_LANE_WIDTH,0.0), 2.0),\n",
    "             CurvePt(VecSE2(30.0,0.0*DEFAULT_LANE_WIDTH,0.0), 3.0)]),\n",
    "         Lane(LaneTag(2,2),\n",
    "            [CurvePt(VecSE2(00.0,1.0*DEFAULT_LANE_WIDTH,0.0), 0.0),\n",
    "             CurvePt(VecSE2(10.0,1.0*DEFAULT_LANE_WIDTH,0.0), 1.0),\n",
    "             CurvePt(VecSE2(20.0,1.0*DEFAULT_LANE_WIDTH,0.0), 2.0),\n",
    "             CurvePt(VecSE2(30.0,1.0*DEFAULT_LANE_WIDTH,0.0), 3.0)]),\n",
    "         Lane(LaneTag(2,3),\n",
    "            [CurvePt(VecSE2(00.0,2.0*DEFAULT_LANE_WIDTH,0.0), 0.0),\n",
    "             CurvePt(VecSE2(10.0,2.0*DEFAULT_LANE_WIDTH,0.0), 1.0),\n",
    "             CurvePt(VecSE2(20.0,2.0*DEFAULT_LANE_WIDTH,0.0), 2.0),\n",
    "             CurvePt(VecSE2(30.0,2.0*DEFAULT_LANE_WIDTH,0.0), 3.0)])\n",
    "         ])\n",
    "\n",
    "    seg3 = RoadSegment(3,\n",
    "        [Lane(LaneTag(3,1),\n",
    "            [CurvePt(VecSE2(40.0,0.0*DEFAULT_LANE_WIDTH,0.0), 0.0),\n",
    "             CurvePt(VecSE2(50.0,0.0*DEFAULT_LANE_WIDTH,0.0), 1.0)]),\n",
    "         Lane(LaneTag(3,2),\n",
    "            [CurvePt(VecSE2(40.0,1.0*DEFAULT_LANE_WIDTH,0.0), 0.0),\n",
    "             CurvePt(VecSE2(50.0,1.0*DEFAULT_LANE_WIDTH,0.0), 1.0)]),\n",
    "         Lane(LaneTag(3,3),\n",
    "            [CurvePt(VecSE2(40.0,2.0*DEFAULT_LANE_WIDTH,0.0), 0.0),\n",
    "             CurvePt(VecSE2(50.0,2.0*DEFAULT_LANE_WIDTH,0.0), 1.0)])\n",
    "        ])\n",
    "\n",
    "    for i in 1:3\n",
    "        connect!(seg1.lanes[i], seg2.lanes[i])\n",
    "        connect!(seg2.lanes[i], seg3.lanes[i])\n",
    "    end\n",
    "\n",
    "    push!(roadway.segments, seg1)\n",
    "    push!(roadway.segments, seg2)\n",
    "    push!(roadway.segments, seg3)\n",
    "\n",
    "    roadway\n",
    "end"
   ]
  },
  {
   "cell_type": "code",
   "execution_count": 4,
   "metadata": {
    "collapsed": false
   },
   "outputs": [
    {
     "data": {
      "image/png": "[encoded data removed]",
      "text/plain": [
       "Cairo.CairoSurface{UInt32}(Ptr{Void} @0x00000000024febd0,1000.0,600.0,#undef)"
      ]
     },
     "execution_count": 4,
     "metadata": {},
     "output_type": "execute_result"
    }
   ],
   "source": [
    "roadway = get_test_roadway()\n",
    "\n",
    "rendermodel = RenderModel()\n",
    "s = CairoRGBSurface(DEFAULT_CANVAS_WIDTH, DEFAULT_CANVAS_HEIGHT)\n",
    "ctx = creategc(s)\n",
    "clear_setup!(rendermodel)\n",
    "\n",
    "render!(rendermodel, roadway)\n",
    "\n",
    "camera_fit_to_content!(rendermodel, DEFAULT_CANVAS_WIDTH, DEFAULT_CANVAS_HEIGHT)\n",
    "render(rendermodel, ctx, DEFAULT_CANVAS_WIDTH, DEFAULT_CANVAS_HEIGHT)\n",
    "s"
   ]
  },
  {
   "cell_type": "code",
   "execution_count": null,
   "metadata": {
    "collapsed": true
   },
   "outputs": [],
   "source": []
  }
 ],
 "metadata": {
  "kernelspec": {
   "display_name": "Julia 0.4.1",
   "language": "julia",
   "name": "julia-0.4"
  },
  "language_info": {
   "file_extension": ".jl",
   "mimetype": "application/julia",
   "name": "julia",
   "version": "0.4.1"
  }
 },
 "nbformat": 4,
 "nbformat_minor": 0
}
