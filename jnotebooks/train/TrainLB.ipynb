{
 "cells": [
  {
   "cell_type": "markdown",
   "metadata": {},
   "source": [
    "# TrainLB"
   ]
  },
  {
   "cell_type": "code",
   "execution_count": 1,
   "metadata": {
    "collapsed": false
   },
   "outputs": [],
   "source": [
    "using AutomotiveDrivingModels\n",
    "using DynamicBayesianNetworkBehaviors"
   ]
  },
  {
   "cell_type": "markdown",
   "metadata": {},
   "source": [
    "## Parameters"
   ]
  },
  {
   "cell_type": "code",
   "execution_count": 2,
   "metadata": {
    "collapsed": false
   },
   "outputs": [],
   "source": [
    "include(Pkg.dir(\"AutomotiveDrivingModels\", \"scripts\", \"extract_params.jl\"))\n",
    "dset_filepath_modifier = \"_following\" # _freeflow, _following, _lanechange\n",
    "dset = JLD.load(joinpath(EVALUATION_DIR, \"dataset2\" * dset_filepath_modifier * \".jld\"),\n",
    "                \"model_training_data\")::ModelTrainingData2\n",
    "runlogs_original = load_runlogs(dset)\n",
    "streetnets = load_streetnets(runlogs_original)\n",
    "\n",
    "fold = 1\n",
    "cv_split_outer = get_fold_assignment_across_drives(dset, N_FOLDS)\n",
    "cv_split_inner = drop_fold!(deepcopy(cv_split_outer), fold)\n",
    "@assert(cv_split_inner.nfolds > 0)\n",
    "\n",
    "ntraces = length(cv_split_outer.seg_assignment);"
   ]
  },
  {
   "cell_type": "markdown",
   "metadata": {},
   "source": [
    "## Optimize Hyperparams"
   ]
  },
  {
   "cell_type": "code",
   "execution_count": 3,
   "metadata": {
    "collapsed": false
   },
   "outputs": [
    {
     "name": "stdout",
     "output_type": "stream",
     "text": [
      "BehaviorTrainDefinition\n",
      "LB Train Params\n",
      "\ttargets: (:f_des_angle,:f_accel)\n",
      "\tindicators: [:posFyaw,:posFt,:speed,:velBx,:velBy,:velFs,:velFt,:turnrate,:acc,:accFs,:accFt,:accBx,:accBy,:d_ml,:d_mr,:ttcr_ml,:ttcr_mr,:est_ttcr,:a_req_stayinlane,:n_lane_left,:n_lane_right,:has_lane_right,:has_lane_left,:curvature,:dist_merge,:dist_split,:scene_speed_diff,:has_front,:d_front,:d_y_front,:dv_x_front,:dv_y_front,:yaw_front,:turnrate_front,:acc_req_front,:inv_ttc_front,:inv_timegap_front,:gaining_on_front,:has_rear,:d_rear,:d_y_rear,:dv_x_rear,:dv_y_rear,:yaw_rear,:turnrate_rear,:acc_req_rear,:inv_ttc_rear,:inv_timegap_rear,:gaining_on_rear,:has_left,:d_left,:d_y_left,:dv_x_left,:dv_y_left,:yaw_left,:turnrate_left,:acc_req_left,:inv_ttc_left,:inv_timegap_left,:left_is_gaining,:has_right,:d_right,:d_y_right,:dv_x_right,:dv_y_right,:yaw_right,:turnrate_right,:acc_req_right,:inv_ttc_right,:inv_timegap_right,:right_is_gaining,:past_1_velFt,:past_2_velFt,:past_3_velFt,:past_4_velFt,:past_1_posFt,:past_2_posFt,:past_3_posFt,:past_4_posFt,:past_1_inv_ttc_front,:past_2_inv_ttc_front,:past_3_inv_ttc_front,:past_4_inv_ttc_front,:past_1_acc,:past_2_acc,:past_3_acc,:past_4_acc,:past_1_f_des_angle,:past_2_f_des_angle,:past_3_f_des_angle,:past_4_f_des_angle,:mean_4_acc,:mean_8_acc,:mean_4_f_des_angle,:mean_8_f_des_angle,:std_4_acc,:std_8_acc,:std_4_f_des_angle,:std_8_f_des_angle,:max_4_acc,:max_8_acc,:max_4_f_des_angle,:max_8_f_des_angle,:min_4_acc,:min_8_acc,:min_4_f_des_angle,:min_8_f_des_angle]\n",
      "\tridge_regression_constant: 0.0\n",
      "\tmin_σ_lat:      0.0001\n",
      "\tmin_σ_lon:      1.0e-5\n",
      "\tmax_parents:    10\n",
      "\n",
      "hyperparams:\n"
     ]
    }
   ],
   "source": [
    "train_def = BehaviorTrainDefinition(\n",
    "                                    LB_TrainParams(\n",
    "                                        indicators=INDICATOR_SET2,\n",
    "                                        max_parents=10,\n",
    "                                        verbosity=0,\n",
    "                                    ),\n",
    "                                    BehaviorParameter[\n",
    "                                    ])\n",
    "\n",
    "preallocated_data = preallocate_learning_data(dset, train_def.trainparams)\n",
    "print(train_def); sleep(0.1)"
   ]
  },
  {
   "cell_type": "code",
   "execution_count": 4,
   "metadata": {
    "collapsed": false
   },
   "outputs": [
    {
     "data": {
      "text/plain": [
       "12-element Array{AutomotiveDrivingModels.Features.AbstractFeature,1}:\n",
       " AutomotiveDrivingModels.Features.Feature_N_Lane_Left()     \n",
       " AutomotiveDrivingModels.Features.Feature_N_Lane_Right()    \n",
       " AutomotiveDrivingModels.Features.Feature_Has_Lane_Right()  \n",
       " AutomotiveDrivingModels.Features.Feature_Has_Lane_Left()   \n",
       " AutomotiveDrivingModels.Features.Feature_Has_Front()       \n",
       " AutomotiveDrivingModels.Features.Feature_Gaining_On_Front()\n",
       " AutomotiveDrivingModels.Features.Feature_Has_Rear()        \n",
       " AutomotiveDrivingModels.Features.Feature_Rear_Is_Gaining() \n",
       " AutomotiveDrivingModels.Features.Feature_Has_Left()        \n",
       " AutomotiveDrivingModels.Features.Feature_Left_Is_Gaining() \n",
       " AutomotiveDrivingModels.Features.Feature_Has_Right()       \n",
       " AutomotiveDrivingModels.Features.Feature_Right_Is_Gaining()"
      ]
     },
     "execution_count": 4,
     "metadata": {},
     "output_type": "execute_result"
    }
   ],
   "source": [
    "preallocated_data.features_disc"
   ]
  },
  {
   "cell_type": "code",
   "execution_count": 5,
   "metadata": {
    "collapsed": false
   },
   "outputs": [
    {
     "data": {
      "text/plain": [
       "19-element Array{AutomotiveDrivingModels.Features.AbstractFeature,1}:\n",
       " AutomotiveDrivingModels.Features.Feature_PosFyaw()               \n",
       " AutomotiveDrivingModels.Features.Feature_PosFt()                 \n",
       " AutomotiveDrivingModels.Features.Feature_Speed()                 \n",
       " AutomotiveDrivingModels.Features.Feature_VelBx()                 \n",
       " AutomotiveDrivingModels.Features.Feature_VelBy()                 \n",
       " AutomotiveDrivingModels.Features.Feature_VelFs()                 \n",
       " AutomotiveDrivingModels.Features.Feature_VelFt()                 \n",
       " AutomotiveDrivingModels.Features.Feature_TurnRate()              \n",
       " AutomotiveDrivingModels.Features.Feature_Acc()                   \n",
       " AutomotiveDrivingModels.Features.Feature_AccFs()                 \n",
       " AutomotiveDrivingModels.Features.Feature_AccFt()                 \n",
       " AutomotiveDrivingModels.Features.Feature_AccBx()                 \n",
       " AutomotiveDrivingModels.Features.Feature_AccBy()                 \n",
       " AutomotiveDrivingModels.Features.Feature_MarkerDist_Left()       \n",
       " AutomotiveDrivingModels.Features.Feature_MarkerDist_Right()      \n",
       " AutomotiveDrivingModels.Features.Feature_LaneCurvature()         \n",
       " AutomotiveDrivingModels.Features.Feature_Dist_Merge()            \n",
       " AutomotiveDrivingModels.Features.Feature_Dist_Split()            \n",
       " AutomotiveDrivingModels.Features.Feature_Scene_Speed_Difference()"
      ]
     },
     "execution_count": 5,
     "metadata": {},
     "output_type": "execute_result"
    }
   ],
   "source": [
    "preallocated_data.features_cont"
   ]
  },
  {
   "cell_type": "code",
   "execution_count": 6,
   "metadata": {
    "collapsed": false
   },
   "outputs": [
    {
     "data": {
      "text/plain": [
       "76-element Array{AutomotiveDrivingModels.Features.AbstractFeature,1}:\n",
       " AutomotiveDrivingModels.Features.Feature_TimeToCrossing_Left()             \n",
       " AutomotiveDrivingModels.Features.Feature_TimeToCrossing_Right()            \n",
       " AutomotiveDrivingModels.Features.Feature_EstimatedTimeToLaneCrossing()     \n",
       " AutomotiveDrivingModels.Features.Feature_A_REQ_StayInLane()                \n",
       " AutomotiveDrivingModels.Features.Feature_Dist_Front()                      \n",
       " AutomotiveDrivingModels.Features.Feature_D_Y_Front()                       \n",
       " AutomotiveDrivingModels.Features.Feature_Delta_V_Front()                   \n",
       " AutomotiveDrivingModels.Features.Feature_Delta_V_Y_Front()                 \n",
       " AutomotiveDrivingModels.Features.Feature_Yaw_Front()                       \n",
       " AutomotiveDrivingModels.Features.Feature_Turnrate_Front()                  \n",
       " AutomotiveDrivingModels.Features.Feature_Acc_Req_Front()                   \n",
       " AutomotiveDrivingModels.Features.Feature_Inv_TTC_Front()                   \n",
       " AutomotiveDrivingModels.Features.Feature_Inv_Timegap_Front()               \n",
       " ⋮                                                                          \n",
       " AutomotiveDrivingModels.Features.Feature_Std_Over_History{:acc,4}()        \n",
       " AutomotiveDrivingModels.Features.Feature_Std_Over_History{:acc,8}()        \n",
       " AutomotiveDrivingModels.Features.Feature_Std_Over_History{:f_des_angle,4}()\n",
       " AutomotiveDrivingModels.Features.Feature_Std_Over_History{:f_des_angle,8}()\n",
       " AutomotiveDrivingModels.Features.Feature_Max_Over_History{:acc,4}()        \n",
       " AutomotiveDrivingModels.Features.Feature_Max_Over_History{:acc,8}()        \n",
       " AutomotiveDrivingModels.Features.Feature_Max_Over_History{:f_des_angle,4}()\n",
       " AutomotiveDrivingModels.Features.Feature_Max_Over_History{:f_des_angle,8}()\n",
       " AutomotiveDrivingModels.Features.Feature_Min_Over_History{:acc,4}()        \n",
       " AutomotiveDrivingModels.Features.Feature_Min_Over_History{:acc,8}()        \n",
       " AutomotiveDrivingModels.Features.Feature_Min_Over_History{:f_des_angle,4}()\n",
       " AutomotiveDrivingModels.Features.Feature_Min_Over_History{:f_des_angle,8}()"
      ]
     },
     "execution_count": 6,
     "metadata": {},
     "output_type": "execute_result"
    }
   ],
   "source": [
    "preallocated_data.features_nann"
   ]
  },
  {
   "cell_type": "code",
   "execution_count": 7,
   "metadata": {
    "collapsed": true
   },
   "outputs": [],
   "source": [
    "# AutomotiveDrivingModels.optimize_hyperparams_cyclic_coordinate_ascent!(\n",
    "#                     train_def, dset, preallocated_data, cv_split_inner)\n",
    "# print(train_def); sleep(0.1)"
   ]
  },
  {
   "cell_type": "markdown",
   "metadata": {},
   "source": [
    "## Train"
   ]
  },
  {
   "cell_type": "code",
   "execution_count": 11,
   "metadata": {
    "collapsed": false
   },
   "outputs": [
    {
     "name": "stdout",
     "output_type": "stream",
     "text": [
      "\n",
      "\n",
      "\n",
      "Linear Gaussian Bayesian Network Behavior\n",
      "\ttargets: (:f_des_angle,:f_accel)\n",
      "\tfeatures: \n",
      "\t\tdiscrete:   [:gaining_on_front,:has_rear,:has_left,:right_is_gaining]\n",
      "\t\tcontinuous: [:acc,:accFt,:accBx,:est_ttcr,:past_1_acc,:past_2_acc,:past_3_acc,:past_1_f_des_angle,:past_2_f_des_angle,:mean_8_acc,:mean_8_f_des_angle,:max_4_acc,:f_des_angle,:f_accel]\n",
      "\tnumber of suffstats for lat: 1280\n",
      "\tnumber of suffstats for lon: 208\n",
      "\tparents lat: [:gaining_on_front,:has_rear,:has_left,:right_is_gaining]\n",
      "\t             [:accFt]\n",
      "\t             [:est_ttcr,:past_1_f_des_angle,:past_2_f_des_angle,:mean_8_f_des_angle]\n",
      "\tparents lon: Symbol[]\n",
      "\t             [:acc,:accBx]\n",
      "\t             [:past_1_acc,:past_2_acc,:past_3_acc,:mean_8_acc,:max_4_acc]\n",
      "\tsample lat first: true\n"
     ]
    }
   ],
   "source": [
    "LB = train(dset, preallocated_data, train_def.trainparams, FoldSet(cv_split_outer, fold, false, :frame))\n",
    "sleep(0.5)\n",
    "println(\"\\n\\n\")\n",
    "print(LB)\n",
    "sleep(0.5)"
   ]
  },
  {
   "cell_type": "markdown",
   "metadata": {},
   "source": [
    "## Likelihood"
   ]
  },
  {
   "cell_type": "code",
   "execution_count": 12,
   "metadata": {
    "collapsed": false
   },
   "outputs": [
    {
     "name": "stdout",
     "output_type": "stream",
     "text": [
      "                 min          mean        median           max\n",
      " -1853193673396.4333  -113828818.4528       15.5193       16.8815\n",
      "        -189877.3036      -36.5944       15.2974       16.8832\n"
     ]
    }
   ],
   "source": [
    "arr_logl_train = Float64[]\n",
    "arr_logl_test = Float64[]\n",
    "for frameind in 1 : nrow(dset.dataframe)\n",
    "    logl = calc_action_loglikelihood(LB, dset.dataframe, frameind)\n",
    "    \n",
    "    if is_in_fold(fold, cv_split_outer.frame_assignment[frameind], true)\n",
    "        push!(arr_logl_test, logl)\n",
    "    else\n",
    "        push!(arr_logl_train, logl)\n",
    "    end\n",
    "end\n",
    "\n",
    "@printf(\"%20s  %12s  %12s  %12s\\n\", \"min\", \"mean\", \"median\", \"max\")\n",
    "@printf(\"%20.4f  %12.4f  %12.4f  %12.4f\\n\", minimum(arr_logl_train), mean(arr_logl_train), median(arr_logl_train), maximum(arr_logl_train))\n",
    "@printf(\"%20.4f  %12.4f  %12.4f  %12.4f\\n\", minimum(arr_logl_test), mean(arr_logl_test), median(arr_logl_test), maximum(arr_logl_test))"
   ]
  },
  {
   "cell_type": "code",
   "execution_count": null,
   "metadata": {
    "collapsed": true
   },
   "outputs": [],
   "source": []
  }
 ],
 "metadata": {
  "kernelspec": {
   "display_name": "Julia 0.4.1",
   "language": "julia",
   "name": "julia-0.4"
  },
  "language_info": {
   "file_extension": ".jl",
   "mimetype": "application/julia",
   "name": "julia",
   "version": "0.4.1"
  }
 },
 "nbformat": 4,
 "nbformat_minor": 0
}
