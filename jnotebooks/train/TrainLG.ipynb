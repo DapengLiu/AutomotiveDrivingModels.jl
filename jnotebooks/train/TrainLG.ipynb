{
 "cells": [
  {
   "cell_type": "markdown",
   "metadata": {},
   "source": [
    "# Train Linear Gaussian"
   ]
  },
  {
   "cell_type": "code",
   "execution_count": 1,
   "metadata": {
    "collapsed": true
   },
   "outputs": [],
   "source": [
    "using AutomotiveDrivingModels"
   ]
  },
  {
   "cell_type": "markdown",
   "metadata": {},
   "source": [
    "## Parameters"
   ]
  },
  {
   "cell_type": "code",
   "execution_count": 2,
   "metadata": {
    "collapsed": false
   },
   "outputs": [],
   "source": [
    "include(Pkg.dir(\"AutomotiveDrivingModels\", \"scripts\", \"extract_params.jl\"))\n",
    "nothing"
   ]
  },
  {
   "cell_type": "code",
   "execution_count": 3,
   "metadata": {
    "collapsed": false
   },
   "outputs": [
    {
     "data": {
      "text/plain": [
       "\"_following\""
      ]
     },
     "execution_count": 3,
     "metadata": {},
     "output_type": "execute_result"
    }
   ],
   "source": [
    "dset_filepath_modifier = \"_following\" # _freeflow, _following, _lanechange"
   ]
  },
  {
   "cell_type": "code",
   "execution_count": 4,
   "metadata": {
    "collapsed": false
   },
   "outputs": [
    {
     "name": "stdout",
     "output_type": "stream",
     "text": [
      "runlog_id_ntraces: "
     ]
    }
   ],
   "source": [
    "dset = JLD.load(joinpath(EVALUATION_DIR, \"dataset2\" * dset_filepath_modifier * \".jld\"),\n",
    "                \"model_training_data\")::ModelTrainingData2\n",
    "runlogs_original = load_runlogs(dset)\n",
    "streetnets = load_streetnets(runlogs_original)\n",
    "\n",
    "cv_split_outer = get_fold_assignment_across_drives(dset, N_FOLDS)\n",
    "cv_split_inner = drop_fold!(deepcopy(cv_split_outer), 1)\n",
    "@assert(cv_split_inner.nfolds > 0)\n",
    "\n",
    "nframes = nrow(dset.dataframe)\n",
    "ntraces = length(cv_split_outer.seg_assignment);"
   ]
  },
  {
   "cell_type": "markdown",
   "metadata": {},
   "source": [
    "## optimize hyperparams"
   ]
  },
  {
   "cell_type": "code",
   "execution_count": 5,
   "metadata": {
    "collapsed": false
   },
   "outputs": [
    {
     "name": "stdout",
     "output_type": "stream",
     "text": [
      "[1,4,2,4,2,1,1,6,5,8,34,21,96,77,69,39,8,39,82]\n",
      "id_to_fold: [1,5,1,2,5,3,5,5,2,5,4,3,1,3,4,5,2,5,2]\n",
      "499\n",
      "BehaviorTrainDefinition\n",
      "targets:    (:f_des_angle,:f_accel)\n",
      "indicators: [:posFyaw,:posFt,:speed,:velBx,:velBy,:velFs,:velFt,:turnrate,:acc,:accFs,:accFt,:accBx,:accBy,:d_ml,:d_mr,:ttcr_ml,:ttcr_mr,:est_ttcr,:a_req_stayinlane,:n_lane_left,:n_lane_right,:has_lane_right,:has_lane_left,:curvature]\n",
      "λ:          0.5\n",
      "\n",
      "hyperparams:\n",
      "\tridge_regression_constant: [0.0, 0.5, 1.0, 2.0, >10.0<, 100.0, 1000.0]\n"
     ]
    }
   ],
   "source": [
    "train_def = BehaviorTrainDefinition(\n",
    "    LG_TrainParams(indicators=INDICATOR_SET2),\n",
    "    [\n",
    "        BehaviorParameter(:ridge_regression_constant, [0.0,0.5,1.0,2.0,10.0,100.0,1000.0], 5)\n",
    "    ])\n",
    "preallocated_data = preallocate_learning_data(dset, train_def.trainparams)\n",
    "print(train_def); sleep(0.1)"
   ]
  },
  {
   "cell_type": "code",
   "execution_count": 6,
   "metadata": {
    "collapsed": false
   },
   "outputs": [
    {
     "name": "stdout",
     "output_type": "stream",
     "text": [
      "                                       λ   i   logl  logl*\n",
      "optimize_hyperparams_cyclic_coordinate_ascent iteration 1  et: 0.0007920265197753906\n",
      "               ridge_regression_constant   1 4.9711   -Inf\n",
      "               ridge_regression_constant   2 4.9712 4.9711\n",
      "               ridge_regression_constant   3 4.9712 4.9712\n",
      "               ridge_regression_constant   4 4.9712 4.9712\n",
      "               ridge_regression_constant   5 4.9707 4.9712\n",
      "               ridge_regression_constant   6 4.8850 4.9712\n",
      "               ridge_regression_constant   7 3.7285 4.9712\n",
      "optimize_hyperparams_cyclic_coordinate_ascent iteration 2  et: 28.9803569316864\n",
      "BehaviorTrainDefinition\n",
      "targets:    (:f_des_angle,:f_accel)\n",
      "indicators: [:posFyaw,:posFt,:speed,:velBx,:velBy,:velFs,:velFt,:turnrate,:acc,:accFs,:accFt,:accBx,:accBy,:d_ml,:d_mr,:ttcr_ml,:ttcr_mr,:est_ttcr,:a_req_stayinlane,:n_lane_left,:n_lane_right,:has_lane_right,:has_lane_left,:curvature]\n",
      "λ:          2.0\n",
      "\n",
      "hyperparams:\n",
      "\tridge_regression_constant: [0.0, 0.5, 1.0, 2.0, >10.0<, 100.0, 1000.0]\n"
     ]
    }
   ],
   "source": [
    "AutomotiveDrivingModels.optimize_hyperparams_cyclic_coordinate_ascent!(\n",
    "                    train_def, dset, preallocated_data, cv_split_inner)\n",
    "print(train_def); sleep(0.1)"
   ]
  },
  {
   "cell_type": "markdown",
   "metadata": {},
   "source": [
    "## train"
   ]
  },
  {
   "cell_type": "code",
   "execution_count": 9,
   "metadata": {
    "collapsed": false
   },
   "outputs": [
    {
     "name": "stdout",
     "output_type": "stream",
     "text": [
      "LG\n",
      "\tindicator: acc\n",
      "\tA: \n",
      "\t\t[    0.001199,    -0.004475]\n",
      "\t\t[   -0.002327,    -0.994266]\n",
      "\tμ∞:\n",
      "\t\t[    0.000000,     0.000000]\n",
      "\tΣ:\n",
      "\t\t[    0.000124,    -0.000015]\n",
      "\t\t[   -0.000015,     0.000544]\n"
     ]
    }
   ],
   "source": [
    "LG = train(dset, preallocated_data, train_def.trainparams, 1, cv_split_outer, true);\n",
    "print(LG)"
   ]
  },
  {
   "cell_type": "code",
   "execution_count": 11,
   "metadata": {
    "collapsed": false
   },
   "outputs": [
    {
     "data": {
      "text/plain": [
       "227.9411764705882"
      ]
     },
     "execution_count": 11,
     "metadata": {},
     "output_type": "execute_result"
    }
   ],
   "source": []
  },
  {
   "cell_type": "code",
   "execution_count": null,
   "metadata": {
    "collapsed": true
   },
   "outputs": [],
   "source": []
  }
 ],
 "metadata": {
  "kernelspec": {
   "display_name": "Julia 0.4.1",
   "language": "julia",
   "name": "julia-0.4"
  },
  "language_info": {
   "file_extension": ".jl",
   "mimetype": "application/julia",
   "name": "julia",
   "version": "0.4.1"
  }
 },
 "nbformat": 4,
 "nbformat_minor": 0
}
