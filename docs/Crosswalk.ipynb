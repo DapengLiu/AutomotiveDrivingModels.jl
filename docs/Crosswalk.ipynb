{
 "cells": [
  {
   "cell_type": "markdown",
   "metadata": {},
   "source": [
    "# Intersection and Crosswalk"
   ]
  },
  {
   "cell_type": "markdown",
   "metadata": {},
   "source": [
    "In this notebook we demonstrate how to define a T-shape intersection and a crosswalk with pedestrians using AutomotiveDrivingModels."
   ]
  },
  {
   "cell_type": "code",
   "execution_count": 1,
   "metadata": {
    "collapsed": false
   },
   "outputs": [
    {
     "name": "stderr",
     "output_type": "stream",
     "text": [
      "\u001b[1m\u001b[36mINFO: \u001b[39m\u001b[22m\u001b[36mRecompiling stale cache file /home/tim/.julia/lib/v0.6/AutomotiveDrivingModels.ji for module AutomotiveDrivingModels.\n",
      "\u001b[39m\u001b[1m\u001b[36mINFO: \u001b[39m\u001b[22m\u001b[36mRecompiling stale cache file /home/tim/.julia/lib/v0.6/AutoViz.ji for module AutoViz.\n",
      "\u001b[39m"
     ]
    }
   ],
   "source": [
    "using AutomotiveDrivingModels\n",
    "\n",
    "# Explicit importation (for the tutorial)\n",
    "# All the functions related to visualization\n",
    "using AutoViz: RenderModel, render, render!, SceneOverlay, \n",
    "               FitToContentCamera, add_instruction!, Colorant, \n",
    "               RGBA, @colorant_str, render_dashed_line"
   ]
  },
  {
   "cell_type": "markdown",
   "metadata": {},
   "source": [
    "## Generate a T shape intersection"
   ]
  },
  {
   "cell_type": "markdown",
   "metadata": {},
   "source": [
    "In order to generate the road network, one first initializes a ```Roadway``` object. "
   ]
  },
  {
   "cell_type": "code",
   "execution_count": 2,
   "metadata": {
    "collapsed": false
   },
   "outputs": [],
   "source": [
    "roadway = Roadway();"
   ]
  },
  {
   "cell_type": "code",
   "execution_count": 3,
   "metadata": {
    "collapsed": false
   },
   "outputs": [
    {
     "data": {
      "text/plain": [
       "VecSE2({13.000, 3.000}, -3.142)"
      ]
     },
     "execution_count": 3,
     "metadata": {},
     "output_type": "execute_result"
    }
   ],
   "source": [
    "# Define coordinates of the entry and exit points to the intersection\n",
    "r = 5.0 # turn radius\n",
    "A = VecSE2(0,DEFAULT_LANE_WIDTH,-π)\n",
    "B = VecSE2(0,0,0)\n",
    "C = VecSE2(r,-r,-π/2)\n",
    "D = VecSE2(r+DEFAULT_LANE_WIDTH,-r,π/2)\n",
    "E = VecSE2(2r+DEFAULT_LANE_WIDTH,0,0)\n",
    "F = VecSE2(2r+DEFAULT_LANE_WIDTH,DEFAULT_LANE_WIDTH,-π)"
   ]
  },
  {
   "cell_type": "markdown",
   "metadata": {},
   "source": [
    "The next step consists in appending all the lanes to the road network. We can define a helper function to add a new lane to the roadway."
   ]
  },
  {
   "cell_type": "code",
   "execution_count": 4,
   "metadata": {
    "collapsed": false
   },
   "outputs": [
    {
     "data": {
      "text/plain": [
       "append_to_curve! (generic function with 1 method)"
      ]
     },
     "execution_count": 4,
     "metadata": {},
     "output_type": "execute_result"
    }
   ],
   "source": [
    "function append_to_curve!(target::Curve, newstuff::Curve)\n",
    "    s_end = target[end].s\n",
    "    for c in newstuff\n",
    "        push!(target, CurvePt(c.pos, c.s+s_end, c.k, c.kd))\n",
    "    end\n",
    "    return target\n",
    "end"
   ]
  },
  {
   "cell_type": "markdown",
   "metadata": {},
   "source": [
    "Example of a lane that consists in 3 road segments, a straight curve (from the left to the center), a turning part (right turn) and a final straight curve. You can visualize the lane that has been added to the roadway"
   ]
  },
  {
   "cell_type": "code",
   "execution_count": 5,
   "metadata": {
    "collapsed": false
   },
   "outputs": [
    {
     "data": {
      "image/png": "[encoded data removed]",
      "text/plain": [
       "Cairo.CairoSurface{UInt32}(Ptr{Void} @0x00000000038c5c80, 1000.0, 600.0, #undef)"
      ]
     },
     "execution_count": 5,
     "metadata": {},
     "output_type": "execute_result"
    }
   ],
   "source": [
    "# Append right turn coming from the left\n",
    "curve = gen_straight_curve(convert(VecE2, B+VecE2(-100,0)), convert(VecE2, B), 2)\n",
    "append_to_curve!(curve, gen_bezier_curve(B, C, 0.6r, 0.6r, 51)[2:end])\n",
    "append_to_curve!(curve, gen_straight_curve(convert(VecE2, C), convert(VecE2, C+VecE2(0,-50.0)), 2))\n",
    "lane = Lane(LaneTag(length(roadway.segments)+1,1), curve)\n",
    "push!(roadway.segments, RoadSegment(lane.tag.segment, [Lane(lane)]))\n",
    "\n",
    "#visualize first lane\n",
    "cam = FitToContentCamera(0.0)\n",
    "render(roadway, cam=cam)"
   ]
  },
  {
   "cell_type": "markdown",
   "metadata": {},
   "source": [
    "Let's repeat the process and complete the T-shape intersection"
   ]
  },
  {
   "cell_type": "code",
   "execution_count": 6,
   "metadata": {
    "collapsed": false
   },
   "outputs": [
    {
     "data": {
      "image/png": "[encoded data removed]",
      "text/plain": [
       "Cairo.CairoSurface{UInt32}(Ptr{Void} @0x000000000416e0e0, 1000.0, 600.0, #undef)"
      ]
     },
     "execution_count": 6,
     "metadata": {},
     "output_type": "execute_result"
    }
   ],
   "source": [
    "# Append straight left\n",
    "curve = gen_straight_curve(convert(VecE2, B+VecE2(-100,0)), convert(VecE2, B), 2)\n",
    "append_to_curve!(curve, gen_straight_curve(convert(VecE2, B), convert(VecE2, E), 2)[2:end])\n",
    "append_to_curve!(curve, gen_straight_curve(convert(VecE2, E), convert(VecE2, E+VecE2(50,0)), 2))\n",
    "lane = Lane(LaneTag(length(roadway.segments)+1,1), curve)\n",
    "push!(roadway.segments, RoadSegment(lane.tag.segment, [Lane(lane)]))\n",
    "\n",
    "# Append straight right\n",
    "curve = gen_straight_curve(convert(VecE2, F+VecE2(50,0)), convert(VecE2, F), 2)\n",
    "append_to_curve!(curve, gen_straight_curve(convert(VecE2, F), convert(VecE2, A), 2)[2:end])\n",
    "append_to_curve!(curve, gen_straight_curve(convert(VecE2, A), convert(VecE2, A+VecE2(-100,0)), 2))\n",
    "lane = Lane(LaneTag(length(roadway.segments)+1,1), curve)\n",
    "push!(roadway.segments, RoadSegment(lane.tag.segment, [Lane(lane)]))\n",
    "\n",
    "# Append left turn coming from the right\n",
    "curve = gen_straight_curve(convert(VecE2, F+VecE2(50,0)), convert(VecE2, F), 2)\n",
    "append_to_curve!(curve, gen_bezier_curve(F, C, 0.9r, 0.9r, 51)[2:end])\n",
    "append_to_curve!(curve, gen_straight_curve(convert(VecE2, C), convert(VecE2, C+VecE2(0,-50)), 2))\n",
    "lane = Lane(LaneTag(length(roadway.segments)+1,1), curve)\n",
    "push!(roadway.segments, RoadSegment(lane.tag.segment, [Lane(lane)]))\n",
    "\n",
    "# Append right turn coming from below\n",
    "curve = gen_straight_curve(convert(VecE2, D+VecE2(0,-50)), convert(VecE2, D), 2)\n",
    "append_to_curve!(curve, gen_bezier_curve(D, E, 0.6r, 0.6r, 51)[2:end])\n",
    "append_to_curve!(curve, gen_straight_curve(convert(VecE2, E), convert(VecE2, E+VecE2(50,0)), 2))\n",
    "lane = Lane(LaneTag(length(roadway.segments)+1,1), curve)\n",
    "push!(roadway.segments, RoadSegment(lane.tag.segment, [Lane(lane)]))\n",
    "\n",
    "# Append left turn coming from below\n",
    "curve = gen_straight_curve(convert(VecE2, D+VecE2(0,-50)), convert(VecE2, D), 2)\n",
    "append_to_curve!(curve, gen_bezier_curve(D, A, 0.9r, 0.9r, 51)[2:end])\n",
    "append_to_curve!(curve, gen_straight_curve(convert(VecE2, A), convert(VecE2, A+VecE2(-100,0)), 2))\n",
    "lane = Lane(LaneTag(length(roadway.segments)+1,1), curve)\n",
    "push!(roadway.segments, RoadSegment(lane.tag.segment, [Lane(lane)]))\n",
    "\n",
    "cam = FitToContentCamera(0.0)\n",
    "render(roadway, cam=cam)"
   ]
  },
  {
   "cell_type": "markdown",
   "metadata": {},
   "source": [
    "We can identify each lane thanks to the following user-defined functions. We define a ```LaneOverlay``` object that indicate the lane to highlight. One could implement any custom type to display other information on the lane. We then add a new method to the  ```render!``` function that execute the specific action (coloring in blue). Look at Autoviz.jl for more detail on the ```render!``` function.\n",
    "\n",
    "Use the slider to highlight each lane. The number corresponds to a road segment.\n",
    "\n",
    "**Note :** In order to render the intersection, one must first initialize a ```Scene``` object."
   ]
  },
  {
   "cell_type": "code",
   "execution_count": 7,
   "metadata": {
    "collapsed": false
   },
   "outputs": [
    {
     "data": {
      "text/html": [
       "<div id=\"interact-js-shim\">\n",
       "    <script charset=\"utf-8\">\n",
       "(function (IPython, $, _, MathJax) {\n",
       "    $.event.special.destroyed = {\n",
       "\tremove: function(o) {\n",
       "\t    if (o.handler) {\n",
       "\t\to.handler.apply(this, arguments)\n",
       "\t    }\n",
       "\t}\n",
       "    }\n",
       "\n",
       "    var OutputArea = IPython.version >= \"4.0.0\" ? require(\"notebook/js/outputarea\").OutputArea : IPython.OutputArea;\n",
       "\n",
       "    var redrawValue = function (container, type, val) {\n",
       "\tvar selector = $(\"<div/>\");\n",
       "\tvar oa = new OutputArea(_.extend(selector, {\n",
       "\t    selector: selector,\n",
       "\t    prompt_area: true,\n",
       "\t    events: IPython.events,\n",
       "\t    keyboard_manager: IPython.keyboard_manager\n",
       "\t})); // Hack to work with IPython 2.1.0\n",
       "\n",
       "\tswitch (type) {\n",
       "\tcase \"image/png\":\n",
       "            var _src = 'data:' + type + ';base64,' + val;\n",
       "\t    $(container).find(\"img\").attr('src', _src);\n",
       "\t    break;\n",
       "\tcase \"text/latex\":\n",
       "\t\tif (MathJax){\n",
       "\t\t\tvar math = MathJax.Hub.getAllJax(container)[0];\n",
       "\t\t\tMathJax.Hub.Queue([\"Text\", math, val.replace(/^\\${1,2}|\\${1,2}$/g, '')]);\n",
       "\t\t\tbreak;\n",
       "\t\t}\n",
       "\tdefault:\n",
       "\t    var toinsert = OutputArea.append_map[type].apply(\n",
       "\t\toa, [val, {}, selector]\n",
       "\t    );\n",
       "\t    $(container).empty().append(toinsert.contents());\n",
       "\t    selector.remove();\n",
       "\t}\n",
       "    }\n",
       "\n",
       "\n",
       "    $(document).ready(function() {\n",
       "\tfunction initComm(evt, data) {\n",
       "\t    var comm_manager = data.kernel.comm_manager;\n",
       "        //_.extend(comm_manager.targets, require(\"widgets/js/widget\"))\n",
       "\t    comm_manager.register_target(\"Signal\", function (comm) {\n",
       "            comm.on_msg(function (msg) {\n",
       "                var val = msg.content.data.value;\n",
       "                $(\".signal-\" + comm.comm_id).each(function() {\n",
       "                var type = $(this).data(\"type\");\n",
       "                if (typeof(val[type]) !== \"undefined\" && val[type] !== null) {\n",
       "                    redrawValue(this, type, val[type], type);\n",
       "                }\n",
       "                });\n",
       "                delete val;\n",
       "                delete msg.content.data.value;\n",
       "            });\n",
       "\t    });\n",
       "\n",
       "\t    // coordingate with Comm and redraw Signals\n",
       "\t    // XXX: Test using Reactive here to improve performance\n",
       "\t    $([IPython.events]).on(\n",
       "\t\t'output_appended.OutputArea', function (event, type, value, md, toinsert) {\n",
       "\t\t    if (md && md.reactive) {\n",
       "                // console.log(md.comm_id);\n",
       "                toinsert.addClass(\"signal-\" + md.comm_id);\n",
       "                toinsert.data(\"type\", type);\n",
       "                // Signal back indicating the mimetype required\n",
       "                var comm_manager = IPython.notebook.kernel.comm_manager;\n",
       "                var comm = comm_manager.comms[md.comm_id];\n",
       "                comm.then(function (c) {\n",
       "                    c.send({action: \"subscribe_mime\",\n",
       "                       mime: type});\n",
       "                    toinsert.bind(\"destroyed\", function() {\n",
       "                        c.send({action: \"unsubscribe_mime\",\n",
       "                               mime: type});\n",
       "                    });\n",
       "                })\n",
       "\t\t    }\n",
       "\t    });\n",
       "\t}\n",
       "\n",
       "\ttry {\n",
       "\t    // try to initialize right away. otherwise, wait on the status_started event.\n",
       "\t    initComm(undefined, IPython.notebook);\n",
       "\t} catch (e) {\n",
       "\t    $([IPython.events]).on('kernel_created.Kernel kernel_created.Session', initComm);\n",
       "\t}\n",
       "    });\n",
       "})(IPython, jQuery, _, MathJax);\n",
       "</script>\n",
       "    <script>\n",
       "        window.interactLoadedFlag = true\n",
       "       $(\"#interact-js-shim\").bind(\"destroyed\", function () {\n",
       "           if (window.interactLoadedFlag) {\n",
       "               console.warn(\"JavaScript required by Interact will be removed if you remove this cell or run using Interact more than once.\")\n",
       "           }\n",
       "       })\n",
       "       $([IPython.events]).on(\"kernel_starting.Kernel kernel_restarting.Kernel\", function () { window.interactLoadedFlag = false })\n",
       "   </script>\n",
       "</div>"
      ]
     },
     "metadata": {},
     "output_type": "display_data"
    },
    {
     "data": {
      "text/html": [],
      "text/plain": [
       "Interact.Options{:SelectionSlider,Any}(1: \"input\" = 3 Any , \"i\", 3, \"3\", 3, Interact.OptionDict(DataStructures.OrderedDict{Any,Any}(\"1\"=>1,\"2\"=>2,\"3\"=>3,\"4\"=>4,\"5\"=>5,\"6\"=>6), Dict{Any,Any}(Pair{Any,Any}(4, \"4\"),Pair{Any,Any}(2, \"2\"),Pair{Any,Any}(3, \"3\"),Pair{Any,Any}(5, \"5\"),Pair{Any,Any}(6, \"6\"),Pair{Any,Any}(1, \"1\"))), Any[], Any[], true, \"horizontal\")"
      ]
     },
     "metadata": {},
     "output_type": "display_data"
    },
    {
     "data": {
      "image/png": "[encoded data removed]",
      "text/plain": [
       "Cairo.CairoSurface{UInt32}(Ptr{Void} @0x0000000004513d00, 1000.0, 600.0, #undef)"
      ]
     },
     "execution_count": 7,
     "metadata": {
      "comm_id": "d7928345-357a-4f6b-a22c-5f7c8a695c50",
      "reactive": true
     },
     "output_type": "execute_result"
    }
   ],
   "source": [
    "using Interact\n",
    "\n",
    "scene = Scene()\n",
    "\n",
    "type LaneOverlay <: SceneOverlay\n",
    "    lane::Lane\n",
    "    color::Colorant\n",
    "end\n",
    "function AutoViz.render!(rendermodel::RenderModel, overlay::LaneOverlay, scene::Scene, roadway::Roadway)\n",
    "    render!(rendermodel, overlay.lane, roadway, color_asphalt=overlay.color)\n",
    "    return rendermodel\n",
    "end\n",
    "\n",
    "# @manipulate for i in 1 : length(roadway.segments)\n",
    "#     render(scene, roadway, [LaneOverlay(roadway[LaneTag(i,1)], RGBA(0.0,0.0,1.0,0.5))], cam=cam)\n",
    "# end"
   ]
  },
  {
   "cell_type": "markdown",
   "metadata": {},
   "source": [
    "### Navigate in the new road network"
   ]
  },
  {
   "cell_type": "markdown",
   "metadata": {},
   "source": [
    "Let's populate the intersection"
   ]
  },
  {
   "cell_type": "code",
   "execution_count": 8,
   "metadata": {
    "collapsed": false
   },
   "outputs": [
    {
     "data": {
      "image/png": "[encoded data removed]",
      "text/plain": [
       "Cairo.CairoSurface{UInt32}(Ptr{Void} @0x0000000004734d60, 1000.0, 600.0, #undef)"
      ]
     },
     "execution_count": 8,
     "metadata": {},
     "output_type": "execute_result"
    }
   ],
   "source": [
    "scene = Scene()\n",
    "vs0 = RoadwayState(B + polar(50.0,-π), roadway, 8.0) # initial state of the vehicle\n",
    "push!(scene, Vehicle(vs0, BoundingBoxDef(), 1)) # add vehicle with the default type\n",
    "\n",
    "render(scene, roadway, cam=cam)"
   ]
  },
  {
   "cell_type": "markdown",
   "metadata": {},
   "source": [
    "We will use lateral and longitudinal acceleration to control a car in the intersection. The first step is to define a corresponding action type that will contain the acceleration inputs."
   ]
  },
  {
   "cell_type": "code",
   "execution_count": 9,
   "metadata": {
    "collapsed": false
   },
   "outputs": [],
   "source": [
    "immutable LaneSpecificAccelLatLon\n",
    "    a_lat::Float64\n",
    "    a_lon::Float64\n",
    "end"
   ]
  },
  {
   "cell_type": "markdown",
   "metadata": {},
   "source": [
    "Next, add a method to the propagate function to update the state using our new action type. \n",
    "\n",
    "\n",
    "**Note:** There is an existing propagate method to update the state using lateral and longitudinal acceleration. (it is used in line 3)"
   ]
  },
  {
   "cell_type": "code",
   "execution_count": 13,
   "metadata": {
    "collapsed": false
   },
   "outputs": [],
   "source": [
    "function AutomotiveDrivingModels.propagate(veh::Vehicle, action::LaneSpecificAccelLatLon, roadway::Roadway, Δt::Float64)\n",
    "    lane_tag_orig = veh.state.tag\n",
    "    state = propagate(veh, LatLonAccel(action.a_lat, action.a_lon), roadway, Δt)\n",
    "    roadproj = proj(state.posG, roadway[lane_tag_orig], roadway, move_along_curves=false)\n",
    "    retval = RoadwayState(roadproj, roadway, state.v)\n",
    "    return retval\n",
    "end"
   ]
  },
  {
   "cell_type": "markdown",
   "metadata": {},
   "source": [
    "**Driver Model:**\n",
    "\n",
    "We define a driver model, which can be seen as a distribution over actions. Here we will define the simplest model, which is to repeat the same action."
   ]
  },
  {
   "cell_type": "code",
   "execution_count": 14,
   "metadata": {
    "collapsed": false
   },
   "outputs": [],
   "source": [
    "type CrosswalkDriver <: DriverModel{LaneSpecificAccelLatLon}\n",
    "    a::LaneSpecificAccelLatLon\n",
    "end\n",
    "AutomotiveDrivingModels.get_name(model::CrosswalkDriver) = \"CrosswalkDriver\"\n",
    "AutomotiveDrivingModels.observe!(model::CrosswalkDriver, ::Scene, ::Roadway, ::Int) = model\n",
    "Base.rand(model::CrosswalkDriver) = model.a"
   ]
  },
  {
   "cell_type": "markdown",
   "metadata": {},
   "source": [
    "**Simulate: **\n",
    "\n",
    "First associate a model to each driver in the scene using a dictionnary. Here we only have one driver identified by its ID: 1. Then everything is ready to run the ```simulate!``` function."
   ]
  },
  {
   "cell_type": "code",
   "execution_count": 15,
   "metadata": {
    "collapsed": false
   },
   "outputs": [
    {
     "data": {
      "text/html": [],
      "text/plain": [
       "Interact.Options{:SelectionSlider,Any}(5: \"input-2\" = 51 Any , \"frame_index\", 51, \"51\", 51, Interact.OptionDict(DataStructures.OrderedDict{Any,Any}(\"1\"=>1,\"2\"=>2,\"3\"=>3,\"4\"=>4,\"5\"=>5,\"6\"=>6,\"7\"=>7,\"8\"=>8,\"9\"=>9,\"10\"=>10…), Dict{Any,Any}(Pair{Any,Any}(68, \"68\"),Pair{Any,Any}(2, \"2\"),Pair{Any,Any}(89, \"89\"),Pair{Any,Any}(11, \"11\"),Pair{Any,Any}(39, \"39\"),Pair{Any,Any}(46, \"46\"),Pair{Any,Any}(85, \"85\"),Pair{Any,Any}(25, \"25\"),Pair{Any,Any}(55, \"55\"),Pair{Any,Any}(42, \"42\")…)), Any[], Any[], true, \"horizontal\")"
      ]
     },
     "metadata": {},
     "output_type": "display_data"
    },
    {
     "data": {
      "image/png": "[encoded data removed]",
      "text/plain": [
       "Cairo.CairoSurface{UInt32}(Ptr{Void} @0x0000000004ca0580, 1000.0, 600.0, #undef)"
      ]
     },
     "execution_count": 15,
     "metadata": {
      "comm_id": "2166329d-69dc-4720-ba12-a73536028100",
      "reactive": true
     },
     "output_type": "execute_result"
    }
   ],
   "source": [
    "timestep = 0.1\n",
    "\n",
    "models = Dict{Int, DriverModel}()\n",
    "# constant speed model\n",
    "models[1] = CrosswalkDriver(LaneSpecificAccelLatLon(0.0,0.0))\n",
    "\n",
    "nticks = 100\n",
    "rec = QueueRecord(Vehicle, nticks+1, timestep)\n",
    "simulate!(rec, scene, roadway, models, nticks)\n",
    "\n",
    "# interactive visualization\n",
    "# @manipulate for frame_index in 1 : nframes(rec)\n",
    "#     render(rec[frame_index-nframes(rec)], roadway, cam=cam)\n",
    "# end"
   ]
  },
  {
   "cell_type": "markdown",
   "metadata": {},
   "source": [
    "## Crosswalk Example"
   ]
  },
  {
   "cell_type": "markdown",
   "metadata": {},
   "source": [
    "In this second example we demonstrate how to define a crosswalk area as well as a pedestrian agent type.\n",
    "\n",
    "We define a new concrete type that will contain the roadway (where cars drive) and the crosswalk definition which is just a regular lane."
   ]
  },
  {
   "cell_type": "code",
   "execution_count": 16,
   "metadata": {
    "collapsed": false
   },
   "outputs": [],
   "source": [
    "type CrosswalkEnv\n",
    "    roadway::Roadway\n",
    "    crosswalk::Lane\n",
    "end"
   ]
  },
  {
   "cell_type": "markdown",
   "metadata": {},
   "source": [
    "The crosswalk lane consists of a straight road segment perpendicular to the road. We will define the roadway just as a straight road."
   ]
  },
  {
   "cell_type": "code",
   "execution_count": 17,
   "metadata": {
    "collapsed": false
   },
   "outputs": [],
   "source": [
    "# Define crosswalk\n",
    "crosswalk = Lane(LaneTag(1,1), gen_straight_curve(VecE2(25.0, -10.0), VecE2(25.0, 10.0), 2), width=6.0)\n",
    "\n",
    "# Generate straight roadway of length 50 with 2 lanes\n",
    "roadway = gen_straight_roadway(2, 50.) \n",
    "\n",
    "# initialize crosswalk environment\n",
    "env = CrosswalkEnv(roadway, crosswalk);"
   ]
  },
  {
   "cell_type": "markdown",
   "metadata": {},
   "source": [
    "We will define a new method to render this new environment. The roadway part is just rendered regularly, we add specific instuction for the crossswalk part that will display the white stripes."
   ]
  },
  {
   "cell_type": "code",
   "execution_count": 18,
   "metadata": {
    "collapsed": false
   },
   "outputs": [],
   "source": [
    "function AutoViz.render!(rendermodel::RenderModel, env::CrosswalkEnv)\n",
    "    render!(rendermodel, env.roadway)\n",
    "    \n",
    "    curve = env.crosswalk.curve\n",
    "    n = length(curve)\n",
    "    pts = Array{Float64}(2, n)\n",
    "    for (i,pt) in enumerate(curve)\n",
    "        pts[1,i] = pt.pos.x\n",
    "        pts[2,i] = pt.pos.y\n",
    "    end\n",
    "\n",
    "    add_instruction!(rendermodel, render_dashed_line, (pts, colorant\"white\", env.crosswalk.width, 1.0, 1.0, 0.0, Cairo.CAIRO_LINE_CAP_BUTT))\n",
    "    return rendermodel\n",
    "end"
   ]
  },
  {
   "cell_type": "code",
   "execution_count": 19,
   "metadata": {
    "collapsed": false
   },
   "outputs": [
    {
     "data": {
      "image/png": "[encoded data removed]",
      "text/plain": [
       "Cairo.CairoSurface{UInt32}(Ptr{Void} @0x0000000005447ec0, 1000.0, 600.0, #undef)"
      ]
     },
     "execution_count": 19,
     "metadata": {},
     "output_type": "execute_result"
    }
   ],
   "source": [
    "cam = FitToContentCamera(0.0)\n",
    "render(env, cam = cam)"
   ]
  },
  {
   "cell_type": "markdown",
   "metadata": {},
   "source": [
    "### Navigate the crosswalk example"
   ]
  },
  {
   "cell_type": "markdown",
   "metadata": {},
   "source": [
    "Cars will be navigating in the roadway just as before. For the pedestrian we can define a new vehicle definition where we specify the size of the bounding box represented by the pedestrian."
   ]
  },
  {
   "cell_type": "code",
   "execution_count": 22,
   "metadata": {
    "collapsed": false
   },
   "outputs": [
    {
     "data": {
      "text/plain": [
       "3-element Array{Symbol,1}:\n",
       " :class\n",
       " :len  \n",
       " :wid  "
      ]
     },
     "execution_count": 22,
     "metadata": {},
     "output_type": "execute_result"
    }
   ],
   "source": [
    "# field of the BoundingBoxDef type\n",
    "fieldnames(BoundingBoxDef)"
   ]
  },
  {
   "cell_type": "code",
   "execution_count": 23,
   "metadata": {
    "collapsed": false
   },
   "outputs": [
    {
     "data": {
      "text/plain": [
       "BoundingBoxDef(PEDESTRIAN, 1.000, 1.000)"
      ]
     },
     "execution_count": 23,
     "metadata": {},
     "output_type": "execute_result"
    }
   ],
   "source": [
    "# Agent.Class is from AutomotiveDrivingModels\n",
    "const PEDESTRIAN_DEF = BoundingBoxDef(AgentClass.PEDESTRIAN, 1.0, 1.0)"
   ]
  },
  {
   "cell_type": "code",
   "execution_count": 34,
   "metadata": {
    "collapsed": false
   },
   "outputs": [
    {
     "data": {
      "image/png": "[encoded data removed]",
      "text/plain": [
       "Cairo.CairoSurface{UInt32}(Ptr{Void} @0x0000000004d38b40, 1000.0, 600.0, #undef)"
      ]
     },
     "execution_count": 34,
     "metadata": {},
     "output_type": "execute_result"
    }
   ],
   "source": [
    "# Car definition\n",
    "car_initial_state = RoadwayState(VecSE2(5.0, 0.0, 0.0), roadway, 8.0)\n",
    "car = Vehicle(car_initial_state, BoundingBoxDef(), 1)\n",
    "\n",
    "# Pedestrian definition using our new Vehicle definition\n",
    "ped_initial_state = RoadwayState(VecSE2(+24.5,-7.0, π/2), roadway, 0.5)\n",
    "ped = Vehicle(ped_initial_state, PEDESTRIAN_DEF, 2)\n",
    "\n",
    "scene = Scene()\n",
    "push!(scene, car)\n",
    "push!(scene, ped)\n",
    "\n",
    "# visualize the initial state\n",
    "render(scene, env, cam=cam)"
   ]
  },
  {
   "cell_type": "markdown",
   "metadata": {},
   "source": [
    "### Simulate!\n",
    "\n",
    "As before, associate a driver model to each vehicle in the scene. We will use the model defined in the intersection example for both agents."
   ]
  },
  {
   "cell_type": "code",
   "execution_count": 36,
   "metadata": {
    "collapsed": false
   },
   "outputs": [
    {
     "data": {
      "text/html": [],
      "text/plain": [
       "Interact.Options{:SelectionSlider,Any}(9: \"input-3\" = 51 Any , \"frame_index\", 51, \"51\", 51, Interact.OptionDict(DataStructures.OrderedDict{Any,Any}(\"1\"=>1,\"2\"=>2,\"3\"=>3,\"4\"=>4,\"5\"=>5,\"6\"=>6,\"7\"=>7,\"8\"=>8,\"9\"=>9,\"10\"=>10…), Dict{Any,Any}(Pair{Any,Any}(68, \"68\"),Pair{Any,Any}(2, \"2\"),Pair{Any,Any}(89, \"89\"),Pair{Any,Any}(11, \"11\"),Pair{Any,Any}(39, \"39\"),Pair{Any,Any}(46, \"46\"),Pair{Any,Any}(85, \"85\"),Pair{Any,Any}(25, \"25\"),Pair{Any,Any}(55, \"55\"),Pair{Any,Any}(42, \"42\")…)), Any[], Any[], true, \"horizontal\")"
      ]
     },
     "metadata": {},
     "output_type": "display_data"
    },
    {
     "data": {
      "image/png": "[encoded data removed]",
      "text/plain": [
       "Cairo.CairoSurface{UInt32}(Ptr{Void} @0x0000000004cd2480, 1000.0, 600.0, #undef)"
      ]
     },
     "execution_count": 36,
     "metadata": {
      "comm_id": "731d16a1-47e1-4016-b86c-95c6bf4e88ab",
      "reactive": true
     },
     "output_type": "execute_result"
    }
   ],
   "source": [
    "timestep = 0.1\n",
    "\n",
    "models = Dict{Int, DriverModel}()\n",
    "# Constant speed model\n",
    "models[1] = CrosswalkDriver(LaneSpecificAccelLatLon(0.0,0.0)) \n",
    "models[2] = CrosswalkDriver(LaneSpecificAccelLatLon(0.0,0.0))\n",
    "\n",
    "nticks = 100\n",
    "rec = QueueRecord(Vehicle, nticks+1, timestep)\n",
    "# execute the simulation\n",
    "simulate!(rec, scene, roadway, models, nticks)\n",
    "\n",
    "#interactive visualization\n",
    "# using Interact\n",
    "# @manipulate for frame_index in 1 : nframes(rec)\n",
    "#     render(rec[frame_index-nframes(rec)], env, cam=cam)\n",
    "# end"
   ]
  },
  {
   "cell_type": "code",
   "execution_count": null,
   "metadata": {
    "collapsed": true
   },
   "outputs": [],
   "source": []
  }
 ],
 "metadata": {
  "anaconda-cloud": {},
  "kernelspec": {
   "display_name": "Julia 0.6.0",
   "language": "julia",
   "name": "julia-0.6"
  },
  "language_info": {
   "file_extension": ".jl",
   "mimetype": "application/julia",
   "name": "julia",
   "version": "0.6.0"
  },
  "widgets": {
   "state": {
    "22706db3-34f8-4bb5-8948-8f03e8b576de": {
     "views": [
      {
       "cell_index": 40
      }
     ]
    },
    "5cb81bff-ba9c-4dc2-9d41-b6cb2c300332": {
     "views": [
      {
       "cell_index": 14
      }
     ]
    },
    "abaae3bd-afb4-4e28-baab-09619c3820fc": {
     "views": [
      {
       "cell_index": 25
      }
     ]
    }
   },
   "version": "1.2.0"
  }
 },
 "nbformat": 4,
 "nbformat_minor": 1
}
